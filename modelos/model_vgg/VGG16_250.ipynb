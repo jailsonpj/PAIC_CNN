{
 "cells": [
  {
   "cell_type": "code",
   "execution_count": 1,
   "metadata": {},
   "outputs": [
    {
     "name": "stderr",
     "output_type": "stream",
     "text": [
      "Using TensorFlow backend.\n"
     ]
    }
   ],
   "source": [
    "import numpy as np\n",
    "import matplotlib.pyplot as plt\n",
    "import os\n",
    "import keras\n",
    "from keras.utils.np_utils import to_categorical\n",
    "from keras.optimizers import Adam, SGD\n",
    "from keras.models import Sequential\n",
    "from keras.layers import Conv2D,MaxPool2D,Flatten,Dense,Dropout,GlobalAveragePooling2D\n",
    "from keras.callbacks import ReduceLROnPlateau\n",
    "from keras.preprocessing.image import ImageDataGenerator\n",
    "from keras.preprocessing import image\n",
    "from keras.applications.vgg16 import preprocess_input\n",
    "from keras.models import Model\n",
    "from PIL import Image\n",
    "\n",
    "#Escolhendo GPU: no caso de rodar no srv multigpu, escolher 0 ou 1\n",
    "#Não pareceu funcionar\n",
    "os.environ[\"CUDA_DEVICE_ORDER\"]=\"PCI_BUS_ID\"\n",
    "os.environ[\"CUDA_VISIBLE_DEVICES\"]=\"1\"\n",
    "\n",
    "#Reports\n",
    "from sklearn.metrics import classification_report, confusion_matrix\n",
    "# Preprocessing\n",
    "from sklearn.model_selection import train_test_split\n",
    "from sklearn.preprocessing import LabelEncoder, StandardScaler\n",
    "from keras.models import load_model\n",
    "\n",
    "import warnings\n",
    "warnings.filterwarnings('ignore')\n"
   ]
  },
  {
   "cell_type": "code",
   "execution_count": 2,
   "metadata": {},
   "outputs": [],
   "source": [
    "vgg16_model=keras.applications.vgg16.VGG16(weights='imagenet',include_top=False)"
   ]
  },
  {
   "cell_type": "code",
   "execution_count": 3,
   "metadata": {},
   "outputs": [],
   "source": [
    "x = vgg16_model.output\n",
    "x = GlobalAveragePooling2D()(x)\n",
    "x = Dense(1024,activation='relu')(x)\n",
    "x = Dense(1024,activation='relu')(x)\n",
    "x = Dense(512,activation='relu')(x)\n",
    "preds = Dense(2,activation='softmax')(x)"
   ]
  },
  {
   "cell_type": "code",
   "execution_count": 4,
   "metadata": {},
   "outputs": [],
   "source": [
    "model = Model(inputs=vgg16_model.input,output=preds)"
   ]
  },
  {
   "cell_type": "code",
   "execution_count": 5,
   "metadata": {},
   "outputs": [],
   "source": [
    "BATCH_SIZE = 32\n",
    "TRAINING_DIR = '/home/jailsonpereira/paic/dataset_2/treino/'"
   ]
  },
  {
   "cell_type": "code",
   "execution_count": 6,
   "metadata": {},
   "outputs": [
    {
     "name": "stdout",
     "output_type": "stream",
     "text": [
      "Found 1080 images belonging to 2 classes.\n",
      "Found 120 images belonging to 2 classes.\n"
     ]
    }
   ],
   "source": [
    "data_generator=ImageDataGenerator(preprocessing_function=preprocess_input,validation_split=0.1)\n",
    "\n",
    "train_generator=data_generator.flow_from_directory(TRAINING_DIR,\n",
    "                                                 target_size=(224,224),\n",
    "                                                 color_mode='rgb',\n",
    "                                                 batch_size=BATCH_SIZE,\n",
    "                                                 class_mode='categorical',\n",
    "                                                 shuffle=True,subset='training')\n",
    "\n",
    "validation_generator=data_generator.flow_from_directory(TRAINING_DIR,\n",
    "                                                 target_size=(224,224),\n",
    "                                                 color_mode='rgb',\n",
    "                                                 batch_size=BATCH_SIZE,\n",
    "                                                 class_mode='categorical',\n",
    "                                                 shuffle=True,subset='validation')\n",
    "\n",
    "nb_train_samples = train_generator.samples\n",
    "nb_validation_samples = validation_generator.samples"
   ]
  },
  {
   "cell_type": "code",
   "execution_count": 7,
   "metadata": {},
   "outputs": [],
   "source": [
    "sgd = SGD(lr=0.01, decay=1e-6, momentum=0.9, nesterov=True)\n",
    "model.compile(optimizer=sgd, loss='categorical_crossentropy', metrics=[\"accuracy\"])"
   ]
  },
  {
   "cell_type": "code",
   "execution_count": 8,
   "metadata": {},
   "outputs": [],
   "source": [
    "callbacks_list = [\n",
    "    keras.callbacks.ModelCheckpoint(\n",
    "        filepath='CNN_Ince_aval_7.0_best_model.h5', #.{epoch:02d}-{val_loss:.2f}\n",
    "        monitor='val_loss', save_best_only=True, verbose=1),\n",
    "    keras.callbacks.EarlyStopping(monitor='val_loss', patience=50,verbose=1)\n",
    "]"
   ]
  },
  {
   "cell_type": "code",
   "execution_count": 9,
   "metadata": {},
   "outputs": [
    {
     "name": "stdout",
     "output_type": "stream",
     "text": [
      "Epoch 1/250\n",
      "33/33 [==============================] - 21s 622ms/step - loss: 7.8669 - acc: 0.5019 - val_loss: 8.2269 - val_acc: 0.4896\n",
      "\n",
      "Epoch 00001: val_loss improved from inf to 8.22694, saving model to CNN_Ince_aval_7.0_best_model.h5\n",
      "Epoch 2/250\n",
      "33/33 [==============================] - 19s 574ms/step - loss: 8.0590 - acc: 0.5000 - val_loss: 7.8759 - val_acc: 0.5114\n",
      "\n",
      "Epoch 00002: val_loss improved from 8.22694 to 7.87589, saving model to CNN_Ince_aval_7.0_best_model.h5\n",
      "Epoch 3/250\n",
      "33/33 [==============================] - 19s 585ms/step - loss: 8.0689 - acc: 0.4994 - val_loss: 8.0590 - val_acc: 0.5000\n",
      "\n",
      "Epoch 00003: val_loss did not improve from 7.87589\n",
      "Epoch 4/250\n",
      "33/33 [==============================] - 19s 582ms/step - loss: 8.0083 - acc: 0.5031 - val_loss: 8.0590 - val_acc: 0.5000\n",
      "\n",
      "Epoch 00004: val_loss did not improve from 7.87589\n",
      "Epoch 5/250\n",
      "33/33 [==============================] - 20s 618ms/step - loss: 8.1861 - acc: 0.4921 - val_loss: 8.2269 - val_acc: 0.4896\n",
      "\n",
      "Epoch 00005: val_loss did not improve from 7.87589\n",
      "Epoch 6/250\n",
      "33/33 [==============================] - 18s 552ms/step - loss: 7.8350 - acc: 0.5139 - val_loss: 8.6085 - val_acc: 0.4659\n",
      "\n",
      "Epoch 00006: val_loss did not improve from 7.87589\n",
      "Epoch 7/250\n",
      "33/33 [==============================] - 20s 607ms/step - loss: 8.3531 - acc: 0.4818 - val_loss: 6.7769 - val_acc: 0.5795\n",
      "\n",
      "Epoch 00007: val_loss improved from 7.87589 to 6.77693, saving model to CNN_Ince_aval_7.0_best_model.h5\n",
      "Epoch 8/250\n",
      "33/33 [==============================] - 19s 588ms/step - loss: 7.9881 - acc: 0.5044 - val_loss: 8.6085 - val_acc: 0.4659\n",
      "\n",
      "Epoch 00008: val_loss did not improve from 6.77693\n",
      "Epoch 9/250\n",
      "33/33 [==============================] - 20s 602ms/step - loss: 8.0941 - acc: 0.4978 - val_loss: 8.3948 - val_acc: 0.4792\n",
      "\n",
      "Epoch 00009: val_loss did not improve from 6.77693\n",
      "Epoch 10/250\n",
      "33/33 [==============================] - 20s 610ms/step - loss: 8.0029 - acc: 0.5035 - val_loss: 7.8759 - val_acc: 0.5114\n",
      "\n",
      "Epoch 00010: val_loss did not improve from 6.77693\n",
      "Epoch 11/250\n",
      "33/33 [==============================] - 19s 580ms/step - loss: 8.2315 - acc: 0.4893 - val_loss: 7.8759 - val_acc: 0.5114\n",
      "\n",
      "Epoch 00011: val_loss did not improve from 6.77693\n",
      "Epoch 12/250\n",
      "33/33 [==============================] - 18s 555ms/step - loss: 8.0285 - acc: 0.5019 - val_loss: 8.0590 - val_acc: 0.5000\n",
      "\n",
      "Epoch 00012: val_loss did not improve from 6.77693\n",
      "Epoch 13/250\n",
      "33/33 [==============================] - 20s 614ms/step - loss: 7.9472 - acc: 0.5069 - val_loss: 8.5627 - val_acc: 0.4688\n",
      "\n",
      "Epoch 00013: val_loss did not improve from 6.77693\n",
      "Epoch 14/250\n",
      "33/33 [==============================] - 20s 603ms/step - loss: 8.0945 - acc: 0.4978 - val_loss: 8.0590 - val_acc: 0.5000\n",
      "\n",
      "Epoch 00014: val_loss did not improve from 6.77693\n",
      "Epoch 15/250\n",
      "33/33 [==============================] - 19s 588ms/step - loss: 8.0132 - acc: 0.5028 - val_loss: 7.5096 - val_acc: 0.5341\n",
      "\n",
      "Epoch 00015: val_loss did not improve from 6.77693\n",
      "Epoch 16/250\n",
      "33/33 [==============================] - 20s 613ms/step - loss: 8.2068 - acc: 0.4908 - val_loss: 8.0590 - val_acc: 0.5000\n",
      "\n",
      "Epoch 00016: val_loss did not improve from 6.77693\n",
      "Epoch 17/250\n",
      "33/33 [==============================] - 19s 564ms/step - loss: 7.8148 - acc: 0.5152 - val_loss: 7.8912 - val_acc: 0.5104\n",
      "\n",
      "Epoch 00017: val_loss did not improve from 6.77693\n",
      "Epoch 18/250\n",
      "33/33 [==============================] - 19s 581ms/step - loss: 8.0492 - acc: 0.5006 - val_loss: 8.7917 - val_acc: 0.4545\n",
      "\n",
      "Epoch 00018: val_loss did not improve from 6.77693\n",
      "Epoch 19/250\n",
      "33/33 [==============================] - 20s 591ms/step - loss: 7.9670 - acc: 0.5057 - val_loss: 7.6927 - val_acc: 0.5227\n",
      "\n",
      "Epoch 00019: val_loss did not improve from 6.77693\n",
      "Epoch 20/250\n",
      "33/33 [==============================] - 18s 555ms/step - loss: 8.1614 - acc: 0.4936 - val_loss: 7.8759 - val_acc: 0.5114\n",
      "\n",
      "Epoch 00020: val_loss did not improve from 6.77693\n",
      "Epoch 21/250\n",
      "33/33 [==============================] - 20s 621ms/step - loss: 8.0029 - acc: 0.5035 - val_loss: 7.7233 - val_acc: 0.5208\n",
      "\n",
      "Epoch 00021: val_loss did not improve from 6.77693\n",
      "Epoch 22/250\n",
      "33/33 [==============================] - 20s 611ms/step - loss: 8.0896 - acc: 0.4981 - val_loss: 9.1580 - val_acc: 0.4318\n",
      "\n",
      "Epoch 00022: val_loss did not improve from 6.77693\n",
      "Epoch 23/250\n",
      "33/33 [==============================] - 19s 565ms/step - loss: 8.2018 - acc: 0.4911 - val_loss: 6.5938 - val_acc: 0.5909\n",
      "\n",
      "Epoch 00023: val_loss improved from 6.77693 to 6.59377, saving model to CNN_Ince_aval_7.0_best_model.h5\n",
      "Epoch 24/250\n",
      "33/33 [==============================] - 21s 621ms/step - loss: 7.9571 - acc: 0.5063 - val_loss: 8.7917 - val_acc: 0.4545\n",
      "\n",
      "Epoch 00024: val_loss did not improve from 6.59377\n",
      "Epoch 25/250\n",
      "33/33 [==============================] - 18s 549ms/step - loss: 8.1102 - acc: 0.4968 - val_loss: 8.5627 - val_acc: 0.4688\n",
      "\n",
      "Epoch 00025: val_loss did not improve from 6.59377\n",
      "Epoch 26/250\n",
      "33/33 [==============================] - 20s 601ms/step - loss: 7.9216 - acc: 0.5085 - val_loss: 8.6085 - val_acc: 0.4659\n",
      "\n",
      "Epoch 00026: val_loss did not improve from 6.59377\n",
      "Epoch 27/250\n",
      "33/33 [==============================] - 20s 593ms/step - loss: 8.1709 - acc: 0.4931 - val_loss: 6.7769 - val_acc: 0.5795\n",
      "\n",
      "Epoch 00027: val_loss did not improve from 6.59377\n",
      "Epoch 28/250\n",
      "33/33 [==============================] - 21s 642ms/step - loss: 7.9773 - acc: 0.5051 - val_loss: 8.2422 - val_acc: 0.4886\n",
      "\n",
      "Epoch 00028: val_loss did not improve from 6.59377\n",
      "Epoch 29/250\n",
      "33/33 [==============================] - 18s 554ms/step - loss: 8.1861 - acc: 0.4921 - val_loss: 7.8912 - val_acc: 0.5104\n",
      "\n",
      "Epoch 00029: val_loss did not improve from 6.59377\n",
      "Epoch 30/250\n",
      "33/33 [==============================] - 19s 583ms/step - loss: 8.1197 - acc: 0.4962 - val_loss: 8.9748 - val_acc: 0.4432\n",
      "\n",
      "Epoch 00030: val_loss did not improve from 6.59377\n",
      "Epoch 31/250\n",
      "33/33 [==============================] - 19s 584ms/step - loss: 7.8808 - acc: 0.5111 - val_loss: 7.3264 - val_acc: 0.5455\n",
      "\n",
      "Epoch 00031: val_loss did not improve from 6.59377\n",
      "Epoch 32/250\n",
      "33/33 [==============================] - 20s 609ms/step - loss: 8.2319 - acc: 0.4893 - val_loss: 8.0590 - val_acc: 0.5000\n",
      "\n",
      "Epoch 00032: val_loss did not improve from 6.59377\n",
      "Epoch 33/250\n",
      "33/33 [==============================] - 19s 573ms/step - loss: 8.0492 - acc: 0.5006 - val_loss: 8.2269 - val_acc: 0.4896\n",
      "\n",
      "Epoch 00033: val_loss did not improve from 6.59377\n",
      "Epoch 34/250\n",
      "33/33 [==============================] - 20s 595ms/step - loss: 8.0384 - acc: 0.5013 - val_loss: 8.0590 - val_acc: 0.5000\n",
      "\n",
      "Epoch 00034: val_loss did not improve from 6.59377\n",
      "Epoch 35/250\n",
      "33/33 [==============================] - 20s 603ms/step - loss: 8.0590 - acc: 0.5000 - val_loss: 8.0590 - val_acc: 0.5000\n",
      "\n",
      "Epoch 00035: val_loss did not improve from 6.59377\n",
      "Epoch 36/250\n",
      "33/33 [==============================] - 19s 587ms/step - loss: 7.9522 - acc: 0.5066 - val_loss: 7.8759 - val_acc: 0.5114\n",
      "\n",
      "Epoch 00036: val_loss did not improve from 6.59377\n",
      "Epoch 37/250\n",
      "33/33 [==============================] - 20s 614ms/step - loss: 8.1497 - acc: 0.4944 - val_loss: 7.5554 - val_acc: 0.5312\n",
      "\n",
      "Epoch 00037: val_loss did not improve from 6.59377\n",
      "Epoch 38/250\n",
      "33/33 [==============================] - 18s 549ms/step - loss: 8.0442 - acc: 0.5009 - val_loss: 9.1580 - val_acc: 0.4318\n",
      "\n",
      "Epoch 00038: val_loss did not improve from 6.59377\n",
      "Epoch 39/250\n",
      "33/33 [==============================] - 20s 619ms/step - loss: 8.0846 - acc: 0.4984 - val_loss: 7.8759 - val_acc: 0.5114\n",
      "\n",
      "Epoch 00039: val_loss did not improve from 6.59377\n",
      "Epoch 40/250\n",
      "33/33 [==============================] - 22s 664ms/step - loss: 8.0285 - acc: 0.5019 - val_loss: 7.6927 - val_acc: 0.5227\n",
      "\n",
      "Epoch 00040: val_loss did not improve from 6.59377\n",
      "Epoch 41/250\n",
      "33/33 [==============================] - 17s 527ms/step - loss: 8.1403 - acc: 0.4950 - val_loss: 7.8912 - val_acc: 0.5104\n",
      "\n",
      "Epoch 00041: val_loss did not improve from 6.59377\n",
      "Epoch 42/250\n",
      "33/33 [==============================] - 21s 643ms/step - loss: 8.0900 - acc: 0.4981 - val_loss: 8.2422 - val_acc: 0.4886\n",
      "\n",
      "Epoch 00042: val_loss did not improve from 6.59377\n",
      "Epoch 43/250\n",
      "33/33 [==============================] - 20s 620ms/step - loss: 7.8965 - acc: 0.5101 - val_loss: 8.6085 - val_acc: 0.4659\n",
      "\n",
      "Epoch 00043: val_loss did not improve from 6.59377\n",
      "Epoch 44/250\n"
     ]
    },
    {
     "name": "stdout",
     "output_type": "stream",
     "text": [
      "33/33 [==============================] - 17s 522ms/step - loss: 8.0384 - acc: 0.5013 - val_loss: 7.5096 - val_acc: 0.5341\n",
      "\n",
      "Epoch 00044: val_loss did not improve from 6.59377\n",
      "Epoch 45/250\n",
      "33/33 [==============================] - 21s 622ms/step - loss: 8.1704 - acc: 0.4931 - val_loss: 8.8985 - val_acc: 0.4479\n",
      "\n",
      "Epoch 00045: val_loss did not improve from 6.59377\n",
      "Epoch 46/250\n",
      "33/33 [==============================] - 20s 601ms/step - loss: 7.7744 - acc: 0.5177 - val_loss: 7.6927 - val_acc: 0.5227\n",
      "\n",
      "Epoch 00046: val_loss did not improve from 6.59377\n",
      "Epoch 47/250\n",
      "33/33 [==============================] - 19s 572ms/step - loss: 8.2571 - acc: 0.4877 - val_loss: 7.5096 - val_acc: 0.5341\n",
      "\n",
      "Epoch 00047: val_loss did not improve from 6.59377\n",
      "Epoch 48/250\n",
      "33/33 [==============================] - 20s 606ms/step - loss: 8.2575 - acc: 0.4877 - val_loss: 8.0590 - val_acc: 0.5000\n",
      "\n",
      "Epoch 00048: val_loss did not improve from 6.59377\n",
      "Epoch 49/250\n",
      "33/33 [==============================] - 20s 594ms/step - loss: 7.9782 - acc: 0.5050 - val_loss: 7.2196 - val_acc: 0.5521\n",
      "\n",
      "Epoch 00049: val_loss did not improve from 6.59377\n",
      "Epoch 50/250\n",
      "33/33 [==============================] - 19s 568ms/step - loss: 8.0900 - acc: 0.4981 - val_loss: 8.0590 - val_acc: 0.5000\n",
      "\n",
      "Epoch 00050: val_loss did not improve from 6.59377\n",
      "Epoch 51/250\n",
      "33/33 [==============================] - 19s 570ms/step - loss: 8.1403 - acc: 0.4950 - val_loss: 8.4254 - val_acc: 0.4773\n",
      "\n",
      "Epoch 00051: val_loss did not improve from 6.59377\n",
      "Epoch 52/250\n",
      "33/33 [==============================] - 20s 603ms/step - loss: 8.1915 - acc: 0.4918 - val_loss: 8.6085 - val_acc: 0.4659\n",
      "\n",
      "Epoch 00052: val_loss did not improve from 6.59377\n",
      "Epoch 53/250\n",
      "33/33 [==============================] - 18s 561ms/step - loss: 7.7187 - acc: 0.5211 - val_loss: 7.8912 - val_acc: 0.5104\n",
      "\n",
      "Epoch 00053: val_loss did not improve from 6.59377\n",
      "Epoch 54/250\n",
      "33/33 [==============================] - 20s 610ms/step - loss: 8.0433 - acc: 0.5010 - val_loss: 8.7917 - val_acc: 0.4545\n",
      "\n",
      "Epoch 00054: val_loss did not improve from 6.59377\n",
      "Epoch 55/250\n",
      "33/33 [==============================] - 20s 614ms/step - loss: 8.0388 - acc: 0.5013 - val_loss: 8.0590 - val_acc: 0.5000\n",
      "\n",
      "Epoch 00055: val_loss did not improve from 6.59377\n",
      "Epoch 56/250\n",
      "33/33 [==============================] - 19s 588ms/step - loss: 8.0438 - acc: 0.5009 - val_loss: 7.5096 - val_acc: 0.5341\n",
      "\n",
      "Epoch 00056: val_loss did not improve from 6.59377\n",
      "Epoch 57/250\n",
      "33/33 [==============================] - 20s 612ms/step - loss: 7.8507 - acc: 0.5129 - val_loss: 8.5627 - val_acc: 0.4688\n",
      "\n",
      "Epoch 00057: val_loss did not improve from 6.59377\n",
      "Epoch 58/250\n",
      "33/33 [==============================] - 18s 556ms/step - loss: 8.5471 - acc: 0.4697 - val_loss: 8.2422 - val_acc: 0.4886\n",
      "\n",
      "Epoch 00058: val_loss did not improve from 6.59377\n",
      "Epoch 59/250\n",
      "33/33 [==============================] - 20s 619ms/step - loss: 7.9468 - acc: 0.5070 - val_loss: 7.3264 - val_acc: 0.5455\n",
      "\n",
      "Epoch 00059: val_loss did not improve from 6.59377\n",
      "Epoch 60/250\n",
      "33/33 [==============================] - 18s 540ms/step - loss: 8.0851 - acc: 0.4984 - val_loss: 8.0590 - val_acc: 0.5000\n",
      "\n",
      "Epoch 00060: val_loss did not improve from 6.59377\n",
      "Epoch 61/250\n",
      "33/33 [==============================] - 21s 622ms/step - loss: 8.0846 - acc: 0.4984 - val_loss: 8.0590 - val_acc: 0.5000\n",
      "\n",
      "Epoch 00061: val_loss did not improve from 6.59377\n",
      "Epoch 62/250\n",
      "33/33 [==============================] - 19s 583ms/step - loss: 7.9320 - acc: 0.5079 - val_loss: 8.2422 - val_acc: 0.4886\n",
      "\n",
      "Epoch 00062: val_loss did not improve from 6.59377\n",
      "Epoch 63/250\n",
      "33/33 [==============================] - 20s 601ms/step - loss: 7.9113 - acc: 0.5092 - val_loss: 7.8759 - val_acc: 0.5114\n",
      "\n",
      "Epoch 00063: val_loss did not improve from 6.59377\n",
      "Epoch 64/250\n",
      "33/33 [==============================] - 18s 555ms/step - loss: 8.1960 - acc: 0.4915 - val_loss: 8.0590 - val_acc: 0.5000\n",
      "\n",
      "Epoch 00064: val_loss did not improve from 6.59377\n",
      "Epoch 65/250\n",
      "33/33 [==============================] - 20s 613ms/step - loss: 8.1915 - acc: 0.4918 - val_loss: 8.5627 - val_acc: 0.4688\n",
      "\n",
      "Epoch 00065: val_loss did not improve from 6.59377\n",
      "Epoch 66/250\n",
      "33/33 [==============================] - 19s 586ms/step - loss: 7.9266 - acc: 0.5082 - val_loss: 6.9601 - val_acc: 0.5682\n",
      "\n",
      "Epoch 00066: val_loss did not improve from 6.59377\n",
      "Epoch 67/250\n",
      "33/33 [==============================] - 20s 602ms/step - loss: 8.0640 - acc: 0.4997 - val_loss: 7.8759 - val_acc: 0.5114\n",
      "\n",
      "Epoch 00067: val_loss did not improve from 6.59377\n",
      "Epoch 68/250\n",
      "33/33 [==============================] - 19s 588ms/step - loss: 8.0793 - acc: 0.4987 - val_loss: 8.7917 - val_acc: 0.4545\n",
      "\n",
      "Epoch 00068: val_loss did not improve from 6.59377\n",
      "Epoch 69/250\n",
      "33/33 [==============================] - 20s 595ms/step - loss: 8.0896 - acc: 0.4981 - val_loss: 7.5554 - val_acc: 0.5312\n",
      "\n",
      "Epoch 00069: val_loss did not improve from 6.59377\n",
      "Epoch 70/250\n",
      "33/33 [==============================] - 19s 590ms/step - loss: 7.9576 - acc: 0.5063 - val_loss: 9.3412 - val_acc: 0.4205\n",
      "\n",
      "Epoch 00070: val_loss did not improve from 6.59377\n",
      "Epoch 71/250\n",
      "33/33 [==============================] - 20s 591ms/step - loss: 8.1251 - acc: 0.4959 - val_loss: 6.9601 - val_acc: 0.5682\n",
      "\n",
      "Epoch 00071: val_loss did not improve from 6.59377\n",
      "Epoch 72/250\n",
      "33/33 [==============================] - 19s 570ms/step - loss: 8.0038 - acc: 0.5034 - val_loss: 8.4254 - val_acc: 0.4773\n",
      "\n",
      "Epoch 00072: val_loss did not improve from 6.59377\n",
      "Epoch 73/250\n",
      "33/33 [==============================] - 19s 583ms/step - loss: 7.9926 - acc: 0.5041 - val_loss: 7.7233 - val_acc: 0.5208\n",
      "\n",
      "Epoch 00073: val_loss did not improve from 6.59377\n",
      "Epoch 00073: early stopping\n"
     ]
    }
   ],
   "source": [
    "history = model.fit_generator(\n",
    "        train_generator,\n",
    "        steps_per_epoch=nb_train_samples // BATCH_SIZE,\n",
    "        epochs=250,\n",
    "        callbacks=callbacks_list,\n",
    "        validation_data=validation_generator,\n",
    "        validation_steps=nb_validation_samples // BATCH_SIZE)"
   ]
  },
  {
   "cell_type": "markdown",
   "metadata": {},
   "source": [
    "### FALTA AVALIAR"
   ]
  },
  {
   "cell_type": "code",
   "execution_count": 10,
   "metadata": {},
   "outputs": [
    {
     "data": {
      "image/png": "[encoded data removed]",
      "text/plain": [
       "<Figure size 720x720 with 2 Axes>"
      ]
     },
     "metadata": {
      "needs_background": "light"
     },
     "output_type": "display_data"
    }
   ],
   "source": [
    "#Visualização do treino\n",
    "import matplotlib.pyplot as plt\n",
    "history_dict = history.history\n",
    "loss_values = history_dict['loss']\n",
    "val_loss_values = history_dict['val_loss']\n",
    "\n",
    "epochs_x = range(1, len(loss_values) + 1)\n",
    "plt.figure(figsize=(10,10))\n",
    "plt.subplot(2,1,1)\n",
    "plt.plot(epochs_x, loss_values, 'bo', label='Training loss')\n",
    "plt.plot(epochs_x, val_loss_values, 'b', label='Validation loss')\n",
    "plt.title('Training and validation Loss and Accuracy')\n",
    "plt.xlabel('Epochs')\n",
    "plt.ylabel('Loss')\n",
    "#plt.legend()\n",
    "plt.subplot(2,1,2)\n",
    "acc_values = history_dict['acc']\n",
    "val_acc_values = history_dict['val_acc']\n",
    "plt.plot(epochs_x, acc_values, 'bo', label='Training acc')\n",
    "plt.plot(epochs_x, val_acc_values, 'b', label='Validation acc')\n",
    "#plt.title('Training and validation accuracy')\n",
    "plt.xlabel('Epochs')\n",
    "plt.ylabel('Acc')\n",
    "plt.legend()\n",
    "plt.show()"
   ]
  },
  {
   "cell_type": "code",
   "execution_count": null,
   "metadata": {},
   "outputs": [],
   "source": [
    "loss_values[116]"
   ]
  },
  {
   "cell_type": "code",
   "execution_count": null,
   "metadata": {},
   "outputs": [],
   "source": []
  },
  {
   "cell_type": "code",
   "execution_count": null,
   "metadata": {},
   "outputs": [],
   "source": []
  },
  {
   "cell_type": "markdown",
   "metadata": {},
   "source": [
    "# Avaliação"
   ]
  },
  {
   "cell_type": "code",
   "execution_count": 11,
   "metadata": {},
   "outputs": [],
   "source": [
    "from keras.preprocessing.image import ImageDataGenerator"
   ]
  },
  {
   "cell_type": "code",
   "execution_count": 12,
   "metadata": {},
   "outputs": [],
   "source": [
    "model = load_model('CNN_Ince_aval_7.0_best_model.h5')"
   ]
  },
  {
   "cell_type": "code",
   "execution_count": 13,
   "metadata": {},
   "outputs": [
    {
     "name": "stdout",
     "output_type": "stream",
     "text": [
      "Found 400 images belonging to 2 classes.\n"
     ]
    }
   ],
   "source": [
    "test_dir = '../dataset_2/teste'\n",
    "test_datagen = ImageDataGenerator(preprocessing_function=preprocess_input)\n",
    "\n",
    "test_generator = test_datagen.flow_from_directory(\n",
    "        test_dir,\n",
    "        target_size=(224, 224),\n",
    "        color_mode=\"rgb\",\n",
    "        shuffle = False,\n",
    "        class_mode='categorical',\n",
    "        batch_size=1)\n",
    "\n",
    "filenames = test_generator.filenames\n",
    "nb_samples = len(filenames)"
   ]
  },
  {
   "cell_type": "code",
   "execution_count": 14,
   "metadata": {},
   "outputs": [],
   "source": [
    "predict = model.predict_generator(test_generator,steps = nb_samples)"
   ]
  },
  {
   "cell_type": "code",
   "execution_count": 15,
   "metadata": {},
   "outputs": [],
   "source": [
    "y_pred = np.argmax(predict,axis=1)\n"
   ]
  },
  {
   "cell_type": "code",
   "execution_count": 16,
   "metadata": {},
   "outputs": [
    {
     "data": {
      "text/plain": [
       "400"
      ]
     },
     "execution_count": 16,
     "metadata": {},
     "output_type": "execute_result"
    }
   ],
   "source": [
    "len(y_pred)"
   ]
  },
  {
   "cell_type": "code",
   "execution_count": 17,
   "metadata": {},
   "outputs": [
    {
     "name": "stdout",
     "output_type": "stream",
     "text": [
      "[[  0 200]\n",
      " [  0 200]]\n"
     ]
    }
   ],
   "source": [
    "print(confusion_matrix(test_generator.classes,y_pred))"
   ]
  },
  {
   "cell_type": "code",
   "execution_count": 18,
   "metadata": {},
   "outputs": [],
   "source": [
    "#!pip install seaborn"
   ]
  },
  {
   "cell_type": "code",
   "execution_count": 19,
   "metadata": {},
   "outputs": [
    {
     "data": {
      "text/plain": [
       "<matplotlib.axes._subplots.AxesSubplot at 0x7f37d50544a8>"
      ]
     },
     "execution_count": 19,
     "metadata": {},
     "output_type": "execute_result"
    },
    {
     "data": {
      "image/png": "[encoded data removed]",
      "text/plain": [
       "<Figure size 432x288 with 2 Axes>"
      ]
     },
     "metadata": {
      "needs_background": "light"
     },
     "output_type": "display_data"
    }
   ],
   "source": [
    "#Confusion MKatrix\n",
    "import seaborn as sns\n",
    "classes = 'arco no_arco'.split()\n",
    "sns.heatmap(confusion_matrix(test_generator.classes,y_pred),annot=True, xticklabels=classes, yticklabels=classes)"
   ]
  },
  {
   "cell_type": "code",
   "execution_count": 20,
   "metadata": {},
   "outputs": [
    {
     "name": "stdout",
     "output_type": "stream",
     "text": [
      "Classification Report\n",
      "              precision    recall  f1-score   support\n",
      "\n",
      "        arco       0.00      0.00      0.00       200\n",
      "     no_arco       0.50      1.00      0.67       200\n",
      "\n",
      "   micro avg       0.50      0.50      0.50       400\n",
      "   macro avg       0.25      0.50      0.33       400\n",
      "weighted avg       0.25      0.50      0.33       400\n",
      "\n"
     ]
    }
   ],
   "source": [
    "print('Classification Report')\n",
    "print(classification_report(test_generator.classes, y_pred, target_names=classes))"
   ]
  },
  {
   "cell_type": "code",
   "execution_count": 21,
   "metadata": {},
   "outputs": [
    {
     "name": "stdout",
     "output_type": "stream",
     "text": [
      "Total de exemplos: 400\n",
      "Loss de Teste: 8.059047758579261\n",
      "Acurácia de Teste: 0.5\n"
     ]
    }
   ],
   "source": [
    "#t_ini = time.time()\n",
    "#y_pred = model.predict_generator(x_test)\n",
    "#t_fim = time.time()\n",
    "print(\"Total de exemplos: \"+ str(len(test_generator)))\n",
    "#print(\"Tempo por exemplo: \"+str((t_fim - t_ini)/len(x_test)))\n",
    "\n",
    "#model.predict_generator(test_generator,steps = nb_samples)\n",
    "\n",
    "score = model.evaluate_generator(test_generator, steps = nb_samples)\n",
    "print('Loss de Teste:', score[0])\n",
    "print('Acurácia de Teste:', score[1])"
   ]
  },
  {
   "cell_type": "code",
   "execution_count": null,
   "metadata": {},
   "outputs": [],
   "source": [
    "score = history.model.evaluate_generator(train_generator,steps=nb_train_samples)"
   ]
  },
  {
   "cell_type": "code",
   "execution_count": null,
   "metadata": {},
   "outputs": [],
   "source": []
  }
 ],
 "metadata": {
  "kernelspec": {
   "display_name": "Python 3",
   "language": "python",
   "name": "python3"
  },
  "language_info": {
   "codemirror_mode": {
    "name": "ipython",
    "version": 3
   },
   "file_extension": ".py",
   "mimetype": "text/x-python",
   "name": "python",
   "nbconvert_exporter": "python",
   "pygments_lexer": "ipython3",
   "version": "3.6.8"
  }
 },
 "nbformat": 4,
 "nbformat_minor": 2
}
