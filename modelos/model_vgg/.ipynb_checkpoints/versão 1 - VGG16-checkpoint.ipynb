{
 "cells": [
  {
   "cell_type": "code",
   "execution_count": 26,
   "metadata": {},
   "outputs": [],
   "source": [
    "import numpy as np\n",
    "import matplotlib.pyplot as plt\n",
    "import os\n",
    "import seaborn\n",
    "import cv2\n",
    "import random\n",
    "\n",
    "from sklearn.preprocessing import LabelEncoder\n",
    "from sklearn.model_selection import train_test_split\n",
    "from sklearn.metrics import confusion_matrix\n",
    "\n",
    "import tensorflow as tf\n",
    "import keras\n",
    "from keras.utils.np_utils import to_categorical\n",
    "from keras.optimizers import RMSprop\n",
    "from keras.models import Sequential\n",
    "from keras.layers import Conv2D,MaxPool2D,Flatten,Dense,Dropout\n",
    "from keras.callbacks import ReduceLROnPlateau\n",
    "from keras.preprocessing.image import ImageDataGenerator\n",
    "from imutils import paths\n",
    "from keras import metrics"
   ]
  },
  {
   "cell_type": "code",
   "execution_count": 4,
   "metadata": {},
   "outputs": [
    {
     "name": "stdout",
     "output_type": "stream",
     "text": [
      "(223, 64, 64, 3)\n"
     ]
    }
   ],
   "source": [
    "data = []\n",
    "labels = []\n",
    "\n",
    "imagePaths = sorted(list(paths.list_images('/home/jailsonpereira/PAIC_CNN/dataset')))\n",
    "random.seed(42)\n",
    "random.shuffle(imagePaths)\n",
    "\n",
    "for imagePath in imagePaths:\n",
    "    image = cv2.imread(imagePath)\n",
    "    image = cv2.resize(image,(64,64))\n",
    "    data.append(image)\n",
    "    \n",
    "    label = imagePath.split(os.path.sep)[-2]\n",
    "    labels.append(label)\n",
    "    \n",
    "\n",
    "data = np.array(data,dtype='float32')/255\n",
    "labels = np.array(labels)\n",
    "print(data.shape)"
   ]
  },
  {
   "cell_type": "code",
   "execution_count": 5,
   "metadata": {},
   "outputs": [],
   "source": [
    "le=LabelEncoder()\n",
    "labels=le.fit_transform(labels)\n",
    "labels=to_categorical(labels,num_classes=2)"
   ]
  },
  {
   "cell_type": "code",
   "execution_count": 6,
   "metadata": {},
   "outputs": [],
   "source": [
    "X_train,X_val,Y_train,Y_val=train_test_split(data,labels,test_size=0.1)"
   ]
  },
  {
   "cell_type": "code",
   "execution_count": 7,
   "metadata": {},
   "outputs": [],
   "source": [
    "vgg16_model=keras.applications.vgg16.VGG16(include_top=False,input_shape=(64,64,3))"
   ]
  },
  {
   "cell_type": "code",
   "execution_count": 14,
   "metadata": {},
   "outputs": [
    {
     "data": {
      "text/plain": [
       "[<keras.engine.input_layer.InputLayer at 0x7f8448599fd0>,\n",
       " <keras.layers.convolutional.Conv2D at 0x7f84707dca20>,\n",
       " <keras.layers.convolutional.Conv2D at 0x7f84707dc8d0>,\n",
       " <keras.layers.pooling.MaxPooling2D at 0x7f84485b3048>,\n",
       " <keras.layers.convolutional.Conv2D at 0x7f84485b3fd0>,\n",
       " <keras.layers.convolutional.Conv2D at 0x7f84484f91d0>,\n",
       " <keras.layers.pooling.MaxPooling2D at 0x7f844851b160>,\n",
       " <keras.layers.convolutional.Conv2D at 0x7f844851bc88>,\n",
       " <keras.layers.convolutional.Conv2D at 0x7f84484cf278>,\n",
       " <keras.layers.convolutional.Conv2D at 0x7f844846c0b8>,\n",
       " <keras.layers.pooling.MaxPooling2D at 0x7f8448488358>,\n",
       " <keras.layers.convolutional.Conv2D at 0x7f84484889b0>,\n",
       " <keras.layers.convolutional.Conv2D at 0x7f8448427898>,\n",
       " <keras.layers.convolutional.Conv2D at 0x7f8448445208>,\n",
       " <keras.layers.pooling.MaxPooling2D at 0x7f84483f20b8>,\n",
       " <keras.layers.convolutional.Conv2D at 0x7f84483f2710>,\n",
       " <keras.layers.convolutional.Conv2D at 0x7f84484165f8>,\n",
       " <keras.layers.convolutional.Conv2D at 0x7f842e55b128>,\n",
       " <keras.layers.pooling.MaxPooling2D at 0x7f842e577518>]"
      ]
     },
     "execution_count": 14,
     "metadata": {},
     "output_type": "execute_result"
    }
   ],
   "source": [
    "vgg16_model.layers"
   ]
  },
  {
   "cell_type": "code",
   "execution_count": 15,
   "metadata": {},
   "outputs": [],
   "source": [
    "model = Sequential()"
   ]
  },
  {
   "cell_type": "code",
   "execution_count": 16,
   "metadata": {},
   "outputs": [],
   "source": [
    "for layers in vgg16_model.layers:\n",
    "    model.add(layers)"
   ]
  },
  {
   "cell_type": "code",
   "execution_count": 17,
   "metadata": {},
   "outputs": [],
   "source": [
    "model.add(Flatten())\n",
    "model.add(Dense(4096,activation='relu'))\n",
    "#model.add(Dropout(0.5))\n",
    "model.add(Dense(4096,activation='relu'))\n",
    "#model.add(Dropout(0.5))"
   ]
  },
  {
   "cell_type": "code",
   "execution_count": 18,
   "metadata": {},
   "outputs": [],
   "source": [
    "for layer in model.layers:\n",
    "    layer.trainable=False"
   ]
  },
  {
   "cell_type": "code",
   "execution_count": 19,
   "metadata": {},
   "outputs": [],
   "source": [
    "model.add(Dense(2,activation='sigmoid'))"
   ]
  },
  {
   "cell_type": "code",
   "execution_count": 20,
   "metadata": {},
   "outputs": [
    {
     "name": "stdout",
     "output_type": "stream",
     "text": [
      "_________________________________________________________________\n",
      "Layer (type)                 Output Shape              Param #   \n",
      "=================================================================\n",
      "block1_conv1 (Conv2D)        (None, 64, 64, 64)        1792      \n",
      "_________________________________________________________________\n",
      "block1_conv2 (Conv2D)        (None, 64, 64, 64)        36928     \n",
      "_________________________________________________________________\n",
      "block1_pool (MaxPooling2D)   (None, 32, 32, 64)        0         \n",
      "_________________________________________________________________\n",
      "block2_conv1 (Conv2D)        (None, 32, 32, 128)       73856     \n",
      "_________________________________________________________________\n",
      "block2_conv2 (Conv2D)        (None, 32, 32, 128)       147584    \n",
      "_________________________________________________________________\n",
      "block2_pool (MaxPooling2D)   (None, 16, 16, 128)       0         \n",
      "_________________________________________________________________\n",
      "block3_conv1 (Conv2D)        (None, 16, 16, 256)       295168    \n",
      "_________________________________________________________________\n",
      "block3_conv2 (Conv2D)        (None, 16, 16, 256)       590080    \n",
      "_________________________________________________________________\n",
      "block3_conv3 (Conv2D)        (None, 16, 16, 256)       590080    \n",
      "_________________________________________________________________\n",
      "block3_pool (MaxPooling2D)   (None, 8, 8, 256)         0         \n",
      "_________________________________________________________________\n",
      "block4_conv1 (Conv2D)        (None, 8, 8, 512)         1180160   \n",
      "_________________________________________________________________\n",
      "block4_conv2 (Conv2D)        (None, 8, 8, 512)         2359808   \n",
      "_________________________________________________________________\n",
      "block4_conv3 (Conv2D)        (None, 8, 8, 512)         2359808   \n",
      "_________________________________________________________________\n",
      "block4_pool (MaxPooling2D)   (None, 4, 4, 512)         0         \n",
      "_________________________________________________________________\n",
      "block5_conv1 (Conv2D)        (None, 4, 4, 512)         2359808   \n",
      "_________________________________________________________________\n",
      "block5_conv2 (Conv2D)        (None, 4, 4, 512)         2359808   \n",
      "_________________________________________________________________\n",
      "block5_conv3 (Conv2D)        (None, 4, 4, 512)         2359808   \n",
      "_________________________________________________________________\n",
      "block5_pool (MaxPooling2D)   (None, 2, 2, 512)         0         \n",
      "_________________________________________________________________\n",
      "flatten_1 (Flatten)          (None, 2048)              0         \n",
      "_________________________________________________________________\n",
      "dense_1 (Dense)              (None, 4096)              8392704   \n",
      "_________________________________________________________________\n",
      "dense_2 (Dense)              (None, 4096)              16781312  \n",
      "_________________________________________________________________\n",
      "dense_3 (Dense)              (None, 2)                 8194      \n",
      "=================================================================\n",
      "Total params: 39,896,898\n",
      "Trainable params: 8,194\n",
      "Non-trainable params: 39,888,704\n",
      "_________________________________________________________________\n"
     ]
    }
   ],
   "source": [
    "model.summary()"
   ]
  },
  {
   "cell_type": "code",
   "execution_count": 21,
   "metadata": {},
   "outputs": [],
   "source": [
    "opt = RMSprop(lr=0.001,rho=0.9,epsilon=1e-08,decay=0.0)"
   ]
  },
  {
   "cell_type": "code",
   "execution_count": 27,
   "metadata": {},
   "outputs": [],
   "source": [
    "model.compile(opt,loss='binary_crossentropy',metrics=['acc'])"
   ]
  },
  {
   "cell_type": "code",
   "execution_count": 28,
   "metadata": {},
   "outputs": [],
   "source": [
    "learning_rate_reduction=ReduceLROnPlateau(monitor='val_acc',patience=3,verbose=1,factor=0.5,minlr=0.00001)"
   ]
  },
  {
   "cell_type": "code",
   "execution_count": 29,
   "metadata": {},
   "outputs": [],
   "source": [
    "datagen = ImageDataGenerator(\n",
    "        featurewise_center=False,  \n",
    "        samplewise_center=False,  \n",
    "        featurewise_std_normalization=False,  \n",
    "        samplewise_std_normalization=False,  \n",
    "        zca_whitening=False,\n",
    "        rotation_range=10,  \n",
    "        zoom_range = 0.1, \n",
    "        width_shift_range=0.1,\n",
    "        height_shift_range=0.1,  \n",
    "        horizontal_flip=False,\n",
    "        vertical_flip=False) \n",
    "\n",
    "datagen.fit(X_train)"
   ]
  },
  {
   "cell_type": "code",
   "execution_count": 30,
   "metadata": {},
   "outputs": [
    {
     "name": "stdout",
     "output_type": "stream",
     "text": [
      "Epoch 1/50\n",
      "20/20 [==============================] - 5s 272ms/step - loss: 0.3871 - binary_accuracy: 0.8250 - val_loss: 0.6354 - val_binary_accuracy: 0.7826\n",
      "Epoch 2/50\n"
     ]
    },
    {
     "name": "stderr",
     "output_type": "stream",
     "text": [
      "/home/jailsonpereira/anaconda3/envs/paic2/lib/python3.6/site-packages/keras/callbacks.py:1109: RuntimeWarning: Reduce LR on plateau conditioned on metric `val_acc` which is not available. Available metrics are: val_loss,val_binary_accuracy,loss,binary_accuracy,lr\n",
      "  (self.monitor, ','.join(list(logs.keys()))), RuntimeWarning\n"
     ]
    },
    {
     "name": "stdout",
     "output_type": "stream",
     "text": [
      "20/20 [==============================] - 5s 245ms/step - loss: 0.3972 - binary_accuracy: 0.8100 - val_loss: 0.6354 - val_binary_accuracy: 0.7826\n",
      "Epoch 3/50\n",
      "20/20 [==============================] - 6s 276ms/step - loss: 0.3942 - binary_accuracy: 0.8175 - val_loss: 0.6354 - val_binary_accuracy: 0.7826\n",
      "Epoch 4/50\n",
      "20/20 [==============================] - 6s 277ms/step - loss: 0.3710 - binary_accuracy: 0.8375 - val_loss: 0.6354 - val_binary_accuracy: 0.7826\n",
      "Epoch 5/50\n",
      "20/20 [==============================] - 5s 265ms/step - loss: 0.3884 - binary_accuracy: 0.8275 - val_loss: 0.6354 - val_binary_accuracy: 0.7826\n",
      "Epoch 6/50\n",
      "20/20 [==============================] - 5s 255ms/step - loss: 0.3858 - binary_accuracy: 0.8350 - val_loss: 0.6354 - val_binary_accuracy: 0.7826\n",
      "Epoch 7/50\n",
      "20/20 [==============================] - 5s 255ms/step - loss: 0.3903 - binary_accuracy: 0.8175 - val_loss: 0.6354 - val_binary_accuracy: 0.7826\n",
      "Epoch 8/50\n",
      "20/20 [==============================] - 5s 254ms/step - loss: 0.3978 - binary_accuracy: 0.8125 - val_loss: 0.6354 - val_binary_accuracy: 0.7826\n",
      "Epoch 9/50\n",
      "20/20 [==============================] - 5s 245ms/step - loss: 0.3890 - binary_accuracy: 0.8225 - val_loss: 0.6354 - val_binary_accuracy: 0.7826\n",
      "Epoch 10/50\n",
      "20/20 [==============================] - 5s 251ms/step - loss: 0.3829 - binary_accuracy: 0.8225 - val_loss: 0.6354 - val_binary_accuracy: 0.7826\n",
      "Epoch 11/50\n",
      "20/20 [==============================] - 5s 255ms/step - loss: 0.3867 - binary_accuracy: 0.8300 - val_loss: 0.6354 - val_binary_accuracy: 0.7826\n",
      "Epoch 12/50\n",
      "20/20 [==============================] - 5s 262ms/step - loss: 0.3862 - binary_accuracy: 0.8325 - val_loss: 0.6354 - val_binary_accuracy: 0.7826\n",
      "Epoch 13/50\n",
      "20/20 [==============================] - 5s 254ms/step - loss: 0.3812 - binary_accuracy: 0.8375 - val_loss: 0.6354 - val_binary_accuracy: 0.7826\n",
      "Epoch 14/50\n",
      "20/20 [==============================] - 5s 259ms/step - loss: 0.3798 - binary_accuracy: 0.8225 - val_loss: 0.6354 - val_binary_accuracy: 0.7826\n",
      "Epoch 15/50\n",
      "20/20 [==============================] - 5s 274ms/step - loss: 0.3850 - binary_accuracy: 0.8150 - val_loss: 0.6354 - val_binary_accuracy: 0.7826\n",
      "Epoch 16/50\n",
      "20/20 [==============================] - 5s 258ms/step - loss: 0.3833 - binary_accuracy: 0.8350 - val_loss: 0.6354 - val_binary_accuracy: 0.7826\n",
      "Epoch 17/50\n",
      "20/20 [==============================] - 5s 251ms/step - loss: 0.3908 - binary_accuracy: 0.8250 - val_loss: 0.6354 - val_binary_accuracy: 0.7826\n",
      "Epoch 18/50\n",
      "20/20 [==============================] - 5s 257ms/step - loss: 0.3798 - binary_accuracy: 0.8400 - val_loss: 0.6354 - val_binary_accuracy: 0.7826\n",
      "Epoch 19/50\n",
      "20/20 [==============================] - 5s 265ms/step - loss: 0.3896 - binary_accuracy: 0.8125 - val_loss: 0.6354 - val_binary_accuracy: 0.7826\n",
      "Epoch 20/50\n",
      "20/20 [==============================] - 5s 250ms/step - loss: 0.3787 - binary_accuracy: 0.8375 - val_loss: 0.6354 - val_binary_accuracy: 0.7826\n",
      "Epoch 21/50\n",
      "20/20 [==============================] - 5s 245ms/step - loss: 0.3828 - binary_accuracy: 0.8275 - val_loss: 0.6354 - val_binary_accuracy: 0.7826\n",
      "Epoch 22/50\n",
      "20/20 [==============================] - 5s 255ms/step - loss: 0.3919 - binary_accuracy: 0.8250 - val_loss: 0.6354 - val_binary_accuracy: 0.7826\n",
      "Epoch 23/50\n",
      "20/20 [==============================] - 5s 249ms/step - loss: 0.3889 - binary_accuracy: 0.8300 - val_loss: 0.6354 - val_binary_accuracy: 0.7826\n",
      "Epoch 24/50\n",
      "20/20 [==============================] - 5s 260ms/step - loss: 0.3884 - binary_accuracy: 0.8275 - val_loss: 0.6354 - val_binary_accuracy: 0.7826\n",
      "Epoch 25/50\n",
      "20/20 [==============================] - 5s 258ms/step - loss: 0.3826 - binary_accuracy: 0.8350 - val_loss: 0.6354 - val_binary_accuracy: 0.7826\n",
      "Epoch 26/50\n",
      "20/20 [==============================] - 5s 252ms/step - loss: 0.3790 - binary_accuracy: 0.8200 - val_loss: 0.6354 - val_binary_accuracy: 0.7826\n",
      "Epoch 27/50\n",
      "20/20 [==============================] - 5s 251ms/step - loss: 0.3793 - binary_accuracy: 0.8425 - val_loss: 0.6354 - val_binary_accuracy: 0.7826\n",
      "Epoch 28/50\n",
      "20/20 [==============================] - 5s 248ms/step - loss: 0.3827 - binary_accuracy: 0.8325 - val_loss: 0.6354 - val_binary_accuracy: 0.7826\n",
      "Epoch 29/50\n",
      "20/20 [==============================] - 5s 246ms/step - loss: 0.3793 - binary_accuracy: 0.8300 - val_loss: 0.6354 - val_binary_accuracy: 0.7826\n",
      "Epoch 30/50\n",
      "20/20 [==============================] - 5s 243ms/step - loss: 0.3932 - binary_accuracy: 0.8125 - val_loss: 0.6354 - val_binary_accuracy: 0.7826\n",
      "Epoch 31/50\n",
      "20/20 [==============================] - 5s 251ms/step - loss: 0.3831 - binary_accuracy: 0.8425 - val_loss: 0.6354 - val_binary_accuracy: 0.7826\n",
      "Epoch 32/50\n",
      "20/20 [==============================] - 5s 259ms/step - loss: 0.3857 - binary_accuracy: 0.8150 - val_loss: 0.6354 - val_binary_accuracy: 0.7826\n",
      "Epoch 33/50\n",
      "20/20 [==============================] - 5s 249ms/step - loss: 0.3927 - binary_accuracy: 0.8125 - val_loss: 0.6354 - val_binary_accuracy: 0.7826\n",
      "Epoch 34/50\n",
      "20/20 [==============================] - 5s 268ms/step - loss: 0.3806 - binary_accuracy: 0.8200 - val_loss: 0.6354 - val_binary_accuracy: 0.7826\n",
      "Epoch 35/50\n",
      "20/20 [==============================] - 5s 262ms/step - loss: 0.3865 - binary_accuracy: 0.8175 - val_loss: 0.6354 - val_binary_accuracy: 0.7826\n",
      "Epoch 36/50\n",
      "20/20 [==============================] - 5s 254ms/step - loss: 0.3878 - binary_accuracy: 0.8300 - val_loss: 0.6354 - val_binary_accuracy: 0.7826\n",
      "Epoch 37/50\n",
      "20/20 [==============================] - 5s 250ms/step - loss: 0.3841 - binary_accuracy: 0.8250 - val_loss: 0.6354 - val_binary_accuracy: 0.7826\n",
      "Epoch 38/50\n",
      "20/20 [==============================] - 5s 274ms/step - loss: 0.3872 - binary_accuracy: 0.8350 - val_loss: 0.6354 - val_binary_accuracy: 0.7826\n",
      "Epoch 39/50\n",
      "20/20 [==============================] - 6s 302ms/step - loss: 0.3892 - binary_accuracy: 0.8200 - val_loss: 0.6354 - val_binary_accuracy: 0.7826\n",
      "Epoch 40/50\n",
      "20/20 [==============================] - 5s 253ms/step - loss: 0.3779 - binary_accuracy: 0.8275 - val_loss: 0.6354 - val_binary_accuracy: 0.7826\n",
      "Epoch 41/50\n",
      "20/20 [==============================] - 5s 247ms/step - loss: 0.3877 - binary_accuracy: 0.8250 - val_loss: 0.6354 - val_binary_accuracy: 0.7826\n",
      "Epoch 42/50\n",
      "20/20 [==============================] - 5s 262ms/step - loss: 0.3882 - binary_accuracy: 0.8175 - val_loss: 0.6354 - val_binary_accuracy: 0.7826\n",
      "Epoch 43/50\n",
      "20/20 [==============================] - 5s 239ms/step - loss: 0.3782 - binary_accuracy: 0.8275 - val_loss: 0.6354 - val_binary_accuracy: 0.7826\n",
      "Epoch 44/50\n",
      "20/20 [==============================] - 5s 240ms/step - loss: 0.3886 - binary_accuracy: 0.8225 - val_loss: 0.6354 - val_binary_accuracy: 0.7826\n",
      "Epoch 45/50\n",
      "20/20 [==============================] - 5s 238ms/step - loss: 0.3782 - binary_accuracy: 0.8300 - val_loss: 0.6354 - val_binary_accuracy: 0.7826\n",
      "Epoch 46/50\n",
      "20/20 [==============================] - 5s 242ms/step - loss: 0.3810 - binary_accuracy: 0.8400 - val_loss: 0.6354 - val_binary_accuracy: 0.7826\n",
      "Epoch 47/50\n",
      "20/20 [==============================] - 5s 245ms/step - loss: 0.3729 - binary_accuracy: 0.8400 - val_loss: 0.6354 - val_binary_accuracy: 0.7826\n",
      "Epoch 48/50\n",
      "20/20 [==============================] - 5s 253ms/step - loss: 0.3811 - binary_accuracy: 0.8475 - val_loss: 0.6354 - val_binary_accuracy: 0.7826\n",
      "Epoch 49/50\n",
      "20/20 [==============================] - 5s 242ms/step - loss: 0.3850 - binary_accuracy: 0.8225 - val_loss: 0.6354 - val_binary_accuracy: 0.7826\n",
      "Epoch 50/50\n",
      "20/20 [==============================] - 5s 245ms/step - loss: 0.3783 - binary_accuracy: 0.8200 - val_loss: 0.6354 - val_binary_accuracy: 0.7826\n"
     ]
    }
   ],
   "source": [
    "history=model.fit_generator(datagen.flow(X_train,Y_train,batch_size=10),epochs=50,validation_data=(X_val,Y_val),\n",
    "                          verbose=1,steps_per_epoch=X_train.shape[0]/10, callbacks=[learning_rate_reduction])"
   ]
  },
  {
   "cell_type": "code",
   "execution_count": 31,
   "metadata": {},
   "outputs": [
    {
     "ename": "KeyError",
     "evalue": "'acc'",
     "output_type": "error",
     "traceback": [
      "\u001b[0;31m---------------------------------------------------------------------------\u001b[0m",
      "\u001b[0;31mKeyError\u001b[0m                                  Traceback (most recent call last)",
      "\u001b[0;32m<ipython-input-31-be3172a2da14>\u001b[0m in \u001b[0;36m<module>\u001b[0;34m\u001b[0m\n\u001b[1;32m      1\u001b[0m \u001b[0;32mfrom\u001b[0m \u001b[0mmatplotlib\u001b[0m \u001b[0;32mimport\u001b[0m \u001b[0mpyplot\u001b[0m \u001b[0;32mas\u001b[0m \u001b[0mplt\u001b[0m\u001b[0;34m\u001b[0m\u001b[0m\n\u001b[0;32m----> 2\u001b[0;31m \u001b[0macc\u001b[0m \u001b[0;34m=\u001b[0m \u001b[0mhistory\u001b[0m\u001b[0;34m.\u001b[0m\u001b[0mhistory\u001b[0m\u001b[0;34m[\u001b[0m\u001b[0;34m'acc'\u001b[0m\u001b[0;34m]\u001b[0m\u001b[0;34m\u001b[0m\u001b[0m\n\u001b[0m\u001b[1;32m      3\u001b[0m \u001b[0mval_acc\u001b[0m \u001b[0;34m=\u001b[0m \u001b[0mhistory\u001b[0m\u001b[0;34m.\u001b[0m\u001b[0mhistory\u001b[0m\u001b[0;34m[\u001b[0m\u001b[0;34m'val_acc'\u001b[0m\u001b[0;34m]\u001b[0m\u001b[0;34m\u001b[0m\u001b[0m\n\u001b[1;32m      4\u001b[0m \u001b[0mloss\u001b[0m \u001b[0;34m=\u001b[0m \u001b[0mhistory\u001b[0m\u001b[0;34m.\u001b[0m\u001b[0mhistory\u001b[0m\u001b[0;34m[\u001b[0m\u001b[0;34m'loss'\u001b[0m\u001b[0;34m]\u001b[0m\u001b[0;34m\u001b[0m\u001b[0m\n\u001b[1;32m      5\u001b[0m \u001b[0mval_loss\u001b[0m \u001b[0;34m=\u001b[0m \u001b[0mhistory\u001b[0m\u001b[0;34m.\u001b[0m\u001b[0mhistory\u001b[0m\u001b[0;34m[\u001b[0m\u001b[0;34m'val_loss'\u001b[0m\u001b[0;34m]\u001b[0m\u001b[0;34m\u001b[0m\u001b[0m\n",
      "\u001b[0;31mKeyError\u001b[0m: 'acc'"
     ]
    }
   ],
   "source": [
    "from matplotlib import pyplot as plt\n",
    "acc = history.history['acc']\n",
    "val_acc = history.history['val_acc']\n",
    "loss = history.history['loss']\n",
    "val_loss = history.history['val_loss']\n",
    " \n",
    "epochs = range(len(acc))\n",
    " \n",
    "plt.plot(epochs, acc, 'b', label='Training acc')\n",
    "plt.plot(epochs, val_acc, 'r', label='Validation acc')\n",
    "plt.title('Training and validation accuracy')\n",
    "plt.legend()\n",
    " \n",
    "plt.figure()\n",
    " \n",
    "plt.plot(epochs, loss, 'b', label='Training loss')\n",
    "plt.plot(epochs, val_loss, 'r', label='Validation loss')\n",
    "plt.title('Training and validation loss')\n",
    "plt.legend()"
   ]
  },
  {
   "cell_type": "code",
   "execution_count": null,
   "metadata": {},
   "outputs": [],
   "source": []
  }
 ],
 "metadata": {
  "kernelspec": {
   "display_name": "Python 3",
   "language": "python",
   "name": "python3"
  },
  "language_info": {
   "codemirror_mode": {
    "name": "ipython",
    "version": 3
   },
   "file_extension": ".py",
   "mimetype": "text/x-python",
   "name": "python",
   "nbconvert_exporter": "python",
   "pygments_lexer": "ipython3",
   "version": "3.6.6"
  }
 },
 "nbformat": 4,
 "nbformat_minor": 2
}
