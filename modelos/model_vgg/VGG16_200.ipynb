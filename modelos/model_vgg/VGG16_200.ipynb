{
 "cells": [
  {
   "cell_type": "code",
   "execution_count": 1,
   "metadata": {},
   "outputs": [
    {
     "name": "stderr",
     "output_type": "stream",
     "text": [
      "Using TensorFlow backend.\n"
     ]
    }
   ],
   "source": [
    "import numpy as np\n",
    "import matplotlib.pyplot as plt\n",
    "import os\n",
    "import keras\n",
    "from keras.utils.np_utils import to_categorical\n",
    "from keras.optimizers import Adam, SGD\n",
    "from keras.models import Sequential\n",
    "from keras.layers import Conv2D,MaxPool2D,Flatten,Dense,Dropout,GlobalAveragePooling2D\n",
    "from keras.callbacks import ReduceLROnPlateau\n",
    "from keras.preprocessing.image import ImageDataGenerator\n",
    "from keras.preprocessing import image\n",
    "from keras.applications.vgg16 import preprocess_input\n",
    "from keras.models import Model\n",
    "from PIL import Image\n",
    "\n",
    "#Escolhendo GPU: no caso de rodar no srv multigpu, escolher 0 ou 1\n",
    "#Não pareceu funcionar\n",
    "os.environ[\"CUDA_DEVICE_ORDER\"]=\"PCI_BUS_ID\"\n",
    "os.environ[\"CUDA_VISIBLE_DEVICES\"]=\"1\"\n",
    "\n",
    "#Reports\n",
    "from sklearn.metrics import classification_report, confusion_matrix\n",
    "# Preprocessing\n",
    "from sklearn.model_selection import train_test_split\n",
    "from sklearn.preprocessing import LabelEncoder, StandardScaler\n",
    "from keras.models import load_model\n",
    "\n",
    "import warnings\n",
    "warnings.filterwarnings('ignore')\n"
   ]
  },
  {
   "cell_type": "code",
   "execution_count": 2,
   "metadata": {},
   "outputs": [],
   "source": [
    "vgg16_model=keras.applications.vgg16.VGG16(weights='imagenet',include_top=False)"
   ]
  },
  {
   "cell_type": "code",
   "execution_count": 3,
   "metadata": {},
   "outputs": [],
   "source": [
    "x = vgg16_model.output\n",
    "x = GlobalAveragePooling2D()(x)\n",
    "x = Dense(1024,activation='relu')(x)\n",
    "x = Dense(1024,activation='relu')(x)\n",
    "x = Dense(512,activation='relu')(x)\n",
    "preds = Dense(2,activation='softmax')(x)"
   ]
  },
  {
   "cell_type": "code",
   "execution_count": 4,
   "metadata": {},
   "outputs": [],
   "source": [
    "model = Model(inputs=vgg16_model.input,output=preds)"
   ]
  },
  {
   "cell_type": "code",
   "execution_count": 5,
   "metadata": {},
   "outputs": [],
   "source": [
    "BATCH_SIZE = 32\n",
    "TRAINING_DIR = '/home/jailsonpereira/paic/dataset_2/treino/'"
   ]
  },
  {
   "cell_type": "code",
   "execution_count": 6,
   "metadata": {},
   "outputs": [
    {
     "name": "stdout",
     "output_type": "stream",
     "text": [
      "Found 1080 images belonging to 2 classes.\n",
      "Found 120 images belonging to 2 classes.\n"
     ]
    }
   ],
   "source": [
    "data_generator=ImageDataGenerator(preprocessing_function=preprocess_input,validation_split=0.1)\n",
    "\n",
    "train_generator=data_generator.flow_from_directory(TRAINING_DIR,\n",
    "                                                 target_size=(224,224),\n",
    "                                                 color_mode='rgb',\n",
    "                                                 batch_size=BATCH_SIZE,\n",
    "                                                 class_mode='categorical',\n",
    "                                                 shuffle=True,subset='training')\n",
    "\n",
    "validation_generator=data_generator.flow_from_directory(TRAINING_DIR,\n",
    "                                                 target_size=(224,224),\n",
    "                                                 color_mode='rgb',\n",
    "                                                 batch_size=BATCH_SIZE,\n",
    "                                                 class_mode='categorical',\n",
    "                                                 shuffle=True,subset='validation')\n",
    "\n",
    "nb_train_samples = train_generator.samples\n",
    "nb_validation_samples = validation_generator.samples"
   ]
  },
  {
   "cell_type": "code",
   "execution_count": 7,
   "metadata": {},
   "outputs": [],
   "source": [
    "sgd = SGD(lr=0.01, decay=1e-6, momentum=0.9, nesterov=True)\n",
    "model.compile(optimizer=sgd, loss='categorical_crossentropy', metrics=[\"accuracy\"])"
   ]
  },
  {
   "cell_type": "code",
   "execution_count": 8,
   "metadata": {},
   "outputs": [],
   "source": [
    "callbacks_list = [\n",
    "    keras.callbacks.ModelCheckpoint(\n",
    "        filepath='CNN_Ince_aval_6.0_best_model.h5', #.{epoch:02d}-{val_loss:.2f}\n",
    "        monitor='val_loss', save_best_only=True, verbose=1),\n",
    "    keras.callbacks.EarlyStopping(monitor='val_loss', patience=50,verbose=1)\n",
    "]"
   ]
  },
  {
   "cell_type": "code",
   "execution_count": 9,
   "metadata": {},
   "outputs": [
    {
     "name": "stdout",
     "output_type": "stream",
     "text": [
      "Epoch 1/200\n",
      "33/33 [==============================] - 20s 604ms/step - loss: 7.8281 - acc: 0.4981 - val_loss: 7.8912 - val_acc: 0.5104\n",
      "\n",
      "Epoch 00001: val_loss improved from inf to 7.89115, saving model to CNN_Ince_aval_6.0_best_model.h5\n",
      "Epoch 2/200\n",
      "33/33 [==============================] - 19s 569ms/step - loss: 8.0590 - acc: 0.5000 - val_loss: 8.2422 - val_acc: 0.4886\n",
      "\n",
      "Epoch 00002: val_loss did not improve from 7.89115\n",
      "Epoch 3/200\n",
      "33/33 [==============================] - 20s 606ms/step - loss: 8.1201 - acc: 0.4962 - val_loss: 8.7917 - val_acc: 0.4545\n",
      "\n",
      "Epoch 00003: val_loss did not improve from 7.89115\n",
      "Epoch 4/200\n",
      "33/33 [==============================] - 19s 578ms/step - loss: 7.9630 - acc: 0.5060 - val_loss: 7.3264 - val_acc: 0.5455\n",
      "\n",
      "Epoch 00004: val_loss improved from 7.89115 to 7.32641, saving model to CNN_Ince_aval_6.0_best_model.h5\n",
      "Epoch 5/200\n",
      "33/33 [==============================] - 19s 581ms/step - loss: 8.1969 - acc: 0.4914 - val_loss: 8.7306 - val_acc: 0.4583\n",
      "\n",
      "Epoch 00005: val_loss did not improve from 7.32641\n",
      "Epoch 6/200\n",
      "33/33 [==============================] - 19s 571ms/step - loss: 8.0083 - acc: 0.5031 - val_loss: 7.6927 - val_acc: 0.5227\n",
      "\n",
      "Epoch 00006: val_loss did not improve from 7.32641\n",
      "Epoch 7/200\n",
      "33/33 [==============================] - 20s 610ms/step - loss: 8.1304 - acc: 0.4956 - val_loss: 7.5096 - val_acc: 0.5341\n",
      "\n",
      "Epoch 00007: val_loss did not improve from 7.32641\n",
      "Epoch 8/200\n",
      "33/33 [==============================] - 19s 568ms/step - loss: 7.8812 - acc: 0.5110 - val_loss: 8.2422 - val_acc: 0.4886\n",
      "\n",
      "Epoch 00008: val_loss did not improve from 7.32641\n",
      "Epoch 9/200\n",
      "33/33 [==============================] - 20s 595ms/step - loss: 8.0999 - acc: 0.4975 - val_loss: 8.2269 - val_acc: 0.4896\n",
      "\n",
      "Epoch 00009: val_loss did not improve from 7.32641\n",
      "Epoch 10/200\n",
      "33/33 [==============================] - 21s 631ms/step - loss: 7.9930 - acc: 0.5041 - val_loss: 8.0590 - val_acc: 0.5000\n",
      "\n",
      "Epoch 00010: val_loss did not improve from 7.32641\n",
      "Epoch 11/200\n",
      "33/33 [==============================] - 17s 512ms/step - loss: 8.1152 - acc: 0.4965 - val_loss: 7.6927 - val_acc: 0.5227\n",
      "\n",
      "Epoch 00011: val_loss did not improve from 7.32641\n",
      "Epoch 12/200\n",
      "33/33 [==============================] - 19s 584ms/step - loss: 8.0182 - acc: 0.5025 - val_loss: 8.2422 - val_acc: 0.4886\n",
      "\n",
      "Epoch 00012: val_loss did not improve from 7.32641\n",
      "Epoch 13/200\n",
      "33/33 [==============================] - 22s 660ms/step - loss: 7.7946 - acc: 0.5164 - val_loss: 8.0590 - val_acc: 0.5000\n",
      "\n",
      "Epoch 00013: val_loss did not improve from 7.32641\n",
      "Epoch 14/200\n",
      "33/33 [==============================] - 18s 554ms/step - loss: 8.2059 - acc: 0.4909 - val_loss: 8.2422 - val_acc: 0.4886\n",
      "\n",
      "Epoch 00014: val_loss did not improve from 7.32641\n",
      "Epoch 15/200\n",
      "33/33 [==============================] - 19s 574ms/step - loss: 8.1551 - acc: 0.4940 - val_loss: 7.3264 - val_acc: 0.5455\n",
      "\n",
      "Epoch 00015: val_loss did not improve from 7.32641\n",
      "Epoch 16/200\n",
      "33/33 [==============================] - 17s 521ms/step - loss: 8.2979 - acc: 0.4852 - val_loss: 8.6085 - val_acc: 0.4659\n",
      "\n",
      "Epoch 00016: val_loss did not improve from 7.32641\n",
      "Epoch 17/200\n",
      "33/33 [==============================] - 22s 664ms/step - loss: 7.9827 - acc: 0.5047 - val_loss: 7.3875 - val_acc: 0.5417\n",
      "\n",
      "Epoch 00017: val_loss did not improve from 7.32641\n",
      "Epoch 18/200\n",
      "33/33 [==============================] - 18s 548ms/step - loss: 7.9517 - acc: 0.5067 - val_loss: 9.3412 - val_acc: 0.4205\n",
      "\n",
      "Epoch 00018: val_loss did not improve from 7.32641\n",
      "Epoch 19/200\n",
      "33/33 [==============================] - 20s 614ms/step - loss: 7.9059 - acc: 0.5095 - val_loss: 6.5938 - val_acc: 0.5909\n",
      "\n",
      "Epoch 00019: val_loss improved from 7.32641 to 6.59377, saving model to CNN_Ince_aval_6.0_best_model.h5\n",
      "Epoch 20/200\n",
      "33/33 [==============================] - 19s 563ms/step - loss: 8.4973 - acc: 0.4728 - val_loss: 8.9748 - val_acc: 0.4432\n",
      "\n",
      "Epoch 00020: val_loss did not improve from 6.59377\n",
      "Epoch 21/200\n",
      "33/33 [==============================] - 19s 570ms/step - loss: 7.6266 - acc: 0.5268 - val_loss: 8.3948 - val_acc: 0.4792\n",
      "\n",
      "Epoch 00021: val_loss did not improve from 6.59377\n",
      "Epoch 22/200\n",
      "33/33 [==============================] - 21s 625ms/step - loss: 8.3132 - acc: 0.4842 - val_loss: 7.6927 - val_acc: 0.5227\n",
      "\n",
      "Epoch 00022: val_loss did not improve from 6.59377\n",
      "Epoch 23/200\n",
      "33/33 [==============================] - 17s 501ms/step - loss: 8.1610 - acc: 0.4937 - val_loss: 8.4254 - val_acc: 0.4773\n",
      "\n",
      "Epoch 00023: val_loss did not improve from 6.59377\n",
      "Epoch 24/200\n",
      "33/33 [==============================] - 20s 620ms/step - loss: 7.7690 - acc: 0.5180 - val_loss: 7.6927 - val_acc: 0.5227\n",
      "\n",
      "Epoch 00024: val_loss did not improve from 6.59377\n",
      "Epoch 25/200\n",
      "33/33 [==============================] - 20s 611ms/step - loss: 7.8507 - acc: 0.5129 - val_loss: 7.7233 - val_acc: 0.5208\n",
      "\n",
      "Epoch 00025: val_loss did not improve from 6.59377\n",
      "Epoch 26/200\n",
      "33/33 [==============================] - 19s 577ms/step - loss: 8.3083 - acc: 0.4845 - val_loss: 9.5243 - val_acc: 0.4091\n",
      "\n",
      "Epoch 00026: val_loss did not improve from 6.59377\n",
      "Epoch 27/200\n",
      "33/33 [==============================] - 19s 585ms/step - loss: 8.1709 - acc: 0.4931 - val_loss: 8.0590 - val_acc: 0.5000\n",
      "\n",
      "Epoch 00027: val_loss did not improve from 6.59377\n",
      "Epoch 28/200\n",
      "33/33 [==============================] - 18s 559ms/step - loss: 7.9014 - acc: 0.5098 - val_loss: 6.9601 - val_acc: 0.5682\n",
      "\n",
      "Epoch 00028: val_loss did not improve from 6.59377\n",
      "Epoch 29/200\n",
      "33/33 [==============================] - 20s 593ms/step - loss: 8.2270 - acc: 0.4896 - val_loss: 7.7233 - val_acc: 0.5208\n",
      "\n",
      "Epoch 00029: val_loss did not improve from 6.59377\n",
      "Epoch 30/200\n",
      "33/33 [==============================] - 19s 590ms/step - loss: 7.9728 - acc: 0.5053 - val_loss: 8.0590 - val_acc: 0.5000\n",
      "\n",
      "Epoch 00030: val_loss did not improve from 6.59377\n",
      "Epoch 31/200\n",
      "33/33 [==============================] - 19s 576ms/step - loss: 8.1304 - acc: 0.4956 - val_loss: 8.0590 - val_acc: 0.5000\n",
      "\n",
      "Epoch 00031: val_loss did not improve from 6.59377\n",
      "Epoch 32/200\n",
      "33/33 [==============================] - 19s 587ms/step - loss: 8.0438 - acc: 0.5009 - val_loss: 8.4254 - val_acc: 0.4773\n",
      "\n",
      "Epoch 00032: val_loss did not improve from 6.59377\n",
      "Epoch 33/200\n",
      "33/33 [==============================] - 19s 590ms/step - loss: 8.0541 - acc: 0.5003 - val_loss: 8.3948 - val_acc: 0.4792\n",
      "\n",
      "Epoch 00033: val_loss did not improve from 6.59377\n",
      "Epoch 34/200\n",
      "33/33 [==============================] - 19s 574ms/step - loss: 8.0182 - acc: 0.5025 - val_loss: 8.2422 - val_acc: 0.4886\n",
      "\n",
      "Epoch 00034: val_loss did not improve from 6.59377\n",
      "Epoch 35/200\n",
      "33/33 [==============================] - 19s 584ms/step - loss: 8.0438 - acc: 0.5009 - val_loss: 7.1432 - val_acc: 0.5568\n",
      "\n",
      "Epoch 00035: val_loss did not improve from 6.59377\n",
      "Epoch 36/200\n",
      "33/33 [==============================] - 20s 593ms/step - loss: 8.1709 - acc: 0.4931 - val_loss: 8.4254 - val_acc: 0.4773\n",
      "\n",
      "Epoch 00036: val_loss did not improve from 6.59377\n",
      "Epoch 37/200\n",
      "33/33 [==============================] - 18s 557ms/step - loss: 7.8413 - acc: 0.5135 - val_loss: 8.5627 - val_acc: 0.4688\n",
      "\n",
      "Epoch 00037: val_loss did not improve from 6.59377\n",
      "Epoch 38/200\n",
      "33/33 [==============================] - 19s 582ms/step - loss: 8.1659 - acc: 0.4934 - val_loss: 8.0590 - val_acc: 0.5000\n",
      "\n",
      "Epoch 00038: val_loss did not improve from 6.59377\n",
      "Epoch 39/200\n",
      "33/33 [==============================] - 20s 591ms/step - loss: 8.1502 - acc: 0.4943 - val_loss: 7.1432 - val_acc: 0.5568\n",
      "\n",
      "Epoch 00039: val_loss did not improve from 6.59377\n",
      "Epoch 40/200\n",
      "33/33 [==============================] - 19s 585ms/step - loss: 7.9526 - acc: 0.5066 - val_loss: 8.4254 - val_acc: 0.4773\n",
      "\n",
      "Epoch 00040: val_loss did not improve from 6.59377\n",
      "Epoch 41/200\n",
      "33/33 [==============================] - 19s 589ms/step - loss: 7.9472 - acc: 0.5069 - val_loss: 7.7233 - val_acc: 0.5208\n",
      "\n",
      "Epoch 00041: val_loss did not improve from 6.59377\n",
      "Epoch 42/200\n",
      "33/33 [==============================] - 18s 555ms/step - loss: 8.0945 - acc: 0.4978 - val_loss: 8.0590 - val_acc: 0.5000\n",
      "\n",
      "Epoch 00042: val_loss did not improve from 6.59377\n",
      "Epoch 43/200\n",
      "33/33 [==============================] - 21s 623ms/step - loss: 8.3078 - acc: 0.4846 - val_loss: 8.7917 - val_acc: 0.4545\n",
      "\n",
      "Epoch 00043: val_loss did not improve from 6.59377\n",
      "Epoch 44/200\n"
     ]
    },
    {
     "name": "stdout",
     "output_type": "stream",
     "text": [
      "33/33 [==============================] - 19s 590ms/step - loss: 7.9059 - acc: 0.5095 - val_loss: 7.6927 - val_acc: 0.5227\n",
      "\n",
      "Epoch 00044: val_loss did not improve from 6.59377\n",
      "Epoch 45/200\n",
      "33/33 [==============================] - 19s 562ms/step - loss: 7.8049 - acc: 0.5158 - val_loss: 8.0590 - val_acc: 0.5000\n",
      "\n",
      "Epoch 00045: val_loss did not improve from 6.59377\n",
      "Epoch 46/200\n",
      "33/33 [==============================] - 20s 607ms/step - loss: 8.3132 - acc: 0.4842 - val_loss: 8.4254 - val_acc: 0.4773\n",
      "\n",
      "Epoch 00046: val_loss did not improve from 6.59377\n",
      "Epoch 47/200\n",
      "33/33 [==============================] - 19s 575ms/step - loss: 8.2068 - acc: 0.4908 - val_loss: 8.2422 - val_acc: 0.4886\n",
      "\n",
      "Epoch 00047: val_loss did not improve from 6.59377\n",
      "Epoch 48/200\n",
      "33/33 [==============================] - 19s 571ms/step - loss: 7.7995 - acc: 0.5161 - val_loss: 7.5096 - val_acc: 0.5341\n",
      "\n",
      "Epoch 00048: val_loss did not improve from 6.59377\n",
      "Epoch 49/200\n",
      "33/33 [==============================] - 18s 550ms/step - loss: 8.0896 - acc: 0.4981 - val_loss: 8.3948 - val_acc: 0.4792\n",
      "\n",
      "Epoch 00049: val_loss did not improve from 6.59377\n",
      "Epoch 50/200\n",
      "33/33 [==============================] - 19s 572ms/step - loss: 8.3994 - acc: 0.4789 - val_loss: 7.3264 - val_acc: 0.5455\n",
      "\n",
      "Epoch 00050: val_loss did not improve from 6.59377\n",
      "Epoch 51/200\n",
      "33/33 [==============================] - 20s 610ms/step - loss: 7.8552 - acc: 0.5126 - val_loss: 8.4254 - val_acc: 0.4773\n",
      "\n",
      "Epoch 00051: val_loss did not improve from 6.59377\n",
      "Epoch 52/200\n",
      "33/33 [==============================] - 19s 567ms/step - loss: 8.0788 - acc: 0.4988 - val_loss: 8.0590 - val_acc: 0.5000\n",
      "\n",
      "Epoch 00052: val_loss did not improve from 6.59377\n",
      "Epoch 53/200\n",
      "33/33 [==============================] - 21s 645ms/step - loss: 8.0335 - acc: 0.5016 - val_loss: 8.0590 - val_acc: 0.5000\n",
      "\n",
      "Epoch 00053: val_loss did not improve from 6.59377\n",
      "Epoch 54/200\n",
      "33/33 [==============================] - 19s 561ms/step - loss: 7.9315 - acc: 0.5079 - val_loss: 8.7917 - val_acc: 0.4545\n",
      "\n",
      "Epoch 00054: val_loss did not improve from 6.59377\n",
      "Epoch 55/200\n",
      "33/33 [==============================] - 19s 570ms/step - loss: 8.0177 - acc: 0.5026 - val_loss: 6.7769 - val_acc: 0.5795\n",
      "\n",
      "Epoch 00055: val_loss did not improve from 6.59377\n",
      "Epoch 56/200\n",
      "33/33 [==============================] - 21s 626ms/step - loss: 8.3590 - acc: 0.4814 - val_loss: 8.6085 - val_acc: 0.4659\n",
      "\n",
      "Epoch 00056: val_loss did not improve from 6.59377\n",
      "Epoch 57/200\n",
      "33/33 [==============================] - 19s 562ms/step - loss: 7.8606 - acc: 0.5123 - val_loss: 7.7233 - val_acc: 0.5208\n",
      "\n",
      "Epoch 00057: val_loss did not improve from 6.59377\n",
      "Epoch 58/200\n",
      "33/33 [==============================] - 19s 561ms/step - loss: 8.3437 - acc: 0.4823 - val_loss: 7.8759 - val_acc: 0.5114\n",
      "\n",
      "Epoch 00058: val_loss did not improve from 6.59377\n",
      "Epoch 59/200\n",
      "33/33 [==============================] - 19s 567ms/step - loss: 7.7793 - acc: 0.5174 - val_loss: 8.0590 - val_acc: 0.5000\n",
      "\n",
      "Epoch 00059: val_loss did not improve from 6.59377\n",
      "Epoch 60/200\n",
      "33/33 [==============================] - 20s 602ms/step - loss: 8.0433 - acc: 0.5010 - val_loss: 8.6085 - val_acc: 0.4659\n",
      "\n",
      "Epoch 00060: val_loss did not improve from 6.59377\n",
      "Epoch 61/200\n",
      "33/33 [==============================] - 19s 568ms/step - loss: 8.5884 - acc: 0.4672 - val_loss: 8.0590 - val_acc: 0.5000\n",
      "\n",
      "Epoch 00061: val_loss did not improve from 6.59377\n",
      "Epoch 62/200\n",
      "33/33 [==============================] - 21s 626ms/step - loss: 7.6424 - acc: 0.5259 - val_loss: 7.8759 - val_acc: 0.5114\n",
      "\n",
      "Epoch 00062: val_loss did not improve from 6.59377\n",
      "Epoch 63/200\n",
      "33/33 [==============================] - 19s 589ms/step - loss: 8.0384 - acc: 0.5013 - val_loss: 8.0590 - val_acc: 0.5000\n",
      "\n",
      "Epoch 00063: val_loss did not improve from 6.59377\n",
      "Epoch 64/200\n",
      "33/33 [==============================] - 18s 550ms/step - loss: 8.1614 - acc: 0.4936 - val_loss: 8.2422 - val_acc: 0.4886\n",
      "\n",
      "Epoch 00064: val_loss did not improve from 6.59377\n",
      "Epoch 65/200\n",
      "33/33 [==============================] - 20s 604ms/step - loss: 8.0433 - acc: 0.5010 - val_loss: 8.3948 - val_acc: 0.4792\n",
      "\n",
      "Epoch 00065: val_loss did not improve from 6.59377\n",
      "Epoch 66/200\n",
      "33/33 [==============================] - 20s 596ms/step - loss: 8.0088 - acc: 0.5031 - val_loss: 7.5096 - val_acc: 0.5341\n",
      "\n",
      "Epoch 00066: val_loss did not improve from 6.59377\n",
      "Epoch 67/200\n",
      "33/33 [==============================] - 18s 554ms/step - loss: 8.0079 - acc: 0.5032 - val_loss: 8.7917 - val_acc: 0.4545\n",
      "\n",
      "Epoch 00067: val_loss did not improve from 6.59377\n",
      "Epoch 68/200\n",
      "33/33 [==============================] - 19s 588ms/step - loss: 8.1147 - acc: 0.4965 - val_loss: 7.5096 - val_acc: 0.5341\n",
      "\n",
      "Epoch 00068: val_loss did not improve from 6.59377\n",
      "Epoch 69/200\n",
      "33/33 [==============================] - 19s 590ms/step - loss: 8.0896 - acc: 0.4981 - val_loss: 8.2269 - val_acc: 0.4896\n",
      "\n",
      "Epoch 00069: val_loss did not improve from 6.59377\n",
      "Epoch 00069: early stopping\n"
     ]
    }
   ],
   "source": [
    "history = model.fit_generator(\n",
    "        train_generator,\n",
    "        steps_per_epoch=nb_train_samples // BATCH_SIZE,\n",
    "        epochs=200,\n",
    "        callbacks=callbacks_list,\n",
    "        validation_data=validation_generator,\n",
    "        validation_steps=nb_validation_samples // BATCH_SIZE)"
   ]
  },
  {
   "cell_type": "markdown",
   "metadata": {},
   "source": [
    "### FALTA AVALIAR"
   ]
  },
  {
   "cell_type": "code",
   "execution_count": 11,
   "metadata": {},
   "outputs": [
    {
     "data": {
      "image/png": "[encoded data removed]",
      "text/plain": [
       "<Figure size 720x720 with 2 Axes>"
      ]
     },
     "metadata": {
      "needs_background": "light"
     },
     "output_type": "display_data"
    }
   ],
   "source": [
    "#Visualização do treino\n",
    "import matplotlib.pyplot as plt\n",
    "history_dict = history.history\n",
    "loss_values = history_dict['loss']\n",
    "val_loss_values = history_dict['val_loss']\n",
    "\n",
    "epochs_x = range(1, len(loss_values) + 1)\n",
    "plt.figure(figsize=(10,10))\n",
    "plt.subplot(2,1,1)\n",
    "plt.plot(epochs_x, loss_values, 'bo', label='Training loss')\n",
    "plt.plot(epochs_x, val_loss_values, 'b', label='Validation loss')\n",
    "plt.title('Training and validation Loss and Accuracy')\n",
    "plt.xlabel('Epochs')\n",
    "plt.ylabel('Loss')\n",
    "#plt.legend()\n",
    "plt.subplot(2,1,2)\n",
    "acc_values = history_dict['acc']\n",
    "val_acc_values = history_dict['val_acc']\n",
    "plt.plot(epochs_x, acc_values, 'bo', label='Training acc')\n",
    "plt.plot(epochs_x, val_acc_values, 'b', label='Validation acc')\n",
    "#plt.title('Training and validation accuracy')\n",
    "plt.xlabel('Epochs')\n",
    "plt.ylabel('Acc')\n",
    "plt.legend()\n",
    "plt.show()"
   ]
  },
  {
   "cell_type": "code",
   "execution_count": 25,
   "metadata": {},
   "outputs": [
    {
     "data": {
      "text/plain": [
       "7.966768577808642"
      ]
     },
     "execution_count": 25,
     "metadata": {},
     "output_type": "execute_result"
    }
   ],
   "source": [
    "loss_values[116]"
   ]
  },
  {
   "cell_type": "code",
   "execution_count": null,
   "metadata": {},
   "outputs": [],
   "source": []
  },
  {
   "cell_type": "code",
   "execution_count": null,
   "metadata": {},
   "outputs": [],
   "source": []
  },
  {
   "cell_type": "markdown",
   "metadata": {},
   "source": [
    "# Avaliação"
   ]
  },
  {
   "cell_type": "code",
   "execution_count": 12,
   "metadata": {},
   "outputs": [],
   "source": [
    "from keras.preprocessing.image import ImageDataGenerator"
   ]
  },
  {
   "cell_type": "code",
   "execution_count": 16,
   "metadata": {},
   "outputs": [],
   "source": [
    "model = load_model('CNN_Ince_aval_6.0_best_model.h5')"
   ]
  },
  {
   "cell_type": "code",
   "execution_count": 17,
   "metadata": {},
   "outputs": [
    {
     "name": "stdout",
     "output_type": "stream",
     "text": [
      "Found 400 images belonging to 2 classes.\n"
     ]
    }
   ],
   "source": [
    "test_dir = '../dataset_2/teste'\n",
    "test_datagen = ImageDataGenerator(preprocessing_function=preprocess_input)\n",
    "\n",
    "test_generator = test_datagen.flow_from_directory(\n",
    "        test_dir,\n",
    "        target_size=(224, 224),\n",
    "        color_mode=\"rgb\",\n",
    "        shuffle = False,\n",
    "        class_mode='categorical',\n",
    "        batch_size=1)\n",
    "\n",
    "filenames = test_generator.filenames\n",
    "nb_samples = len(filenames)"
   ]
  },
  {
   "cell_type": "code",
   "execution_count": 18,
   "metadata": {},
   "outputs": [],
   "source": [
    "predict = model.predict_generator(test_generator,steps = nb_samples)"
   ]
  },
  {
   "cell_type": "code",
   "execution_count": 19,
   "metadata": {},
   "outputs": [],
   "source": [
    "y_pred = np.argmax(predict,axis=1)\n"
   ]
  },
  {
   "cell_type": "code",
   "execution_count": 20,
   "metadata": {},
   "outputs": [
    {
     "data": {
      "text/plain": [
       "400"
      ]
     },
     "execution_count": 20,
     "metadata": {},
     "output_type": "execute_result"
    }
   ],
   "source": [
    "len(y_pred)"
   ]
  },
  {
   "cell_type": "code",
   "execution_count": 21,
   "metadata": {},
   "outputs": [
    {
     "name": "stdout",
     "output_type": "stream",
     "text": [
      "[[  0 200]\n",
      " [  0 200]]\n"
     ]
    }
   ],
   "source": [
    "print(confusion_matrix(test_generator.classes,y_pred))"
   ]
  },
  {
   "cell_type": "code",
   "execution_count": 22,
   "metadata": {},
   "outputs": [],
   "source": [
    "#!pip install seaborn"
   ]
  },
  {
   "cell_type": "code",
   "execution_count": 23,
   "metadata": {},
   "outputs": [
    {
     "data": {
      "text/plain": [
       "<matplotlib.axes._subplots.AxesSubplot at 0x7f4179de9860>"
      ]
     },
     "execution_count": 23,
     "metadata": {},
     "output_type": "execute_result"
    },
    {
     "data": {
      "image/png": "[encoded data removed]",
      "text/plain": [
       "<Figure size 432x288 with 2 Axes>"
      ]
     },
     "metadata": {
      "needs_background": "light"
     },
     "output_type": "display_data"
    }
   ],
   "source": [
    "#Confusion MKatrix\n",
    "import seaborn as sns\n",
    "classes = 'arco no_arco'.split()\n",
    "sns.heatmap(confusion_matrix(test_generator.classes,y_pred),annot=True, xticklabels=classes, yticklabels=classes)"
   ]
  },
  {
   "cell_type": "code",
   "execution_count": 24,
   "metadata": {},
   "outputs": [
    {
     "name": "stdout",
     "output_type": "stream",
     "text": [
      "Classification Report\n",
      "              precision    recall  f1-score   support\n",
      "\n",
      "        arco       0.00      0.00      0.00       200\n",
      "     no_arco       0.50      1.00      0.67       200\n",
      "\n",
      "   micro avg       0.50      0.50      0.50       400\n",
      "   macro avg       0.25      0.50      0.33       400\n",
      "weighted avg       0.25      0.50      0.33       400\n",
      "\n"
     ]
    }
   ],
   "source": [
    "print('Classification Report')\n",
    "print(classification_report(test_generator.classes, y_pred, target_names=classes))"
   ]
  },
  {
   "cell_type": "code",
   "execution_count": 25,
   "metadata": {},
   "outputs": [
    {
     "name": "stdout",
     "output_type": "stream",
     "text": [
      "Total de exemplos: 400\n",
      "Loss de Teste: 8.059047758579261\n",
      "Acurácia de Teste: 0.5\n"
     ]
    }
   ],
   "source": [
    "#t_ini = time.time()\n",
    "#y_pred = model.predict_generator(x_test)\n",
    "#t_fim = time.time()\n",
    "print(\"Total de exemplos: \"+ str(len(test_generator)))\n",
    "#print(\"Tempo por exemplo: \"+str((t_fim - t_ini)/len(x_test)))\n",
    "\n",
    "#model.predict_generator(test_generator,steps = nb_samples)\n",
    "\n",
    "score = model.evaluate_generator(test_generator, steps = nb_samples)\n",
    "print('Loss de Teste:', score[0])\n",
    "print('Acurácia de Teste:', score[1])"
   ]
  },
  {
   "cell_type": "code",
   "execution_count": 20,
   "metadata": {},
   "outputs": [],
   "source": [
    "score = history.model.evaluate_generator(train_generator,steps=nb_train_samples)"
   ]
  },
  {
   "cell_type": "code",
   "execution_count": null,
   "metadata": {},
   "outputs": [],
   "source": []
  }
 ],
 "metadata": {
  "kernelspec": {
   "display_name": "Python 3",
   "language": "python",
   "name": "python3"
  },
  "language_info": {
   "codemirror_mode": {
    "name": "ipython",
    "version": 3
   },
   "file_extension": ".py",
   "mimetype": "text/x-python",
   "name": "python",
   "nbconvert_exporter": "python",
   "pygments_lexer": "ipython3",
   "version": "3.6.8"
  }
 },
 "nbformat": 4,
 "nbformat_minor": 2
}
