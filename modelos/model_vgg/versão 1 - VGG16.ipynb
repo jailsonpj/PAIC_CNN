{
 "cells": [
  {
   "cell_type": "code",
   "execution_count": 11,
   "metadata": {},
   "outputs": [],
   "source": [
    "import numpy as np\n",
    "import matplotlib.pyplot as plt\n",
    "import os\n",
    "import keras\n",
    "from keras.utils.np_utils import to_categorical\n",
    "from keras.optimizers import Adam\n",
    "from keras.models import Sequential\n",
    "from keras.layers import Conv2D,MaxPool2D,Flatten,Dense,Dropout,GlobalAveragePooling2D\n",
    "from keras.callbacks import ReduceLROnPlateau\n",
    "from keras.preprocessing.image import ImageDataGenerator\n",
    "from keras.preprocessing import image\n",
    "from keras.applications.vgg16 import preprocess_input\n",
    "from keras.models import Model"
   ]
  },
  {
   "cell_type": "markdown",
   "metadata": {},
   "source": [
    "'''data = []\n",
    "labels = []\n",
    "\n",
    "imagePaths = sorted(list(paths.list_images('/home/jailsonpereira/PAIC_CNN/dataset')))\n",
    "random.seed(42)\n",
    "random.shuffle(imagePaths)\n",
    "\n",
    "for imagePath in imagePaths:\n",
    "    image = cv2.imread(imagePath)\n",
    "    image = cv2.resize(image,(64,64))\n",
    "    data.append(image)\n",
    "    \n",
    "    label = imagePath.split(os.path.sep)[-2]\n",
    "    labels.append(label)\n",
    "    \n",
    "\n",
    "data = np.array(data,dtype='float32')/255\n",
    "labels = np.array(labels)\n",
    "print(data.shape)'''"
   ]
  },
  {
   "cell_type": "markdown",
   "metadata": {},
   "source": [
    "''''le=LabelEncoder()\n",
    "labels=le.fit_transform(labels)\n",
    "labels=to_categorical(labels,num_classes=2)"
   ]
  },
  {
   "cell_type": "code",
   "execution_count": 12,
   "metadata": {},
   "outputs": [],
   "source": [
    "#X_train,X_val,Y_train,Y_val=train_test_split(data,labels,test_size=0.1)"
   ]
  },
  {
   "cell_type": "code",
   "execution_count": 13,
   "metadata": {},
   "outputs": [],
   "source": [
    "vgg16_model=keras.applications.vgg16.VGG16(weights='imagenet',include_top=False)"
   ]
  },
  {
   "cell_type": "code",
   "execution_count": 14,
   "metadata": {},
   "outputs": [
    {
     "data": {
      "text/plain": [
       "[<keras.engine.input_layer.InputLayer at 0x7f5acf8619e8>,\n",
       " <keras.layers.convolutional.Conv2D at 0x7f5acf861cf8>,\n",
       " <keras.layers.convolutional.Conv2D at 0x7f5acf645080>,\n",
       " <keras.layers.pooling.MaxPooling2D at 0x7f5acf6b0c18>,\n",
       " <keras.layers.convolutional.Conv2D at 0x7f5acf6b0ba8>,\n",
       " <keras.layers.convolutional.Conv2D at 0x7f5acf8397b8>,\n",
       " <keras.layers.pooling.MaxPooling2D at 0x7f5acf65da58>,\n",
       " <keras.layers.convolutional.Conv2D at 0x7f5acf8619b0>,\n",
       " <keras.layers.convolutional.Conv2D at 0x7f5acf67e208>,\n",
       " <keras.layers.convolutional.Conv2D at 0x7f5acf78c1d0>,\n",
       " <keras.layers.pooling.MaxPooling2D at 0x7f5acf778550>,\n",
       " <keras.layers.convolutional.Conv2D at 0x7f5acf778ba8>,\n",
       " <keras.layers.convolutional.Conv2D at 0x7f5acf59b198>,\n",
       " <keras.layers.convolutional.Conv2D at 0x7f5acf534240>,\n",
       " <keras.layers.pooling.MaxPooling2D at 0x7f5acf5512b0>,\n",
       " <keras.layers.convolutional.Conv2D at 0x7f5acf551908>,\n",
       " <keras.layers.convolutional.Conv2D at 0x7f5acf4ed7f0>,\n",
       " <keras.layers.convolutional.Conv2D at 0x7f5acf509160>,\n",
       " <keras.layers.pooling.MaxPooling2D at 0x7f5acf4bb0b8>]"
      ]
     },
     "execution_count": 14,
     "metadata": {},
     "output_type": "execute_result"
    }
   ],
   "source": [
    "vgg16_model.layers"
   ]
  },
  {
   "cell_type": "code",
   "execution_count": 15,
   "metadata": {},
   "outputs": [],
   "source": [
    "x = vgg16_model.output\n",
    "x = GlobalAveragePooling2D()(x)\n",
    "x = Dense(1024,activation='relu')(x)\n",
    "x = Dense(1024,activation='relu')(x)\n",
    "x = Dense(512,activation='relu')(x)\n",
    "preds = Dense(2,activation='softmax')(x)"
   ]
  },
  {
   "cell_type": "code",
   "execution_count": 16,
   "metadata": {},
   "outputs": [
    {
     "name": "stderr",
     "output_type": "stream",
     "text": [
      "/home/jailson/anaconda3/envs/paic/lib/python3.6/site-packages/ipykernel_launcher.py:1: UserWarning: Update your `Model` call to the Keras 2 API: `Model(inputs=Tensor(\"in..., outputs=Tensor(\"de...)`\n",
      "  \"\"\"Entry point for launching an IPython kernel.\n"
     ]
    }
   ],
   "source": [
    "model = Model(inputs=vgg16_model.input,output=preds)"
   ]
  },
  {
   "cell_type": "code",
   "execution_count": 18,
   "metadata": {},
   "outputs": [
    {
     "data": {
      "text/plain": [
       "[<keras.engine.input_layer.InputLayer at 0x7f5acf8619e8>,\n",
       " <keras.layers.convolutional.Conv2D at 0x7f5acf861cf8>,\n",
       " <keras.layers.convolutional.Conv2D at 0x7f5acf645080>,\n",
       " <keras.layers.pooling.MaxPooling2D at 0x7f5acf6b0c18>,\n",
       " <keras.layers.convolutional.Conv2D at 0x7f5acf6b0ba8>,\n",
       " <keras.layers.convolutional.Conv2D at 0x7f5acf8397b8>,\n",
       " <keras.layers.pooling.MaxPooling2D at 0x7f5acf65da58>,\n",
       " <keras.layers.convolutional.Conv2D at 0x7f5acf8619b0>,\n",
       " <keras.layers.convolutional.Conv2D at 0x7f5acf67e208>,\n",
       " <keras.layers.convolutional.Conv2D at 0x7f5acf78c1d0>,\n",
       " <keras.layers.pooling.MaxPooling2D at 0x7f5acf778550>,\n",
       " <keras.layers.convolutional.Conv2D at 0x7f5acf778ba8>,\n",
       " <keras.layers.convolutional.Conv2D at 0x7f5acf59b198>,\n",
       " <keras.layers.convolutional.Conv2D at 0x7f5acf534240>,\n",
       " <keras.layers.pooling.MaxPooling2D at 0x7f5acf5512b0>,\n",
       " <keras.layers.convolutional.Conv2D at 0x7f5acf551908>,\n",
       " <keras.layers.convolutional.Conv2D at 0x7f5acf4ed7f0>,\n",
       " <keras.layers.convolutional.Conv2D at 0x7f5acf509160>,\n",
       " <keras.layers.pooling.MaxPooling2D at 0x7f5acf4bb0b8>]"
      ]
     },
     "execution_count": 18,
     "metadata": {},
     "output_type": "execute_result"
    }
   ],
   "source": [
    "model.layers[:19]"
   ]
  },
  {
   "cell_type": "code",
   "execution_count": 19,
   "metadata": {},
   "outputs": [
    {
     "data": {
      "text/plain": [
       "[<keras.layers.core.Dense at 0x7f5acf34c710>,\n",
       " <keras.layers.core.Dense at 0x7f5acf34c518>,\n",
       " <keras.layers.core.Dense at 0x7f5acf4771d0>,\n",
       " <keras.layers.core.Dense at 0x7f5acf477ac8>]"
      ]
     },
     "execution_count": 19,
     "metadata": {},
     "output_type": "execute_result"
    }
   ],
   "source": [
    "model.layers[20:]"
   ]
  },
  {
   "cell_type": "code",
   "execution_count": 20,
   "metadata": {},
   "outputs": [],
   "source": [
    "for layer in model.layers[:20]:\n",
    "    layer.trainable=False\n",
    "for layer in model.layers[20:]:\n",
    "    layer.trainable=True"
   ]
  },
  {
   "cell_type": "code",
   "execution_count": 21,
   "metadata": {},
   "outputs": [],
   "source": [
    "#train_datagen=ImageDataGenerator(preprocessing_function=preprocess_input)\n",
    "\n",
    "#train_generator=train_datagen.flow_from_directory('direc/aqui',\n",
    "#                                                 target_size=(224,224),\n",
    "#                                                 color_mode='rgb',\n",
    "#                                                 batch_size=32,\n",
    "#                                                 class_mode='categorical',\n",
    "#                                                 shuffle=True)"
   ]
  },
  {
   "cell_type": "code",
   "execution_count": 22,
   "metadata": {},
   "outputs": [],
   "source": [
    "\n",
    "#model.compile(optimizer='Adam',loss='categorical_crossentropy',metrics=['accuracy'])\n",
    "# Adam optimizer\n",
    "# loss function will be categorical cross entropy\n",
    "# evaluation metric will be accuracy\n",
    "\n",
    "#step_size_train=train_generator.n//train_generator.batch_size\n",
    "#model.fit_generator(generator=train_generator,\n",
    "#                   steps_per_epoch=step_size_train,\n",
    "#                   epochs=5)"
   ]
  },
  {
   "cell_type": "code",
   "execution_count": null,
   "metadata": {},
   "outputs": [],
   "source": []
  },
  {
   "cell_type": "code",
   "execution_count": null,
   "metadata": {},
   "outputs": [],
   "source": []
  }
 ],
 "metadata": {
  "kernelspec": {
   "display_name": "Python 3",
   "language": "python",
   "name": "python3"
  },
  "language_info": {
   "codemirror_mode": {
    "name": "ipython",
    "version": 3
   },
   "file_extension": ".py",
   "mimetype": "text/x-python",
   "name": "python",
   "nbconvert_exporter": "python",
   "pygments_lexer": "ipython3",
   "version": "3.6.8"
  }
 },
 "nbformat": 4,
 "nbformat_minor": 2
}
