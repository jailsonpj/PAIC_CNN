{
 "cells": [
  {
   "cell_type": "code",
   "execution_count": 1,
   "metadata": {},
   "outputs": [
    {
     "name": "stderr",
     "output_type": "stream",
     "text": [
      "Using TensorFlow backend.\n"
     ]
    }
   ],
   "source": [
    "import numpy as np\n",
    "import matplotlib.pyplot as plt\n",
    "import os\n",
    "import seaborn\n",
    "import cv2\n",
    "import random\n",
    "\n",
    "from sklearn.preprocessing import LabelEncoder\n",
    "from sklearn.model_selection import train_test_split\n",
    "from sklearn.metrics import confusion_matrix\n",
    "\n",
    "import tensorflow as tf\n",
    "import keras\n",
    "from keras.utils.np_utils import to_categorical\n",
    "from keras.optimizers import RMSprop\n",
    "from keras.models import Sequential\n",
    "from keras.layers import Conv2D,MaxPool2D,Flatten,Dense,Dropout\n",
    "from keras.callbacks import ReduceLROnPlateau\n",
    "from keras.preprocessing.image import ImageDataGenerator\n",
    "from imutils import paths\n",
    "from keras import metrics"
   ]
  },
  {
   "cell_type": "code",
   "execution_count": 2,
   "metadata": {},
   "outputs": [
    {
     "name": "stdout",
     "output_type": "stream",
     "text": [
      "(223, 64, 64, 3)\n"
     ]
    }
   ],
   "source": [
    "data = []\n",
    "labels = []\n",
    "\n",
    "imagePaths = sorted(list(paths.list_images('/home/jailsonpereira/PAIC_CNN/dataset')))\n",
    "random.seed(42)\n",
    "random.shuffle(imagePaths)\n",
    "\n",
    "for imagePath in imagePaths:\n",
    "    image = cv2.imread(imagePath)\n",
    "    image = cv2.resize(image,(64,64))\n",
    "    data.append(image)\n",
    "    \n",
    "    label = imagePath.split(os.path.sep)[-2]\n",
    "    labels.append(label)\n",
    "    \n",
    "\n",
    "data = np.array(data,dtype='float32')/255\n",
    "labels = np.array(labels)\n",
    "print(data.shape)"
   ]
  },
  {
   "cell_type": "code",
   "execution_count": 3,
   "metadata": {},
   "outputs": [],
   "source": [
    "le=LabelEncoder()\n",
    "labels=le.fit_transform(labels)\n",
    "labels=to_categorical(labels,num_classes=2)"
   ]
  },
  {
   "cell_type": "code",
   "execution_count": 4,
   "metadata": {},
   "outputs": [],
   "source": [
    "X_train,X_val,Y_train,Y_val=train_test_split(data,labels,test_size=0.1)"
   ]
  },
  {
   "cell_type": "code",
   "execution_count": 5,
   "metadata": {},
   "outputs": [],
   "source": [
    "vgg16_model=keras.applications.vgg16.VGG16(include_top=False,input_shape=(64,64,3))"
   ]
  },
  {
   "cell_type": "code",
   "execution_count": 6,
   "metadata": {},
   "outputs": [
    {
     "data": {
      "text/plain": [
       "[<keras.engine.input_layer.InputLayer at 0x7faf7e72b2b0>,\n",
       " <keras.layers.convolutional.Conv2D at 0x7faf6251f780>,\n",
       " <keras.layers.convolutional.Conv2D at 0x7faf6251f438>,\n",
       " <keras.layers.pooling.MaxPooling2D at 0x7faf624c44a8>,\n",
       " <keras.layers.convolutional.Conv2D at 0x7faf624c4b00>,\n",
       " <keras.layers.convolutional.Conv2D at 0x7faf624ac1d0>,\n",
       " <keras.layers.pooling.MaxPooling2D at 0x7faf485b7080>,\n",
       " <keras.layers.convolutional.Conv2D at 0x7faf485b76d8>,\n",
       " <keras.layers.convolutional.Conv2D at 0x7faf485d55c0>,\n",
       " <keras.layers.convolutional.Conv2D at 0x7faf48573128>,\n",
       " <keras.layers.pooling.MaxPooling2D at 0x7faf48590a20>,\n",
       " <keras.layers.convolutional.Conv2D at 0x7faf48590d30>,\n",
       " <keras.layers.convolutional.Conv2D at 0x7faf485542e8>,\n",
       " <keras.layers.convolutional.Conv2D at 0x7faf484f1390>,\n",
       " <keras.layers.pooling.MaxPooling2D at 0x7faf4850e208>,\n",
       " <keras.layers.convolutional.Conv2D at 0x7faf4850eb38>,\n",
       " <keras.layers.convolutional.Conv2D at 0x7faf484cd0b8>,\n",
       " <keras.layers.convolutional.Conv2D at 0x7faf484ec518>,\n",
       " <keras.layers.pooling.MaxPooling2D at 0x7faf4848c4e0>]"
      ]
     },
     "execution_count": 6,
     "metadata": {},
     "output_type": "execute_result"
    }
   ],
   "source": [
    "vgg16_model.layers"
   ]
  },
  {
   "cell_type": "code",
   "execution_count": 7,
   "metadata": {},
   "outputs": [],
   "source": [
    "model = Sequential()"
   ]
  },
  {
   "cell_type": "code",
   "execution_count": 8,
   "metadata": {},
   "outputs": [],
   "source": [
    "for layers in vgg16_model.layers:\n",
    "    model.add(layers)"
   ]
  },
  {
   "cell_type": "code",
   "execution_count": 9,
   "metadata": {},
   "outputs": [],
   "source": [
    "model.add(Flatten())\n",
    "model.add(Dense(4096,activation='relu'))\n",
    "#model.add(Dropout(0.5))\n",
    "model.add(Dense(4096,activation='relu'))\n",
    "#model.add(Dropout(0.5))"
   ]
  },
  {
   "cell_type": "code",
   "execution_count": 10,
   "metadata": {},
   "outputs": [],
   "source": [
    "for layer in model.layers:\n",
    "    layer.trainable=False"
   ]
  },
  {
   "cell_type": "code",
   "execution_count": 11,
   "metadata": {},
   "outputs": [],
   "source": [
    "model.add(Dense(2,activation='sigmoid'))"
   ]
  },
  {
   "cell_type": "code",
   "execution_count": 12,
   "metadata": {},
   "outputs": [
    {
     "name": "stdout",
     "output_type": "stream",
     "text": [
      "_________________________________________________________________\n",
      "Layer (type)                 Output Shape              Param #   \n",
      "=================================================================\n",
      "block1_conv1 (Conv2D)        (None, 64, 64, 64)        1792      \n",
      "_________________________________________________________________\n",
      "block1_conv2 (Conv2D)        (None, 64, 64, 64)        36928     \n",
      "_________________________________________________________________\n",
      "block1_pool (MaxPooling2D)   (None, 32, 32, 64)        0         \n",
      "_________________________________________________________________\n",
      "block2_conv1 (Conv2D)        (None, 32, 32, 128)       73856     \n",
      "_________________________________________________________________\n",
      "block2_conv2 (Conv2D)        (None, 32, 32, 128)       147584    \n",
      "_________________________________________________________________\n",
      "block2_pool (MaxPooling2D)   (None, 16, 16, 128)       0         \n",
      "_________________________________________________________________\n",
      "block3_conv1 (Conv2D)        (None, 16, 16, 256)       295168    \n",
      "_________________________________________________________________\n",
      "block3_conv2 (Conv2D)        (None, 16, 16, 256)       590080    \n",
      "_________________________________________________________________\n",
      "block3_conv3 (Conv2D)        (None, 16, 16, 256)       590080    \n",
      "_________________________________________________________________\n",
      "block3_pool (MaxPooling2D)   (None, 8, 8, 256)         0         \n",
      "_________________________________________________________________\n",
      "block4_conv1 (Conv2D)        (None, 8, 8, 512)         1180160   \n",
      "_________________________________________________________________\n",
      "block4_conv2 (Conv2D)        (None, 8, 8, 512)         2359808   \n",
      "_________________________________________________________________\n",
      "block4_conv3 (Conv2D)        (None, 8, 8, 512)         2359808   \n",
      "_________________________________________________________________\n",
      "block4_pool (MaxPooling2D)   (None, 4, 4, 512)         0         \n",
      "_________________________________________________________________\n",
      "block5_conv1 (Conv2D)        (None, 4, 4, 512)         2359808   \n",
      "_________________________________________________________________\n",
      "block5_conv2 (Conv2D)        (None, 4, 4, 512)         2359808   \n",
      "_________________________________________________________________\n",
      "block5_conv3 (Conv2D)        (None, 4, 4, 512)         2359808   \n",
      "_________________________________________________________________\n",
      "block5_pool (MaxPooling2D)   (None, 2, 2, 512)         0         \n",
      "_________________________________________________________________\n",
      "flatten_1 (Flatten)          (None, 2048)              0         \n",
      "_________________________________________________________________\n",
      "dense_1 (Dense)              (None, 4096)              8392704   \n",
      "_________________________________________________________________\n",
      "dense_2 (Dense)              (None, 4096)              16781312  \n",
      "_________________________________________________________________\n",
      "dense_3 (Dense)              (None, 2)                 8194      \n",
      "=================================================================\n",
      "Total params: 39,896,898\n",
      "Trainable params: 8,194\n",
      "Non-trainable params: 39,888,704\n",
      "_________________________________________________________________\n"
     ]
    }
   ],
   "source": [
    "model.summary()"
   ]
  },
  {
   "cell_type": "code",
   "execution_count": 13,
   "metadata": {},
   "outputs": [],
   "source": [
    "opt = RMSprop(lr=0.001,rho=0.9,epsilon=1e-08,decay=0.0)"
   ]
  },
  {
   "cell_type": "code",
   "execution_count": 14,
   "metadata": {},
   "outputs": [],
   "source": [
    "model.compile(opt,loss='binary_crossentropy',metrics=['acc'])"
   ]
  },
  {
   "cell_type": "code",
   "execution_count": 15,
   "metadata": {},
   "outputs": [],
   "source": [
    "learning_rate_reduction=ReduceLROnPlateau(monitor='val_acc',patience=3,verbose=1,factor=0.5,minlr=0.00001)"
   ]
  },
  {
   "cell_type": "code",
   "execution_count": 16,
   "metadata": {},
   "outputs": [],
   "source": [
    "datagen = ImageDataGenerator(\n",
    "        featurewise_center=False,  \n",
    "        samplewise_center=False,  \n",
    "        featurewise_std_normalization=False,  \n",
    "        samplewise_std_normalization=False,  \n",
    "        zca_whitening=False,\n",
    "        rotation_range=10,  \n",
    "        zoom_range = 0.1, \n",
    "        width_shift_range=0.1,\n",
    "        height_shift_range=0.1,  \n",
    "        horizontal_flip=False,\n",
    "        vertical_flip=False) \n",
    "\n",
    "datagen.fit(X_train)"
   ]
  },
  {
   "cell_type": "code",
   "execution_count": 17,
   "metadata": {},
   "outputs": [
    {
     "name": "stdout",
     "output_type": "stream",
     "text": [
      "Epoch 1/50\n",
      "20/20 [==============================] - 5s 266ms/step - loss: 0.6097 - acc: 0.7200 - val_loss: 0.5073 - val_acc: 0.7826\n",
      "Epoch 2/50\n",
      "20/20 [==============================] - 5s 247ms/step - loss: 0.5787 - acc: 0.7350 - val_loss: 0.5336 - val_acc: 0.8261\n",
      "Epoch 3/50\n",
      "20/20 [==============================] - 5s 250ms/step - loss: 0.5491 - acc: 0.7275 - val_loss: 0.4747 - val_acc: 0.7826\n",
      "Epoch 4/50\n",
      "20/20 [==============================] - 5s 255ms/step - loss: 0.5234 - acc: 0.7300 - val_loss: 0.4600 - val_acc: 0.7826\n",
      "Epoch 5/50\n",
      "20/20 [==============================] - 5s 255ms/step - loss: 0.5040 - acc: 0.7425 - val_loss: 0.4466 - val_acc: 0.8043\n",
      "\n",
      "Epoch 00005: ReduceLROnPlateau reducing learning rate to 0.0005000000237487257.\n",
      "Epoch 6/50\n",
      "20/20 [==============================] - 5s 246ms/step - loss: 0.4734 - acc: 0.7650 - val_loss: 0.4395 - val_acc: 0.8261\n",
      "Epoch 7/50\n",
      "20/20 [==============================] - 5s 250ms/step - loss: 0.4658 - acc: 0.7650 - val_loss: 0.4988 - val_acc: 0.8261\n",
      "Epoch 8/50\n",
      "20/20 [==============================] - 6s 280ms/step - loss: 0.4668 - acc: 0.7975 - val_loss: 0.4351 - val_acc: 0.8696\n",
      "Epoch 9/50\n",
      "20/20 [==============================] - 5s 265ms/step - loss: 0.4495 - acc: 0.7850 - val_loss: 0.4314 - val_acc: 0.8913\n",
      "Epoch 10/50\n",
      "20/20 [==============================] - 5s 243ms/step - loss: 0.4533 - acc: 0.7975 - val_loss: 0.4140 - val_acc: 0.7826\n",
      "Epoch 11/50\n",
      "20/20 [==============================] - 5s 257ms/step - loss: 0.4323 - acc: 0.7800 - val_loss: 0.4158 - val_acc: 0.8913\n",
      "Epoch 12/50\n",
      "20/20 [==============================] - 5s 245ms/step - loss: 0.4385 - acc: 0.8075 - val_loss: 0.4038 - val_acc: 0.8696\n",
      "\n",
      "Epoch 00012: ReduceLROnPlateau reducing learning rate to 0.0002500000118743628.\n",
      "Epoch 13/50\n",
      "20/20 [==============================] - 5s 257ms/step - loss: 0.4255 - acc: 0.7950 - val_loss: 0.4131 - val_acc: 0.8913\n",
      "Epoch 14/50\n",
      "20/20 [==============================] - 5s 252ms/step - loss: 0.4170 - acc: 0.8250 - val_loss: 0.3976 - val_acc: 0.8261\n",
      "Epoch 15/50\n",
      "20/20 [==============================] - 5s 256ms/step - loss: 0.4125 - acc: 0.7950 - val_loss: 0.3963 - val_acc: 0.8696\n",
      "\n",
      "Epoch 00015: ReduceLROnPlateau reducing learning rate to 0.0001250000059371814.\n",
      "Epoch 16/50\n",
      "20/20 [==============================] - 5s 241ms/step - loss: 0.4183 - acc: 0.8025 - val_loss: 0.3950 - val_acc: 0.8696\n",
      "Epoch 17/50\n",
      "20/20 [==============================] - 5s 252ms/step - loss: 0.4139 - acc: 0.8175 - val_loss: 0.3946 - val_acc: 0.8696\n",
      "Epoch 18/50\n",
      "20/20 [==============================] - 5s 252ms/step - loss: 0.4079 - acc: 0.8250 - val_loss: 0.3928 - val_acc: 0.8261\n",
      "\n",
      "Epoch 00018: ReduceLROnPlateau reducing learning rate to 6.25000029685907e-05.\n",
      "Epoch 19/50\n",
      "20/20 [==============================] - 5s 258ms/step - loss: 0.4209 - acc: 0.7925 - val_loss: 0.3936 - val_acc: 0.8913\n",
      "Epoch 20/50\n",
      "20/20 [==============================] - 5s 261ms/step - loss: 0.4105 - acc: 0.8050 - val_loss: 0.3950 - val_acc: 0.8913\n",
      "Epoch 21/50\n",
      "20/20 [==============================] - 5s 242ms/step - loss: 0.4032 - acc: 0.8075 - val_loss: 0.3949 - val_acc: 0.8913\n",
      "\n",
      "Epoch 00021: ReduceLROnPlateau reducing learning rate to 3.125000148429535e-05.\n",
      "Epoch 22/50\n",
      "20/20 [==============================] - 5s 237ms/step - loss: 0.4024 - acc: 0.8250 - val_loss: 0.3937 - val_acc: 0.8913\n",
      "Epoch 23/50\n",
      "20/20 [==============================] - 5s 243ms/step - loss: 0.4004 - acc: 0.8150 - val_loss: 0.3929 - val_acc: 0.8913\n",
      "Epoch 24/50\n",
      "20/20 [==============================] - 5s 252ms/step - loss: 0.4078 - acc: 0.8175 - val_loss: 0.3929 - val_acc: 0.8913\n",
      "\n",
      "Epoch 00024: ReduceLROnPlateau reducing learning rate to 1.5625000742147677e-05.\n",
      "Epoch 25/50\n",
      "20/20 [==============================] - 5s 239ms/step - loss: 0.4045 - acc: 0.8175 - val_loss: 0.3931 - val_acc: 0.8913\n",
      "Epoch 26/50\n",
      "20/20 [==============================] - 5s 250ms/step - loss: 0.3944 - acc: 0.8400 - val_loss: 0.3930 - val_acc: 0.8913\n",
      "Epoch 27/50\n",
      "20/20 [==============================] - 5s 255ms/step - loss: 0.4061 - acc: 0.8125 - val_loss: 0.3926 - val_acc: 0.8913\n",
      "\n",
      "Epoch 00027: ReduceLROnPlateau reducing learning rate to 7.812500371073838e-06.\n",
      "Epoch 28/50\n",
      "20/20 [==============================] - 5s 255ms/step - loss: 0.3962 - acc: 0.8350 - val_loss: 0.3924 - val_acc: 0.8913\n",
      "Epoch 29/50\n",
      "20/20 [==============================] - 5s 260ms/step - loss: 0.4070 - acc: 0.8300 - val_loss: 0.3923 - val_acc: 0.8913\n",
      "Epoch 30/50\n",
      "20/20 [==============================] - 5s 255ms/step - loss: 0.4009 - acc: 0.8250 - val_loss: 0.3921 - val_acc: 0.8913\n",
      "\n",
      "Epoch 00030: ReduceLROnPlateau reducing learning rate to 3.906250185536919e-06.\n",
      "Epoch 31/50\n",
      "20/20 [==============================] - 5s 238ms/step - loss: 0.4096 - acc: 0.8150 - val_loss: 0.3921 - val_acc: 0.8913\n",
      "Epoch 32/50\n",
      "20/20 [==============================] - 5s 255ms/step - loss: 0.4020 - acc: 0.8200 - val_loss: 0.3921 - val_acc: 0.8913\n",
      "Epoch 33/50\n",
      "20/20 [==============================] - 5s 246ms/step - loss: 0.4014 - acc: 0.8150 - val_loss: 0.3920 - val_acc: 0.8913\n",
      "\n",
      "Epoch 00033: ReduceLROnPlateau reducing learning rate to 1.9531250927684596e-06.\n",
      "Epoch 34/50\n",
      "20/20 [==============================] - 5s 267ms/step - loss: 0.3970 - acc: 0.8275 - val_loss: 0.3921 - val_acc: 0.8913\n",
      "Epoch 35/50\n",
      "20/20 [==============================] - 5s 244ms/step - loss: 0.3914 - acc: 0.8150 - val_loss: 0.3920 - val_acc: 0.8913\n",
      "Epoch 36/50\n",
      "20/20 [==============================] - 5s 244ms/step - loss: 0.4057 - acc: 0.8175 - val_loss: 0.3920 - val_acc: 0.8913\n",
      "\n",
      "Epoch 00036: ReduceLROnPlateau reducing learning rate to 9.765625463842298e-07.\n",
      "Epoch 37/50\n",
      "20/20 [==============================] - 5s 258ms/step - loss: 0.4128 - acc: 0.8075 - val_loss: 0.3920 - val_acc: 0.8913\n",
      "Epoch 38/50\n",
      "20/20 [==============================] - 5s 252ms/step - loss: 0.3983 - acc: 0.8200 - val_loss: 0.3920 - val_acc: 0.8913\n",
      "Epoch 39/50\n",
      "20/20 [==============================] - 5s 257ms/step - loss: 0.4013 - acc: 0.8275 - val_loss: 0.3920 - val_acc: 0.8913\n",
      "\n",
      "Epoch 00039: ReduceLROnPlateau reducing learning rate to 4.882812731921149e-07.\n",
      "Epoch 40/50\n",
      "20/20 [==============================] - 5s 253ms/step - loss: 0.4055 - acc: 0.8225 - val_loss: 0.3920 - val_acc: 0.8913\n",
      "Epoch 41/50\n",
      "20/20 [==============================] - 5s 261ms/step - loss: 0.4108 - acc: 0.8275 - val_loss: 0.3920 - val_acc: 0.8913\n",
      "Epoch 42/50\n",
      "20/20 [==============================] - 5s 246ms/step - loss: 0.3989 - acc: 0.8225 - val_loss: 0.3920 - val_acc: 0.8913\n",
      "\n",
      "Epoch 00042: ReduceLROnPlateau reducing learning rate to 2.4414063659605745e-07.\n",
      "Epoch 43/50\n",
      "20/20 [==============================] - 5s 252ms/step - loss: 0.3921 - acc: 0.8275 - val_loss: 0.3920 - val_acc: 0.8913\n",
      "Epoch 44/50\n",
      "20/20 [==============================] - 5s 257ms/step - loss: 0.3911 - acc: 0.8325 - val_loss: 0.3920 - val_acc: 0.8913\n",
      "Epoch 45/50\n",
      "20/20 [==============================] - 5s 239ms/step - loss: 0.4023 - acc: 0.8100 - val_loss: 0.3920 - val_acc: 0.8913\n",
      "\n",
      "Epoch 00045: ReduceLROnPlateau reducing learning rate to 1.2207031829802872e-07.\n",
      "Epoch 46/50\n",
      "20/20 [==============================] - 5s 258ms/step - loss: 0.3966 - acc: 0.8325 - val_loss: 0.3920 - val_acc: 0.8913\n",
      "Epoch 47/50\n",
      "20/20 [==============================] - 5s 246ms/step - loss: 0.4001 - acc: 0.8125 - val_loss: 0.3920 - val_acc: 0.8913\n",
      "Epoch 48/50\n",
      "20/20 [==============================] - 5s 245ms/step - loss: 0.4069 - acc: 0.8350 - val_loss: 0.3920 - val_acc: 0.8913\n",
      "\n",
      "Epoch 00048: ReduceLROnPlateau reducing learning rate to 6.103515914901436e-08.\n",
      "Epoch 49/50\n",
      "20/20 [==============================] - 5s 242ms/step - loss: 0.3996 - acc: 0.8225 - val_loss: 0.3920 - val_acc: 0.8913\n",
      "Epoch 50/50\n",
      "20/20 [==============================] - 5s 255ms/step - loss: 0.3999 - acc: 0.8200 - val_loss: 0.3920 - val_acc: 0.8913\n"
     ]
    }
   ],
   "source": [
    "history=model.fit_generator(datagen.flow(X_train,Y_train,batch_size=10),epochs=50,validation_data=(X_val,Y_val),\n",
    "                          verbose=1,steps_per_epoch=X_train.shape[0]/10, callbacks=[learning_rate_reduction])"
   ]
  },
  {
   "cell_type": "code",
   "execution_count": 18,
   "metadata": {},
   "outputs": [
    {
     "data": {
      "text/plain": [
       "<matplotlib.legend.Legend at 0x7faf107abe80>"
      ]
     },
     "execution_count": 18,
     "metadata": {},
     "output_type": "execute_result"
    },
    {
     "data": {
      "image/png": "[encoded data removed]",
      "text/plain": [
       "<Figure size 432x288 with 1 Axes>"
      ]
     },
     "metadata": {
      "needs_background": "light"
     },
     "output_type": "display_data"
    },
    {
     "data": {
      "image/png": "[encoded data removed]",
      "text/plain": [
       "<Figure size 432x288 with 1 Axes>"
      ]
     },
     "metadata": {
      "needs_background": "light"
     },
     "output_type": "display_data"
    }
   ],
   "source": [
    "from matplotlib import pyplot as plt\n",
    "acc = history.history['acc']\n",
    "val_acc = history.history['val_acc']\n",
    "loss = history.history['loss']\n",
    "val_loss = history.history['val_loss']\n",
    " \n",
    "epochs = range(len(acc))\n",
    " \n",
    "plt.plot(epochs, acc, 'b', label='Training acc')\n",
    "plt.plot(epochs, val_acc, 'r', label='Validation acc')\n",
    "plt.title('Training and validation accuracy')\n",
    "plt.legend()\n",
    " \n",
    "plt.figure()\n",
    " \n",
    "plt.plot(epochs, loss, 'b', label='Training loss')\n",
    "plt.plot(epochs, val_loss, 'r', label='Validation loss')\n",
    "plt.title('Training and validation loss')\n",
    "plt.legend()"
   ]
  },
  {
   "cell_type": "code",
   "execution_count": null,
   "metadata": {},
   "outputs": [],
   "source": []
  }
 ],
 "metadata": {
  "kernelspec": {
   "display_name": "Python 3",
   "language": "python",
   "name": "python3"
  },
  "language_info": {
   "codemirror_mode": {
    "name": "ipython",
    "version": 3
   },
   "file_extension": ".py",
   "mimetype": "text/x-python",
   "name": "python",
   "nbconvert_exporter": "python",
   "pygments_lexer": "ipython3",
   "version": "3.6.6"
  }
 },
 "nbformat": 4,
 "nbformat_minor": 2
}
