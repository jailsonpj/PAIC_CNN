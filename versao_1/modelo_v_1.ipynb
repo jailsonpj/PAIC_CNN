{
 "cells": [
  {
   "cell_type": "markdown",
   "metadata": {},
   "source": [
    "# Classificação de Imagens de Arco senil"
   ]
  },
  {
   "cell_type": "code",
   "execution_count": 1,
   "metadata": {},
   "outputs": [
    {
     "name": "stderr",
     "output_type": "stream",
     "text": [
      "Using TensorFlow backend.\n"
     ]
    }
   ],
   "source": [
    "from keras.layers import Activation,Convolution2D, Dropout,Conv2D,Dense\n",
    "from keras.layers import AveragePooling2D,BatchNormalization\n",
    "from keras.layers import GlobalAveragePooling2D\n",
    "from keras.models import Sequential\n",
    "from keras.layers import Flatten\n",
    "from keras.models import Model\n",
    "from keras.layers import Input\n",
    "from keras.layers import MaxPooling2D\n",
    "from keras.layers import SeparableConv2D\n",
    "from keras.callbacks import ReduceLROnPlateau\n",
    "from keras import layers\n",
    "from keras.regularizers import l2\n",
    "from keras.preprocessing.image import ImageDataGenerator\n",
    "from keras import optimizers\n",
    "from sklearn.preprocessing import LabelBinarizer\n",
    "from sklearn.model_selection import train_test_split\n",
    "from sklearn.metrics import classification_report\n",
    "import numpy as np\n",
    "import scipy.misc\n",
    "from imutils import paths\n",
    "import cv2\n",
    "import os\n",
    "import random"
   ]
  },
  {
   "cell_type": "code",
   "execution_count": 2,
   "metadata": {},
   "outputs": [],
   "source": [
    "# pq esses módulos?\n",
    "# pq essa divisão?\n",
    "def model_cnn_2(classes):\n",
    "    model = Sequential()\n",
    "    model.add(Convolution2D(filters=16,kernel_size=(7,7),activation='selu',padding='same',\n",
    "                           name='image_array',input_shape=(150,150,1)))\n",
    "    model.add(BatchNormalization())\n",
    "    model.add(Convolution2D(filters=16,kernel_size=(7,7),activation='elu',\n",
    "                           strides=(2,2),padding='same'))\n",
    "    model.add(BatchNormalization())\n",
    "    model.add(MaxPooling2D(2, 2))\n",
    "    model.add(Dropout(0.5))\n",
    "    #model.add(Activation('relu'))\n",
    "    \n",
    "    model.add(Convolution2D(filters=48,kernel_size=(5,5),activation='selu',padding='same'))\n",
    "    model.add(BatchNormalization())\n",
    "    model.add(MaxPooling2D(2, 2))\n",
    "    model.add(Convolution2D(filters=48,kernel_size=(5,5),activation='selu',padding='same'))\n",
    "    model.add(BatchNormalization())\n",
    "    model.add(MaxPooling2D(2, 2))\n",
    "    model.add(Dropout(0.5))\n",
    "    #model.add(Activation('relu'))\n",
    "    \n",
    "    model.add(Convolution2D(filters=128,kernel_size=(3,3),activation='selu',padding='same'))\n",
    "    model.add(BatchNormalization())\n",
    "    model.add(MaxPooling2D(2, 2))\n",
    "    model.add(Convolution2D(filters=128,kernel_size=(3,3),activation='selu',padding='same'))\n",
    "    model.add(BatchNormalization())\n",
    "    model.add(MaxPooling2D(2, 2))\n",
    "    model.add(Dropout(0.5))\n",
    "    #model.add(Activation('relu'))\n",
    "    \n",
    "    model.add(Convolution2D(filters=192,kernel_size=(3,3),activation='selu',padding='same'))\n",
    "    model.add(BatchNormalization())\n",
    "    model.add(Convolution2D(filters=192,kernel_size=(3,3),activation='selu',padding='same'))\n",
    "    model.add(BatchNormalization())\n",
    "    model.add(Convolution2D(filters=128,kernel_size=(3,3),activation='selu',padding='same'))\n",
    "    model.add(BatchNormalization())\n",
    "    model.add(MaxPooling2D(2, 2))\n",
    "    \n",
    "    model.add(layers.Flatten())\n",
    "    model.add(layers.Dense(4096,activation='selu'))\n",
    "    model.add(Dropout(0.5))\n",
    "    model.add(layers.Dense(4096,activation='selu'))\n",
    "    model.add(Dropout(0.5))\n",
    "    model.add(layers.Dense(classes,activation='sigmoid'))\n",
    "    \n",
    "    return model\n",
    "    "
   ]
  },
  {
   "cell_type": "code",
   "execution_count": 3,
   "metadata": {},
   "outputs": [],
   "source": [
    "def model_cnn_vgg16(classes):\n",
    "    #224 224\n",
    "    _input = Input((150,150,1)) \n",
    "\n",
    "    conv1  = Conv2D(filters=64, kernel_size=(3,3), padding=\"same\", activation=\"relu\")(_input)\n",
    "    conv2  = Conv2D(filters=64, kernel_size=(3,3), padding=\"same\", activation=\"relu\")(conv1)\n",
    "    pool1  = MaxPooling2D((2, 2))(conv2)\n",
    "\n",
    "    conv3  = Conv2D(filters=128, kernel_size=(3,3), padding=\"same\", activation=\"relu\")(pool1)\n",
    "    conv4  = Conv2D(filters=128, kernel_size=(3,3), padding=\"same\", activation=\"relu\")(conv3)\n",
    "    pool2  = MaxPooling2D((2, 2))(conv4)\n",
    "\n",
    "    conv5  = Conv2D(filters=256, kernel_size=(3,3), padding=\"same\", activation=\"relu\")(pool2)\n",
    "    conv6  = Conv2D(filters=256, kernel_size=(3,3), padding=\"same\", activation=\"relu\")(conv5)\n",
    "    conv7  = Conv2D(filters=256, kernel_size=(3,3), padding=\"same\", activation=\"relu\")(conv6)\n",
    "    pool3  = MaxPooling2D((2, 2))(conv7)\n",
    "\n",
    "    conv8  = Conv2D(filters=512, kernel_size=(3,3), padding=\"same\", activation=\"relu\")(pool3)\n",
    "    conv9  = Conv2D(filters=512, kernel_size=(3,3), padding=\"same\", activation=\"relu\")(conv8)\n",
    "    conv10 = Conv2D(filters=512, kernel_size=(3,3), padding=\"same\", activation=\"relu\")(conv9)\n",
    "    pool4  = MaxPooling2D((2, 2))(conv10)\n",
    "\n",
    "    conv11 = Conv2D(filters=512, kernel_size=(3,3), padding=\"same\", activation=\"relu\")(pool4)\n",
    "    conv12 = Conv2D(filters=512, kernel_size=(3,3), padding=\"same\", activation=\"relu\")(conv11)\n",
    "    conv13 = Conv2D(filters=512, kernel_size=(3,3), padding=\"same\", activation=\"relu\")(conv12)\n",
    "    pool5  = MaxPooling2D((2, 2))(conv13)\n",
    "\n",
    "    flat   = Flatten()(pool5)\n",
    "    dense1 = Dense(4096, activation=\"relu\")(flat)\n",
    "    dense2 = Dense(4096, activation=\"relu\")(dense1)\n",
    "    output = Dense(classes, activation=\"sigmoid\")(dense2)\n",
    "\n",
    "    vgg16_model  = Model(inputs=_input, outputs=output)\n",
    "    \n",
    "    return vgg16_model"
   ]
  },
  {
   "cell_type": "code",
   "execution_count": 4,
   "metadata": {},
   "outputs": [],
   "source": [
    "model = model_cnn_2(1)"
   ]
  },
  {
   "cell_type": "code",
   "execution_count": 5,
   "metadata": {},
   "outputs": [
    {
     "name": "stdout",
     "output_type": "stream",
     "text": [
      "_________________________________________________________________\n",
      "Layer (type)                 Output Shape              Param #   \n",
      "=================================================================\n",
      "image_array (Conv2D)         (None, 150, 150, 16)      800       \n",
      "_________________________________________________________________\n",
      "batch_normalization_1 (Batch (None, 150, 150, 16)      64        \n",
      "_________________________________________________________________\n",
      "conv2d_1 (Conv2D)            (None, 75, 75, 16)        12560     \n",
      "_________________________________________________________________\n",
      "batch_normalization_2 (Batch (None, 75, 75, 16)        64        \n",
      "_________________________________________________________________\n",
      "max_pooling2d_1 (MaxPooling2 (None, 37, 37, 16)        0         \n",
      "_________________________________________________________________\n",
      "conv2d_2 (Conv2D)            (None, 37, 37, 48)        19248     \n",
      "_________________________________________________________________\n",
      "batch_normalization_3 (Batch (None, 37, 37, 48)        192       \n",
      "_________________________________________________________________\n",
      "max_pooling2d_2 (MaxPooling2 (None, 18, 18, 48)        0         \n",
      "_________________________________________________________________\n",
      "conv2d_3 (Conv2D)            (None, 18, 18, 48)        57648     \n",
      "_________________________________________________________________\n",
      "batch_normalization_4 (Batch (None, 18, 18, 48)        192       \n",
      "_________________________________________________________________\n",
      "max_pooling2d_3 (MaxPooling2 (None, 9, 9, 48)          0         \n",
      "_________________________________________________________________\n",
      "conv2d_4 (Conv2D)            (None, 9, 9, 128)         55424     \n",
      "_________________________________________________________________\n",
      "batch_normalization_5 (Batch (None, 9, 9, 128)         512       \n",
      "_________________________________________________________________\n",
      "max_pooling2d_4 (MaxPooling2 (None, 4, 4, 128)         0         \n",
      "_________________________________________________________________\n",
      "conv2d_5 (Conv2D)            (None, 4, 4, 128)         147584    \n",
      "_________________________________________________________________\n",
      "batch_normalization_6 (Batch (None, 4, 4, 128)         512       \n",
      "_________________________________________________________________\n",
      "max_pooling2d_5 (MaxPooling2 (None, 2, 2, 128)         0         \n",
      "_________________________________________________________________\n",
      "conv2d_6 (Conv2D)            (None, 2, 2, 192)         221376    \n",
      "_________________________________________________________________\n",
      "batch_normalization_7 (Batch (None, 2, 2, 192)         768       \n",
      "_________________________________________________________________\n",
      "conv2d_7 (Conv2D)            (None, 2, 2, 192)         331968    \n",
      "_________________________________________________________________\n",
      "batch_normalization_8 (Batch (None, 2, 2, 192)         768       \n",
      "_________________________________________________________________\n",
      "conv2d_8 (Conv2D)            (None, 2, 2, 128)         221312    \n",
      "_________________________________________________________________\n",
      "batch_normalization_9 (Batch (None, 2, 2, 128)         512       \n",
      "_________________________________________________________________\n",
      "max_pooling2d_6 (MaxPooling2 (None, 1, 1, 128)         0         \n",
      "_________________________________________________________________\n",
      "flatten_1 (Flatten)          (None, 128)               0         \n",
      "_________________________________________________________________\n",
      "dense_1 (Dense)              (None, 4096)              528384    \n",
      "_________________________________________________________________\n",
      "dropout_1 (Dropout)          (None, 4096)              0         \n",
      "_________________________________________________________________\n",
      "dense_2 (Dense)              (None, 4096)              16781312  \n",
      "_________________________________________________________________\n",
      "dropout_2 (Dropout)          (None, 4096)              0         \n",
      "_________________________________________________________________\n",
      "dense_3 (Dense)              (None, 1)                 4097      \n",
      "=================================================================\n",
      "Total params: 18,385,297\n",
      "Trainable params: 18,383,505\n",
      "Non-trainable params: 1,792\n",
      "_________________________________________________________________\n"
     ]
    }
   ],
   "source": [
    "model.summary()"
   ]
  },
  {
   "cell_type": "code",
   "execution_count": 6,
   "metadata": {},
   "outputs": [],
   "source": [
    "#model.compile(optimizer='rmsprop', loss='binary_crossentropy', metrics=['accuracy'])"
   ]
  },
  {
   "cell_type": "markdown",
   "metadata": {},
   "source": [
    "carregando imagens "
   ]
  },
  {
   "cell_type": "code",
   "execution_count": 9,
   "metadata": {},
   "outputs": [
    {
     "name": "stdout",
     "output_type": "stream",
     "text": [
      "Carregando imagens...\n",
      "Imagens carregadas\n",
      "(223, 150, 150)\n",
      "(223,)\n"
     ]
    }
   ],
   "source": [
    "print(\"Carregando imagens...\")\n",
    "data = []\n",
    "labels = []\n",
    "\n",
    "imagePaths = sorted(list(paths.list_images('/home/jailsonpereira/PAIC_CNN/versao_1')))\n",
    "random.seed(42)\n",
    "random.shuffle(imagePaths)\n",
    "\n",
    "for imagePath in imagePaths:\n",
    "    image = cv2.imread(imagePath,0)\n",
    "    image = cv2.resize(image,(150,150))\n",
    "    data.append(image)\n",
    "    \n",
    "    label = imagePath.split(os.path.sep)[-2]\n",
    "    labels.append(label)\n",
    "    \n",
    "data = np.array(data,dtype='float32')/255\n",
    "labels = np.array(labels)\n",
    "\n",
    "print(\"Imagens carregadas\")\n",
    "print(data.shape)\n",
    "print(labels.shape)"
   ]
  },
  {
   "cell_type": "code",
   "execution_count": 10,
   "metadata": {},
   "outputs": [],
   "source": [
    "#data = data.reshape(-1,224,224,1)\n",
    "#labels = labels.reshape(-1,224,224,1)"
   ]
  },
  {
   "cell_type": "code",
   "execution_count": 11,
   "metadata": {},
   "outputs": [],
   "source": [
    "#lb = LabelBinarizer()\n",
    "#labels = lb.fit_transform(labels)"
   ]
  },
  {
   "cell_type": "code",
   "execution_count": 12,
   "metadata": {},
   "outputs": [
    {
     "data": {
      "text/plain": [
       "(223,)"
      ]
     },
     "execution_count": 12,
     "metadata": {},
     "output_type": "execute_result"
    }
   ],
   "source": [
    "labels.shape"
   ]
  },
  {
   "cell_type": "code",
   "execution_count": 13,
   "metadata": {},
   "outputs": [
    {
     "data": {
      "text/plain": [
       "(223, 150, 150)"
      ]
     },
     "execution_count": 13,
     "metadata": {},
     "output_type": "execute_result"
    }
   ],
   "source": [
    "data.shape"
   ]
  },
  {
   "cell_type": "markdown",
   "metadata": {},
   "source": [
    "particionando e normalizando dataset"
   ]
  },
  {
   "cell_type": "code",
   "execution_count": 14,
   "metadata": {},
   "outputs": [],
   "source": [
    "(trainX,testX,trainY,testY) = train_test_split(data,labels,test_size=0.1,random_state=42)"
   ]
  },
  {
   "cell_type": "code",
   "execution_count": 15,
   "metadata": {},
   "outputs": [
    {
     "name": "stdout",
     "output_type": "stream",
     "text": [
      "(200, 150, 150)\n",
      "(200,)\n",
      "(23, 150, 150)\n",
      "(23,)\n"
     ]
    }
   ],
   "source": [
    "print(trainX.shape)\n",
    "print(trainY.shape)\n",
    "print(testX.shape)\n",
    "print(testY.shape)"
   ]
  },
  {
   "cell_type": "code",
   "execution_count": 16,
   "metadata": {
    "scrolled": true
   },
   "outputs": [],
   "source": [
    "# Reshape image in 3 dimensions (height = 28px, width = 28px , canal = 1)\n",
    "#X_train = trainX.re\n",
    "trainX = trainX.reshape(-1,150,150,1)\n",
    "testX = testX.reshape(-1,150,150,1)"
   ]
  },
  {
   "cell_type": "code",
   "execution_count": 17,
   "metadata": {},
   "outputs": [],
   "source": [
    "#conveter o labels para inteiros em um vetor (para 2-class, binary)\n",
    "lb = LabelBinarizer()\n",
    "trainY = lb.fit_transform(trainY)\n",
    "testY = lb.transform(testY)"
   ]
  },
  {
   "cell_type": "code",
   "execution_count": 18,
   "metadata": {},
   "outputs": [
    {
     "name": "stdout",
     "output_type": "stream",
     "text": [
      "(200, 150, 150, 1)\n",
      "(200, 1)\n",
      "(23, 150, 150, 1)\n",
      "(23, 1)\n"
     ]
    }
   ],
   "source": [
    "print(trainX.shape)\n",
    "print(trainY.shape)\n",
    "print(testX.shape)\n",
    "print(testY.shape)"
   ]
  },
  {
   "cell_type": "code",
   "execution_count": 19,
   "metadata": {},
   "outputs": [],
   "source": [
    "optimizer = optimizers.rmsprop(lr=0.001, rho=0.9, epsilon=1e-08, decay=0.0)"
   ]
  },
  {
   "cell_type": "code",
   "execution_count": 20,
   "metadata": {},
   "outputs": [],
   "source": [
    "# Data argumentation\n",
    "aug = ImageDataGenerator(rotation_range=30,width_shift_range=0.2,\n",
    "    height_shift_range=0.2, shear_range=0.1, zoom_range=0.2,\n",
    "    horizontal_flip=True, fill_mode=\"nearest\")"
   ]
  },
  {
   "cell_type": "code",
   "execution_count": 21,
   "metadata": {},
   "outputs": [],
   "source": [
    "aug.fit(trainX)"
   ]
  },
  {
   "cell_type": "code",
   "execution_count": 22,
   "metadata": {},
   "outputs": [],
   "source": [
    "EPOCHS = 150\n",
    "BS = 32"
   ]
  },
  {
   "cell_type": "code",
   "execution_count": 23,
   "metadata": {},
   "outputs": [],
   "source": [
    "model.compile(loss=\"binary_crossentropy\", optimizer=optimizer,\n",
    "        metrics=[\"accuracy\"])"
   ]
  },
  {
   "cell_type": "code",
   "execution_count": 24,
   "metadata": {},
   "outputs": [],
   "source": [
    "learning_rate_reduction = ReduceLROnPlateau(monitor='val_acc', \n",
    "                                            patience=3, \n",
    "                                            verbose=1, \n",
    "                                            factor=0.5, \n",
    "                                            min_lr=0.00001)"
   ]
  },
  {
   "cell_type": "code",
   "execution_count": 25,
   "metadata": {},
   "outputs": [
    {
     "name": "stdout",
     "output_type": "stream",
     "text": [
      "Epoch 1/150\n",
      "20/20 [==============================] - 5s 265ms/step - loss: 4.2094 - acc: 0.7120 - val_loss: 2.7726 - val_acc: 0.8261\n",
      "Epoch 2/150\n",
      "20/20 [==============================] - 2s 124ms/step - loss: 4.9599 - acc: 0.6889 - val_loss: 2.7726 - val_acc: 0.8261\n",
      "Epoch 3/150\n",
      "20/20 [==============================] - 2s 117ms/step - loss: 4.9259 - acc: 0.6910 - val_loss: 2.7726 - val_acc: 0.8261\n",
      "Epoch 4/150\n",
      "20/20 [==============================] - 2s 117ms/step - loss: 4.1645 - acc: 0.7388 - val_loss: 2.7726 - val_acc: 0.8261\n",
      "\n",
      "Epoch 00004: ReduceLROnPlateau reducing learning rate to 0.000500000023749.\n",
      "Epoch 5/150\n",
      "20/20 [==============================] - 2s 118ms/step - loss: 4.5620 - acc: 0.7138 - val_loss: 2.7726 - val_acc: 0.8261\n",
      "Epoch 6/150\n",
      "20/20 [==============================] - 2s 118ms/step - loss: 4.4658 - acc: 0.7199 - val_loss: 2.7726 - val_acc: 0.8261\n",
      "Epoch 7/150\n",
      "20/20 [==============================] - 2s 115ms/step - loss: 4.5079 - acc: 0.7172 - val_loss: 2.7726 - val_acc: 0.8261\n",
      "\n",
      "Epoch 00007: ReduceLROnPlateau reducing learning rate to 0.000250000011874.\n",
      "Epoch 8/150\n",
      "20/20 [==============================] - 2s 112ms/step - loss: 4.4196 - acc: 0.7228 - val_loss: 2.7726 - val_acc: 0.8261\n",
      "Epoch 9/150\n",
      "20/20 [==============================] - 2s 115ms/step - loss: 4.6041 - acc: 0.7112 - val_loss: 2.7726 - val_acc: 0.8261\n",
      "Epoch 10/150\n",
      "20/20 [==============================] - 2s 117ms/step - loss: 4.5992 - acc: 0.7115 - val_loss: 2.7726 - val_acc: 0.8261\n",
      "\n",
      "Epoch 00010: ReduceLROnPlateau reducing learning rate to 0.000125000005937.\n",
      "Epoch 11/150\n",
      "20/20 [==============================] - 2s 110ms/step - loss: 4.7057 - acc: 0.7048 - val_loss: 2.7726 - val_acc: 0.8261\n",
      "Epoch 12/150\n",
      "20/20 [==============================] - 2s 119ms/step - loss: 4.4607 - acc: 0.7202 - val_loss: 2.7726 - val_acc: 0.8261\n",
      "Epoch 13/150\n",
      "20/20 [==============================] - 2s 114ms/step - loss: 4.5329 - acc: 0.7157 - val_loss: 2.7726 - val_acc: 0.8261\n",
      "\n",
      "Epoch 00013: ReduceLROnPlateau reducing learning rate to 6.25000029686e-05.\n",
      "Epoch 14/150\n",
      "20/20 [==============================] - 2s 113ms/step - loss: 4.7254 - acc: 0.7036 - val_loss: 2.7726 - val_acc: 0.8261\n",
      "Epoch 15/150\n",
      "20/20 [==============================] - 2s 116ms/step - loss: 4.5569 - acc: 0.7142 - val_loss: 2.7726 - val_acc: 0.8261\n",
      "Epoch 16/150\n",
      "20/20 [==============================] - 2s 111ms/step - loss: 4.5592 - acc: 0.7140 - val_loss: 2.7726 - val_acc: 0.8261\n",
      "\n",
      "Epoch 00016: ReduceLROnPlateau reducing learning rate to 3.12500014843e-05.\n",
      "Epoch 17/150\n",
      "20/20 [==============================] - 2s 113ms/step - loss: 4.4407 - acc: 0.7215 - val_loss: 2.7726 - val_acc: 0.8261\n",
      "Epoch 18/150\n",
      "20/20 [==============================] - 2s 112ms/step - loss: 4.5329 - acc: 0.7157 - val_loss: 2.7726 - val_acc: 0.8261\n",
      "Epoch 19/150\n",
      "20/20 [==============================] - 2s 117ms/step - loss: 4.2472 - acc: 0.7336 - val_loss: 2.7726 - val_acc: 0.8261\n",
      "\n",
      "Epoch 00019: ReduceLROnPlateau reducing learning rate to 1.56250007421e-05.\n",
      "Epoch 20/150\n",
      "20/20 [==============================] - 2s 110ms/step - loss: 4.5131 - acc: 0.7169 - val_loss: 2.7726 - val_acc: 0.8261\n",
      "Epoch 21/150\n",
      "20/20 [==============================] - 2s 118ms/step - loss: 4.3434 - acc: 0.7276 - val_loss: 2.7726 - val_acc: 0.8261\n",
      "Epoch 22/150\n",
      "20/20 [==============================] - 2s 113ms/step - loss: 4.7544 - acc: 0.7018 - val_loss: 2.7726 - val_acc: 0.8261\n",
      "\n",
      "Epoch 00022: ReduceLROnPlateau reducing learning rate to 1e-05.\n",
      "Epoch 23/150\n",
      "20/20 [==============================] - 2s 114ms/step - loss: 4.2863 - acc: 0.7311 - val_loss: 2.7726 - val_acc: 0.8261\n",
      "Epoch 24/150\n",
      "20/20 [==============================] - 2s 114ms/step - loss: 4.5409 - acc: 0.7152 - val_loss: 2.7726 - val_acc: 0.8261\n",
      "Epoch 25/150\n",
      "20/20 [==============================] - 2s 116ms/step - loss: 4.3645 - acc: 0.7262 - val_loss: 2.7726 - val_acc: 0.8261\n",
      "Epoch 26/150\n",
      "20/20 [==============================] - 2s 117ms/step - loss: 4.5119 - acc: 0.7170 - val_loss: 2.7726 - val_acc: 0.8261\n",
      "Epoch 27/150\n",
      "20/20 [==============================] - 2s 112ms/step - loss: 5.0311 - acc: 0.6844 - val_loss: 2.7726 - val_acc: 0.8261\n",
      "Epoch 28/150\n",
      "20/20 [==============================] - 2s 112ms/step - loss: 4.4868 - acc: 0.7186 - val_loss: 2.7726 - val_acc: 0.8261\n",
      "Epoch 29/150\n",
      "20/20 [==============================] - 2s 113ms/step - loss: 4.7504 - acc: 0.7020 - val_loss: 2.7726 - val_acc: 0.8261\n",
      "Epoch 30/150\n",
      "20/20 [==============================] - 2s 117ms/step - loss: 4.7454 - acc: 0.7023 - val_loss: 2.7726 - val_acc: 0.8261\n",
      "Epoch 31/150\n",
      "20/20 [==============================] - 2s 112ms/step - loss: 4.6806 - acc: 0.7064 - val_loss: 2.7726 - val_acc: 0.8261\n",
      "Epoch 32/150\n",
      "20/20 [==============================] - 2s 118ms/step - loss: 4.3395 - acc: 0.7278 - val_loss: 2.7726 - val_acc: 0.8261\n",
      "Epoch 33/150\n",
      "20/20 [==============================] - 2s 113ms/step - loss: 4.5592 - acc: 0.7140 - val_loss: 2.7726 - val_acc: 0.8261\n",
      "Epoch 34/150\n",
      "20/20 [==============================] - 2s 124ms/step - loss: 4.4857 - acc: 0.7186 - val_loss: 2.7726 - val_acc: 0.8261\n",
      "Epoch 35/150\n",
      "20/20 [==============================] - 2s 116ms/step - loss: 4.7715 - acc: 0.7007 - val_loss: 2.7726 - val_acc: 0.8261\n",
      "Epoch 36/150\n",
      "20/20 [==============================] - 2s 116ms/step - loss: 4.5119 - acc: 0.7170 - val_loss: 2.7726 - val_acc: 0.8261\n",
      "Epoch 37/150\n",
      "20/20 [==============================] - 2s 118ms/step - loss: 4.5069 - acc: 0.7173 - val_loss: 2.7726 - val_acc: 0.8261\n",
      "Epoch 38/150\n",
      "20/20 [==============================] - 2s 120ms/step - loss: 4.3708 - acc: 0.7258 - val_loss: 2.7726 - val_acc: 0.8261\n",
      "Epoch 39/150\n",
      "20/20 [==============================] - 2s 119ms/step - loss: 4.3934 - acc: 0.7244 - val_loss: 2.7726 - val_acc: 0.8261\n",
      "Epoch 40/150\n",
      "20/20 [==============================] - 2s 113ms/step - loss: 4.4629 - acc: 0.7201 - val_loss: 2.7726 - val_acc: 0.8261\n",
      "Epoch 41/150\n",
      "20/20 [==============================] - 2s 120ms/step - loss: 4.5819 - acc: 0.7126 - val_loss: 2.7726 - val_acc: 0.8261\n",
      "Epoch 42/150\n",
      "20/20 [==============================] - 2s 117ms/step - loss: 4.7214 - acc: 0.7038 - val_loss: 2.7726 - val_acc: 0.8261\n",
      "Epoch 43/150\n",
      "20/20 [==============================] - 2s 116ms/step - loss: 4.4646 - acc: 0.7200 - val_loss: 2.7726 - val_acc: 0.8261\n",
      "Epoch 44/150\n",
      "20/20 [==============================] - 2s 113ms/step - loss: 4.4880 - acc: 0.7185 - val_loss: 2.7726 - val_acc: 0.8261\n",
      "Epoch 45/150\n",
      "20/20 [==============================] - 2s 116ms/step - loss: 4.1433 - acc: 0.7401 - val_loss: 2.7726 - val_acc: 0.8261\n",
      "Epoch 46/150\n",
      "20/20 [==============================] - 2s 113ms/step - loss: 4.6913 - acc: 0.7057 - val_loss: 2.7726 - val_acc: 0.8261\n",
      "Epoch 47/150\n",
      "20/20 [==============================] - 2s 116ms/step - loss: 4.0979 - acc: 0.7430 - val_loss: 2.7726 - val_acc: 0.8261\n",
      "Epoch 48/150\n",
      "20/20 [==============================] - 2s 112ms/step - loss: 4.7544 - acc: 0.7018 - val_loss: 2.7726 - val_acc: 0.8261\n",
      "Epoch 49/150\n",
      "20/20 [==============================] - 2s 113ms/step - loss: 4.6251 - acc: 0.7099 - val_loss: 2.7726 - val_acc: 0.8261\n",
      "Epoch 50/150\n",
      "20/20 [==============================] - 2s 117ms/step - loss: 4.6712 - acc: 0.7070 - val_loss: 2.7726 - val_acc: 0.8261\n",
      "Epoch 51/150\n",
      "20/20 [==============================] - 2s 113ms/step - loss: 4.9720 - acc: 0.6881 - val_loss: 2.7726 - val_acc: 0.8261\n",
      "Epoch 52/150\n",
      "20/20 [==============================] - 2s 118ms/step - loss: 4.1690 - acc: 0.7385 - val_loss: 2.7726 - val_acc: 0.8261\n",
      "Epoch 53/150\n",
      "20/20 [==============================] - 2s 118ms/step - loss: 4.4908 - acc: 0.7183 - val_loss: 2.7726 - val_acc: 0.8261\n",
      "Epoch 54/150\n",
      "20/20 [==============================] - 2s 115ms/step - loss: 4.7424 - acc: 0.7025 - val_loss: 2.7726 - val_acc: 0.8261\n",
      "Epoch 55/150\n",
      "20/20 [==============================] - 2s 113ms/step - loss: 4.5620 - acc: 0.7138 - val_loss: 2.7726 - val_acc: 0.8261\n",
      "Epoch 56/150\n",
      "20/20 [==============================] - 2s 116ms/step - loss: 4.4396 - acc: 0.7215 - val_loss: 2.7726 - val_acc: 0.8261\n",
      "Epoch 57/150\n",
      "20/20 [==============================] - 2s 120ms/step - loss: 4.3684 - acc: 0.7260 - val_loss: 2.7726 - val_acc: 0.8261\n",
      "Epoch 58/150\n",
      "20/20 [==============================] - 2s 118ms/step - loss: 4.4116 - acc: 0.7233 - val_loss: 2.7726 - val_acc: 0.8261\n",
      "Epoch 59/150\n",
      "20/20 [==============================] - 2s 124ms/step - loss: 4.3946 - acc: 0.7243 - val_loss: 2.7726 - val_acc: 0.8261\n",
      "Epoch 60/150\n",
      "20/20 [==============================] - 2s 112ms/step - loss: 4.9652 - acc: 0.6886 - val_loss: 2.7726 - val_acc: 0.8261\n",
      "Epoch 61/150\n",
      "20/20 [==============================] - 2s 116ms/step - loss: 4.4396 - acc: 0.7215 - val_loss: 2.7726 - val_acc: 0.8261\n",
      "Epoch 62/150\n",
      "20/20 [==============================] - 2s 112ms/step - loss: 4.4788 - acc: 0.7191 - val_loss: 2.7726 - val_acc: 0.8261\n",
      "Epoch 63/150\n",
      "20/20 [==============================] - 2s 112ms/step - loss: 4.5620 - acc: 0.7138 - val_loss: 2.7726 - val_acc: 0.8261\n",
      "Epoch 64/150\n",
      "20/20 [==============================] - 2s 115ms/step - loss: 4.6332 - acc: 0.7094 - val_loss: 2.7726 - val_acc: 0.8261\n",
      "Epoch 65/150\n",
      "20/20 [==============================] - 2s 120ms/step - loss: 4.5530 - acc: 0.7144 - val_loss: 2.7726 - val_acc: 0.8261\n",
      "Epoch 66/150\n",
      "20/20 [==============================] - 2s 111ms/step - loss: 4.5633 - acc: 0.7138 - val_loss: 2.7726 - val_acc: 0.8261\n",
      "Epoch 67/150\n",
      "20/20 [==============================] - 2s 123ms/step - loss: 4.6031 - acc: 0.7113 - val_loss: 2.7726 - val_acc: 0.8261\n",
      "Epoch 68/150\n",
      "20/20 [==============================] - 2s 119ms/step - loss: 4.5289 - acc: 0.7159 - val_loss: 2.7726 - val_acc: 0.8261\n",
      "Epoch 69/150\n",
      "20/20 [==============================] - 2s 115ms/step - loss: 4.7254 - acc: 0.7036 - val_loss: 2.7726 - val_acc: 0.8261\n",
      "Epoch 70/150\n",
      "20/20 [==============================] - 2s 114ms/step - loss: 4.2983 - acc: 0.7304 - val_loss: 2.7726 - val_acc: 0.8261\n",
      "Epoch 71/150\n",
      "20/20 [==============================] - 2s 112ms/step - loss: 4.5790 - acc: 0.7128 - val_loss: 2.7726 - val_acc: 0.8261\n",
      "Epoch 72/150\n",
      "20/20 [==============================] - 2s 117ms/step - loss: 4.6608 - acc: 0.7076 - val_loss: 2.7726 - val_acc: 0.8261\n",
      "Epoch 73/150\n",
      "20/20 [==============================] - 3s 138ms/step - loss: 4.2912 - acc: 0.7308 - val_loss: 2.7726 - val_acc: 0.8261\n",
      "Epoch 74/150\n",
      "20/20 [==============================] - 2s 115ms/step - loss: 4.4788 - acc: 0.7191 - val_loss: 2.7726 - val_acc: 0.8261\n",
      "Epoch 75/150\n",
      "20/20 [==============================] - 2s 116ms/step - loss: 4.7334 - acc: 0.7031 - val_loss: 2.7726 - val_acc: 0.8261\n",
      "Epoch 76/150\n",
      "20/20 [==============================] - 2s 112ms/step - loss: 4.1269 - acc: 0.7411 - val_loss: 2.7726 - val_acc: 0.8261\n",
      "Epoch 77/150\n",
      "20/20 [==============================] - 2s 116ms/step - loss: 4.7492 - acc: 0.7021 - val_loss: 2.7726 - val_acc: 0.8261\n",
      "Epoch 78/150\n",
      "20/20 [==============================] - 2s 117ms/step - loss: 4.2983 - acc: 0.7304 - val_loss: 2.7726 - val_acc: 0.8261\n",
      "Epoch 79/150\n",
      "20/20 [==============================] - 2s 118ms/step - loss: 4.6281 - acc: 0.7097 - val_loss: 2.7726 - val_acc: 0.8261\n",
      "Epoch 80/150\n",
      "20/20 [==============================] - 2s 113ms/step - loss: 4.6001 - acc: 0.7115 - val_loss: 2.7726 - val_acc: 0.8261\n",
      "Epoch 81/150\n",
      "20/20 [==============================] - 2s 112ms/step - loss: 4.6412 - acc: 0.7089 - val_loss: 2.7726 - val_acc: 0.8261\n",
      "Epoch 82/150\n",
      "20/20 [==============================] - 2s 113ms/step - loss: 4.5790 - acc: 0.7128 - val_loss: 2.7726 - val_acc: 0.8261\n",
      "Epoch 83/150\n",
      "20/20 [==============================] - 2s 109ms/step - loss: 4.3373 - acc: 0.7279 - val_loss: 2.7726 - val_acc: 0.8261\n",
      "Epoch 84/150\n",
      "20/20 [==============================] - 2s 117ms/step - loss: 4.7492 - acc: 0.7021 - val_loss: 2.7726 - val_acc: 0.8261\n",
      "Epoch 85/150\n",
      "20/20 [==============================] - 2s 112ms/step - loss: 4.3866 - acc: 0.7248 - val_loss: 2.7726 - val_acc: 0.8261\n",
      "Epoch 86/150\n",
      "20/20 [==============================] - 2s 115ms/step - loss: 4.8256 - acc: 0.6973 - val_loss: 2.7726 - val_acc: 0.8261\n",
      "Epoch 87/150\n",
      "20/20 [==============================] - 2s 115ms/step - loss: 4.2733 - acc: 0.7320 - val_loss: 2.7726 - val_acc: 0.8261\n",
      "Epoch 88/150\n",
      "20/20 [==============================] - 2s 116ms/step - loss: 4.3684 - acc: 0.7260 - val_loss: 2.7726 - val_acc: 0.8261\n",
      "Epoch 89/150\n",
      "20/20 [==============================] - 2s 115ms/step - loss: 4.3194 - acc: 0.7291 - val_loss: 2.7726 - val_acc: 0.8261\n",
      "Epoch 90/150\n",
      "20/20 [==============================] - 2s 112ms/step - loss: 4.4828 - acc: 0.7188 - val_loss: 2.7726 - val_acc: 0.8261\n",
      "Epoch 91/150\n",
      "20/20 [==============================] - 2s 112ms/step - loss: 4.5369 - acc: 0.7154 - val_loss: 2.7726 - val_acc: 0.8261\n",
      "Epoch 92/150\n",
      "20/20 [==============================] - 2s 116ms/step - loss: 4.6992 - acc: 0.7052 - val_loss: 2.7726 - val_acc: 0.8261\n",
      "Epoch 93/150\n",
      "20/20 [==============================] - 2s 114ms/step - loss: 4.7544 - acc: 0.7018 - val_loss: 2.7726 - val_acc: 0.8261\n",
      "Epoch 94/150\n",
      "20/20 [==============================] - 2s 115ms/step - loss: 4.3655 - acc: 0.7262 - val_loss: 2.7726 - val_acc: 0.8261\n",
      "Epoch 95/150\n",
      "20/20 [==============================] - 2s 113ms/step - loss: 4.4076 - acc: 0.7235 - val_loss: 2.7726 - val_acc: 0.8261\n",
      "Epoch 96/150\n",
      "20/20 [==============================] - 2s 113ms/step - loss: 4.5790 - acc: 0.7128 - val_loss: 2.7726 - val_acc: 0.8261\n",
      "Epoch 97/150\n",
      "20/20 [==============================] - 2s 113ms/step - loss: 4.4196 - acc: 0.7228 - val_loss: 2.7726 - val_acc: 0.8261\n",
      "Epoch 98/150\n",
      "20/20 [==============================] - 2s 113ms/step - loss: 4.8216 - acc: 0.6976 - val_loss: 2.7726 - val_acc: 0.8261\n",
      "Epoch 99/150\n",
      "20/20 [==============================] - 2s 119ms/step - loss: 4.6001 - acc: 0.7115 - val_loss: 2.7726 - val_acc: 0.8261\n",
      "Epoch 100/150\n",
      "20/20 [==============================] - 2s 116ms/step - loss: 4.5159 - acc: 0.7167 - val_loss: 2.7726 - val_acc: 0.8261\n",
      "Epoch 101/150\n",
      "20/20 [==============================] - 2s 122ms/step - loss: 4.4434 - acc: 0.7213 - val_loss: 2.7726 - val_acc: 0.8261\n",
      "Epoch 102/150\n",
      "20/20 [==============================] - 2s 117ms/step - loss: 4.3415 - acc: 0.7277 - val_loss: 2.7726 - val_acc: 0.8261\n",
      "Epoch 103/150\n",
      "20/20 [==============================] - 2s 116ms/step - loss: 4.2151 - acc: 0.7356 - val_loss: 2.7726 - val_acc: 0.8261\n",
      "Epoch 104/150\n",
      "20/20 [==============================] - 2s 117ms/step - loss: 4.7569 - acc: 0.7016 - val_loss: 2.7726 - val_acc: 0.8261\n",
      "Epoch 105/150\n",
      "20/20 [==============================] - 2s 115ms/step - loss: 4.3906 - acc: 0.7246 - val_loss: 2.7726 - val_acc: 0.8261\n",
      "Epoch 106/150\n",
      "20/20 [==============================] - 2s 117ms/step - loss: 4.7424 - acc: 0.7025 - val_loss: 2.7726 - val_acc: 0.8261\n",
      "Epoch 107/150\n",
      "20/20 [==============================] - 2s 118ms/step - loss: 4.5184 - acc: 0.7166 - val_loss: 2.7726 - val_acc: 0.8261\n",
      "Epoch 108/150\n",
      "20/20 [==============================] - 2s 121ms/step - loss: 4.2452 - acc: 0.7337 - val_loss: 2.7726 - val_acc: 0.8261\n",
      "Epoch 109/150\n",
      "20/20 [==============================] - 2s 114ms/step - loss: 4.6041 - acc: 0.7112 - val_loss: 2.7726 - val_acc: 0.8261\n",
      "Epoch 110/150\n",
      "20/20 [==============================] - 2s 113ms/step - loss: 4.5119 - acc: 0.7170 - val_loss: 2.7726 - val_acc: 0.8261\n",
      "Epoch 111/150\n",
      "20/20 [==============================] - 2s 116ms/step - loss: 4.4434 - acc: 0.7213 - val_loss: 2.7726 - val_acc: 0.8261\n",
      "Epoch 112/150\n",
      "20/20 [==============================] - 2s 112ms/step - loss: 4.1981 - acc: 0.7367 - val_loss: 2.7726 - val_acc: 0.8261\n",
      "Epoch 113/150\n",
      "20/20 [==============================] - 2s 112ms/step - loss: 4.5038 - acc: 0.7175 - val_loss: 2.7726 - val_acc: 0.8261\n",
      "Epoch 114/150\n",
      "20/20 [==============================] - 2s 112ms/step - loss: 5.0642 - acc: 0.6823 - val_loss: 2.7726 - val_acc: 0.8261\n",
      "Epoch 115/150\n",
      "20/20 [==============================] - 2s 116ms/step - loss: 4.7504 - acc: 0.7020 - val_loss: 2.7726 - val_acc: 0.8261\n",
      "Epoch 116/150\n",
      "20/20 [==============================] - 2s 112ms/step - loss: 4.5540 - acc: 0.7143 - val_loss: 2.7726 - val_acc: 0.8261\n",
      "Epoch 117/150\n",
      "20/20 [==============================] - 2s 116ms/step - loss: 4.4396 - acc: 0.7215 - val_loss: 2.7726 - val_acc: 0.8261\n",
      "Epoch 118/150\n",
      "20/20 [==============================] - 2s 112ms/step - loss: 4.5620 - acc: 0.7138 - val_loss: 2.7726 - val_acc: 0.8261\n",
      "Epoch 119/150\n"
     ]
    },
    {
     "name": "stdout",
     "output_type": "stream",
     "text": [
      "20/20 [==============================] - 2s 116ms/step - loss: 4.7424 - acc: 0.7025 - val_loss: 2.7726 - val_acc: 0.8261\n",
      "Epoch 120/150\n",
      "20/20 [==============================] - 2s 112ms/step - loss: 4.4367 - acc: 0.7217 - val_loss: 2.7726 - val_acc: 0.8261\n",
      "Epoch 121/150\n",
      "20/20 [==============================] - 2s 111ms/step - loss: 4.5580 - acc: 0.7141 - val_loss: 2.7726 - val_acc: 0.8261\n",
      "Epoch 122/150\n",
      "20/20 [==============================] - 2s 112ms/step - loss: 4.6332 - acc: 0.7094 - val_loss: 2.7726 - val_acc: 0.8261\n",
      "Epoch 123/150\n",
      "20/20 [==============================] - 2s 120ms/step - loss: 4.5569 - acc: 0.7142 - val_loss: 2.7726 - val_acc: 0.8261\n",
      "Epoch 124/150\n",
      "20/20 [==============================] - 2s 120ms/step - loss: 4.4788 - acc: 0.7191 - val_loss: 2.7726 - val_acc: 0.8261\n",
      "Epoch 125/150\n",
      "20/20 [==============================] - 2s 114ms/step - loss: 4.5369 - acc: 0.7154 - val_loss: 2.7726 - val_acc: 0.8261\n",
      "Epoch 126/150\n",
      "20/20 [==============================] - 2s 113ms/step - loss: 4.8467 - acc: 0.6960 - val_loss: 2.7726 - val_acc: 0.8261\n",
      "Epoch 127/150\n",
      "20/20 [==============================] - 2s 113ms/step - loss: 4.5079 - acc: 0.7172 - val_loss: 2.7726 - val_acc: 0.8261\n",
      "Epoch 128/150\n",
      "20/20 [==============================] - 2s 112ms/step - loss: 4.8467 - acc: 0.6960 - val_loss: 2.7726 - val_acc: 0.8261\n",
      "Epoch 129/150\n",
      "20/20 [==============================] - 2s 116ms/step - loss: 4.4319 - acc: 0.7220 - val_loss: 2.7726 - val_acc: 0.8261\n",
      "Epoch 130/150\n",
      "20/20 [==============================] - 2s 117ms/step - loss: 4.7123 - acc: 0.7044 - val_loss: 2.7726 - val_acc: 0.8261\n",
      "Epoch 131/150\n",
      "20/20 [==============================] - 2s 112ms/step - loss: 4.1730 - acc: 0.7382 - val_loss: 2.7726 - val_acc: 0.8261\n",
      "Epoch 132/150\n",
      "20/20 [==============================] - 2s 113ms/step - loss: 4.5369 - acc: 0.7154 - val_loss: 2.7726 - val_acc: 0.8261\n",
      "Epoch 133/150\n",
      "20/20 [==============================] - 2s 113ms/step - loss: 4.5540 - acc: 0.7143 - val_loss: 2.7726 - val_acc: 0.8261\n",
      "Epoch 134/150\n",
      "20/20 [==============================] - 2s 119ms/step - loss: 4.8467 - acc: 0.6960 - val_loss: 2.7726 - val_acc: 0.8261\n",
      "Epoch 135/150\n",
      "20/20 [==============================] - 2s 116ms/step - loss: 4.6291 - acc: 0.7096 - val_loss: 2.7726 - val_acc: 0.8261\n",
      "Epoch 136/150\n",
      "20/20 [==============================] - 2s 114ms/step - loss: 4.4868 - acc: 0.7186 - val_loss: 2.7726 - val_acc: 0.8261\n",
      "Epoch 137/150\n",
      "20/20 [==============================] - 2s 121ms/step - loss: 4.4569 - acc: 0.7204 - val_loss: 2.7726 - val_acc: 0.8261\n",
      "Epoch 138/150\n",
      "20/20 [==============================] - 2s 109ms/step - loss: 4.9276 - acc: 0.6909 - val_loss: 2.7726 - val_acc: 0.8261\n",
      "Epoch 139/150\n",
      "20/20 [==============================] - 2s 116ms/step - loss: 4.3107 - acc: 0.7296 - val_loss: 2.7726 - val_acc: 0.8261\n",
      "Epoch 140/150\n",
      "20/20 [==============================] - 2s 112ms/step - loss: 4.5329 - acc: 0.7157 - val_loss: 2.7726 - val_acc: 0.8261\n",
      "Epoch 141/150\n",
      "20/20 [==============================] - 2s 112ms/step - loss: 4.5329 - acc: 0.7157 - val_loss: 2.7726 - val_acc: 0.8261\n",
      "Epoch 142/150\n",
      "20/20 [==============================] - 2s 115ms/step - loss: 4.7504 - acc: 0.7020 - val_loss: 2.7726 - val_acc: 0.8261\n",
      "Epoch 143/150\n",
      "20/20 [==============================] - 2s 115ms/step - loss: 4.6041 - acc: 0.7112 - val_loss: 2.7726 - val_acc: 0.8261\n",
      "Epoch 144/150\n",
      "20/20 [==============================] - 2s 118ms/step - loss: 4.5079 - acc: 0.7172 - val_loss: 2.7726 - val_acc: 0.8261\n",
      "Epoch 145/150\n",
      "20/20 [==============================] - 2s 115ms/step - loss: 4.4646 - acc: 0.7200 - val_loss: 2.7726 - val_acc: 0.8261\n",
      "Epoch 146/150\n",
      "20/20 [==============================] - 2s 112ms/step - loss: 4.7224 - acc: 0.7038 - val_loss: 2.7726 - val_acc: 0.8261\n",
      "Epoch 147/150\n",
      "20/20 [==============================] - 2s 118ms/step - loss: 4.5357 - acc: 0.7155 - val_loss: 2.7726 - val_acc: 0.8261\n",
      "Epoch 148/150\n",
      "20/20 [==============================] - 2s 114ms/step - loss: 4.7003 - acc: 0.7052 - val_loss: 2.7726 - val_acc: 0.8261\n",
      "Epoch 149/150\n",
      "20/20 [==============================] - 2s 112ms/step - loss: 4.5870 - acc: 0.7123 - val_loss: 2.7726 - val_acc: 0.8261\n",
      "Epoch 150/150\n",
      "20/20 [==============================] - 2s 113ms/step - loss: 4.7174 - acc: 0.7041 - val_loss: 2.7726 - val_acc: 0.8261\n"
     ]
    }
   ],
   "source": [
    "# train the network\n",
    "H = model.fit_generator(aug.flow(trainX, trainY, batch_size=BS),\n",
    "    validation_data=(testX, testY), steps_per_epoch=trainX.shape[0]/10,\n",
    "    epochs=EPOCHS,callbacks=[learning_rate_reduction])"
   ]
  },
  {
   "cell_type": "code",
   "execution_count": 26,
   "metadata": {},
   "outputs": [
    {
     "name": "stdout",
     "output_type": "stream",
     "text": [
      "(150, 150)\n",
      "(1, 150, 150, 1)\n"
     ]
    }
   ],
   "source": [
    "image = cv2.imread('/home/jailsonpereira/PAIC_CNN/teste.jpg',0)\n",
    "output = image.copy()\n",
    "image = cv2.resize(image, (150, 150))\n",
    "\n",
    "\n",
    "image = image.astype(\"float32\") / 255.0\n",
    "print(image.shape)\n",
    "\n",
    "image = np.array(image,dtype='float32')/255\n",
    "image = image.reshape(-1,image.shape[0], image.shape[1],1)\n",
    "print(image.shape)\n",
    "\n",
    "pred = model.predict(image)"
   ]
  },
  {
   "cell_type": "code",
   "execution_count": 27,
   "metadata": {},
   "outputs": [],
   "source": [
    "i = pred.argmax(axis=1)[0]"
   ]
  },
  {
   "cell_type": "code",
   "execution_count": 28,
   "metadata": {},
   "outputs": [],
   "source": [
    "label = lb.classes_[i]"
   ]
  },
  {
   "cell_type": "code",
   "execution_count": 29,
   "metadata": {},
   "outputs": [
    {
     "data": {
      "text/plain": [
       "array([[1.]], dtype=float32)"
      ]
     },
     "execution_count": 29,
     "metadata": {},
     "output_type": "execute_result"
    }
   ],
   "source": [
    "pred"
   ]
  },
  {
   "cell_type": "code",
   "execution_count": 30,
   "metadata": {},
   "outputs": [
    {
     "data": {
      "text/plain": [
       "array([[223, 222, 222, ..., 184, 184, 183],\n",
       "       [221, 220, 220, ..., 184, 183, 183],\n",
       "       [220, 220, 220, ..., 183, 183, 183],\n",
       "       ...,\n",
       "       [225, 225, 225, ..., 217, 217, 218],\n",
       "       [225, 225, 225, ..., 216, 216, 217],\n",
       "       [226, 226, 226, ..., 215, 216, 216]], dtype=uint8)"
      ]
     },
     "execution_count": 30,
     "metadata": {},
     "output_type": "execute_result"
    }
   ],
   "source": [
    "text = \"{}: {:.2f}%\".format(label, pred[0][i] * 100)\n",
    "cv2.putText(output, text, (10, 30), cv2.FONT_HERSHEY_SIMPLEX, 0.7,\n",
    "    (0, 0, 255), 2)\n",
    " "
   ]
  },
  {
   "cell_type": "code",
   "execution_count": null,
   "metadata": {},
   "outputs": [],
   "source": [
    "cv2.imshow(\"Image\", output)\n",
    "cv2.waitKey(0)"
   ]
  },
  {
   "cell_type": "code",
   "execution_count": null,
   "metadata": {},
   "outputs": [],
   "source": []
  }
 ],
 "metadata": {
  "kernelspec": {
   "display_name": "Python 3",
   "language": "python",
   "name": "python3"
  },
  "language_info": {
   "codemirror_mode": {
    "name": "ipython",
    "version": 3
   },
   "file_extension": ".py",
   "mimetype": "text/x-python",
   "name": "python",
   "nbconvert_exporter": "python",
   "pygments_lexer": "ipython3",
   "version": "3.6.6"
  }
 },
 "nbformat": 4,
 "nbformat_minor": 2
}
