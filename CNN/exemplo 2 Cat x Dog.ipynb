{
 "cells": [
  {
   "cell_type": "markdown",
   "metadata": {},
   "source": [
    "# As a practical example, we’ll focus on classifying\n",
    "images as dogs or cats, in a dataset containing 4,000 pictures of cats and dogs (2,000\n",
    "cats, 2,000 dogs). We’ll use 2,000 pictures for training—1,000 for validation, and\n",
    "1,000 for testing."
   ]
  },
  {
   "cell_type": "code",
   "execution_count": 1,
   "metadata": {},
   "outputs": [
    {
     "name": "stderr",
     "output_type": "stream",
     "text": [
      "/home/jailson/anaconda3/envs/cnn2/lib/python3.6/site-packages/h5py/__init__.py:36: FutureWarning: Conversion of the second argument of issubdtype from `float` to `np.floating` is deprecated. In future, it will be treated as `np.float64 == np.dtype(float).type`.\n",
      "  from ._conv import register_converters as _register_converters\n",
      "Using TensorFlow backend.\n"
     ]
    }
   ],
   "source": [
    "from keras import layers\n",
    "from keras  import models"
   ]
  },
  {
   "cell_type": "code",
   "execution_count": 2,
   "metadata": {},
   "outputs": [],
   "source": [
    "#estrutura da CNN:\n",
    "#(4 - camadas de Convolução)\n",
    "#(4 - camadas de pooling)\n",
    "#(1 - fullconnection de 512 - 1 de saída)\n",
    "\n",
    "model = models.Sequential()\n",
    "model.add(layers.Conv2D(32,(3,3),activation='relu',\n",
    "                       input_shape=(150,150,3)))\n",
    "model.add(layers.MaxPooling2D((2,2)))\n",
    "model.add(layers.Conv2D(64,(3,3),activation='relu'))\n",
    "model.add(layers.MaxPooling2D((2,2)))\n",
    "model.add(layers.Conv2D(128,(3,3),activation='relu'))\n",
    "model.add(layers.MaxPooling2D((2,2)))\n",
    "model.add(layers.Conv2D(128,(3,3),activation='relu'))\n",
    "model.add(layers.MaxPooling2D((2,2)))\n",
    "\n",
    "model.add(layers.Flatten())\n",
    "model.add(layers.Dense(512,activation='relu'))\n",
    "model.add(layers.Dense(1,activation='sigmoid'))"
   ]
  },
  {
   "cell_type": "code",
   "execution_count": 3,
   "metadata": {},
   "outputs": [
    {
     "name": "stdout",
     "output_type": "stream",
     "text": [
      "_________________________________________________________________\n",
      "Layer (type)                 Output Shape              Param #   \n",
      "=================================================================\n",
      "conv2d_1 (Conv2D)            (None, 148, 148, 32)      896       \n",
      "_________________________________________________________________\n",
      "max_pooling2d_1 (MaxPooling2 (None, 74, 74, 32)        0         \n",
      "_________________________________________________________________\n",
      "conv2d_2 (Conv2D)            (None, 72, 72, 64)        18496     \n",
      "_________________________________________________________________\n",
      "max_pooling2d_2 (MaxPooling2 (None, 36, 36, 64)        0         \n",
      "_________________________________________________________________\n",
      "conv2d_3 (Conv2D)            (None, 34, 34, 128)       73856     \n",
      "_________________________________________________________________\n",
      "max_pooling2d_3 (MaxPooling2 (None, 17, 17, 128)       0         \n",
      "_________________________________________________________________\n",
      "conv2d_4 (Conv2D)            (None, 15, 15, 128)       147584    \n",
      "_________________________________________________________________\n",
      "max_pooling2d_4 (MaxPooling2 (None, 7, 7, 128)         0         \n",
      "_________________________________________________________________\n",
      "flatten_1 (Flatten)          (None, 6272)              0         \n",
      "_________________________________________________________________\n",
      "dense_1 (Dense)              (None, 512)               3211776   \n",
      "_________________________________________________________________\n",
      "dense_2 (Dense)              (None, 1)                 513       \n",
      "=================================================================\n",
      "Total params: 3,453,121\n",
      "Trainable params: 3,453,121\n",
      "Non-trainable params: 0\n",
      "_________________________________________________________________\n"
     ]
    }
   ],
   "source": [
    "model.summary()"
   ]
  },
  {
   "cell_type": "code",
   "execution_count": 4,
   "metadata": {},
   "outputs": [],
   "source": [
    "from keras import optimizers\n",
    "\n",
    "model.compile(loss='binary_crossentropy',\n",
    "              optimizer=optimizers.RMSprop(lr=0.001),\n",
    "             metrics=['acc'])"
   ]
  },
  {
   "cell_type": "code",
   "execution_count": 5,
   "metadata": {},
   "outputs": [
    {
     "name": "stdout",
     "output_type": "stream",
     "text": [
      "Found 2000 images belonging to 2 classes.\n",
      "Found 1500 images belonging to 2 classes.\n"
     ]
    }
   ],
   "source": [
    "# Data preprocessing\n",
    "from keras.preprocessing.image import ImageDataGenerator\n",
    "\n",
    "train_datagen = ImageDataGenerator(rescale=1./255)\n",
    "test_datagen = ImageDataGenerator(rescale=1./255)\n",
    "\n",
    "train_generator = train_datagen.flow_from_directory(\n",
    "                'cats_and_dogs_small/train',\n",
    "                target_size=(150,150),\n",
    "                batch_size = 20,\n",
    "                class_mode = 'binary')\n",
    "\n",
    "validation_generator = test_datagen.flow_from_directory(\n",
    "                'cats_and_dogs_small/validation',\n",
    "                target_size=(150,150),\n",
    "                batch_size=20,\n",
    "                class_mode='binary')"
   ]
  },
  {
   "cell_type": "code",
   "execution_count": 6,
   "metadata": {},
   "outputs": [
    {
     "name": "stdout",
     "output_type": "stream",
     "text": [
      "Epoch 1/30\n",
      "100/100 [==============================] - 168s 2s/step - loss: 0.9699 - acc: 0.5050 - val_loss: 0.6981 - val_acc: 0.3367\n",
      "Epoch 2/30\n",
      "100/100 [==============================] - 161s 2s/step - loss: 0.7067 - acc: 0.5665 - val_loss: 0.6298 - val_acc: 0.6673\n",
      "Epoch 3/30\n",
      "100/100 [==============================] - 157s 2s/step - loss: 0.6605 - acc: 0.6230 - val_loss: 0.6761 - val_acc: 0.5347\n",
      "Epoch 4/30\n",
      "100/100 [==============================] - 163s 2s/step - loss: 0.6072 - acc: 0.6805 - val_loss: 0.5126 - val_acc: 0.7507\n",
      "Epoch 5/30\n",
      "100/100 [==============================] - 159s 2s/step - loss: 0.5618 - acc: 0.7145 - val_loss: 0.5579 - val_acc: 0.7247\n",
      "Epoch 6/30\n",
      "100/100 [==============================] - 156s 2s/step - loss: 0.4890 - acc: 0.7730 - val_loss: 0.4508 - val_acc: 0.8020\n",
      "Epoch 7/30\n",
      "100/100 [==============================] - 165s 2s/step - loss: 0.4475 - acc: 0.7910 - val_loss: 0.4180 - val_acc: 0.8187\n",
      "Epoch 8/30\n",
      "100/100 [==============================] - 165s 2s/step - loss: 0.3911 - acc: 0.8200 - val_loss: 0.4026 - val_acc: 0.8333\n",
      "Epoch 9/30\n",
      "100/100 [==============================] - 170s 2s/step - loss: 0.3204 - acc: 0.8630 - val_loss: 0.3903 - val_acc: 0.8360\n",
      "Epoch 10/30\n",
      "100/100 [==============================] - 170s 2s/step - loss: 0.2591 - acc: 0.8885 - val_loss: 0.3727 - val_acc: 0.8813\n",
      "Epoch 11/30\n",
      "100/100 [==============================] - 160s 2s/step - loss: 0.2184 - acc: 0.9120 - val_loss: 0.3334 - val_acc: 0.8807\n",
      "Epoch 12/30\n",
      "100/100 [==============================] - 160s 2s/step - loss: 0.1639 - acc: 0.9350 - val_loss: 0.4263 - val_acc: 0.8467\n",
      "Epoch 13/30\n",
      "100/100 [==============================] - 160s 2s/step - loss: 0.1596 - acc: 0.9405 - val_loss: 0.4388 - val_acc: 0.8960\n",
      "Epoch 14/30\n",
      "100/100 [==============================] - 164s 2s/step - loss: 0.1438 - acc: 0.9530 - val_loss: 0.3965 - val_acc: 0.9040\n",
      "Epoch 15/30\n",
      "100/100 [==============================] - 156s 2s/step - loss: 0.1072 - acc: 0.9605 - val_loss: 0.4249 - val_acc: 0.9020\n",
      "Epoch 16/30\n",
      "100/100 [==============================] - 165s 2s/step - loss: 0.1032 - acc: 0.9670 - val_loss: 0.4832 - val_acc: 0.9040\n",
      "Epoch 17/30\n",
      "100/100 [==============================] - 160s 2s/step - loss: 0.0902 - acc: 0.9705 - val_loss: 0.7821 - val_acc: 0.8933\n",
      "Epoch 18/30\n",
      "100/100 [==============================] - 160s 2s/step - loss: 0.1218 - acc: 0.9670 - val_loss: 0.7679 - val_acc: 0.8220\n",
      "Epoch 19/30\n",
      "100/100 [==============================] - 160s 2s/step - loss: 0.0894 - acc: 0.9755 - val_loss: 0.4976 - val_acc: 0.9247\n",
      "Epoch 20/30\n",
      "100/100 [==============================] - 160s 2s/step - loss: 0.1098 - acc: 0.9750 - val_loss: 0.6450 - val_acc: 0.9067\n",
      "Epoch 21/30\n",
      "100/100 [==============================] - 160s 2s/step - loss: 0.1750 - acc: 0.9735 - val_loss: 0.8646 - val_acc: 0.8947\n",
      "Epoch 22/30\n",
      "100/100 [==============================] - 158s 2s/step - loss: 0.0868 - acc: 0.9780 - val_loss: 0.5774 - val_acc: 0.9080\n",
      "Epoch 23/30\n",
      "100/100 [==============================] - 158s 2s/step - loss: 0.1085 - acc: 0.9715 - val_loss: 0.7261 - val_acc: 0.9053\n",
      "Epoch 24/30\n",
      "100/100 [==============================] - 158s 2s/step - loss: 0.1048 - acc: 0.9755 - val_loss: 1.1613 - val_acc: 0.8287\n",
      "Epoch 25/30\n",
      "100/100 [==============================] - 158s 2s/step - loss: 0.0390 - acc: 0.9895 - val_loss: 0.8791 - val_acc: 0.9020\n",
      "Epoch 26/30\n",
      "100/100 [==============================] - 158s 2s/step - loss: 0.1095 - acc: 0.9810 - val_loss: 0.6935 - val_acc: 0.9227\n",
      "Epoch 27/30\n",
      "100/100 [==============================] - 1008s 10s/step - loss: 0.0702 - acc: 0.9825 - val_loss: 1.1153 - val_acc: 0.8613\n",
      "Epoch 28/30\n",
      "100/100 [==============================] - 158s 2s/step - loss: 0.1060 - acc: 0.9855 - val_loss: 1.7129 - val_acc: 0.8327\n",
      "Epoch 29/30\n",
      "100/100 [==============================] - 157s 2s/step - loss: 0.1011 - acc: 0.9840 - val_loss: 0.8333 - val_acc: 0.9213\n",
      "Epoch 30/30\n",
      "100/100 [==============================] - 158s 2s/step - loss: 0.1033 - acc: 0.9825 - val_loss: 0.9137 - val_acc: 0.9047\n"
     ]
    }
   ],
   "source": [
    "history = model.fit_generator(\n",
    "        train_generator,\n",
    "        steps_per_epoch=100,\n",
    "        epochs=30,\n",
    "        validation_data=validation_generator,\n",
    "        validation_steps=50)"
   ]
  },
  {
   "cell_type": "code",
   "execution_count": null,
   "metadata": {},
   "outputs": [],
   "source": []
  }
 ],
 "metadata": {
  "kernelspec": {
   "display_name": "Python 3",
   "language": "python",
   "name": "python3"
  },
  "language_info": {
   "codemirror_mode": {
    "name": "ipython",
    "version": 3
   },
   "file_extension": ".py",
   "mimetype": "text/x-python",
   "name": "python",
   "nbconvert_exporter": "python",
   "pygments_lexer": "ipython3",
   "version": "3.6.5"
  }
 },
 "nbformat": 4,
 "nbformat_minor": 2
}
