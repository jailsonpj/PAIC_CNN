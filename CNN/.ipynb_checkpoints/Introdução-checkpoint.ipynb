{
 "cells": [
  {
   "cell_type": "markdown",
   "metadata": {},
   "source": [
    "# Rede Neural Convolucional"
   ]
  },
  {
   "cell_type": "markdown",
   "metadata": {},
   "source": [
    "Redes Neurais Convolucionais (também chamadas de ConvNet) alavancam informações e são, portanto, muito adequadas para classificar imagens. Essas redes usam uma arquitetura ad hoc inspirada em dados biológicos retirados de dados fisiológicos esperimentos feitos no córtex visual. Como discutido, nossa visão é baseada em múltiplos níveis de córtex, cada um reconhecendo cada vez mais informação. Primeiro, vemos pixels únicos; então deles, nós reconhecemos simples formas geométricas. E então mais e mais elementos sofisticados, como obejtos, rostos, corpos humanos , animais e assim por diante."
   ]
  },
  {
   "cell_type": "markdown",
   "metadata": {},
   "source": [
    "Uma Rede Neural Convolucional Profunda (DCNN) consiste em muitas camadas de rede. Dois tipos diferentes de camadas, convolucional e pooling , são normalmente alternado. A profundidade de cada filtro aumenta da esquerda paraa a direita na rede. O ultimo estágio é tipicamente feito de uma ou mais camadas totalmente conectadas.\n",
    "\n",
    "Existem três intuições chave além do ConvNet:\n",
    "- Campos receptivos locais\n",
    "- Pesos compartilhados \n",
    "- Pooling"
   ]
  },
  {
   "cell_type": "markdown",
   "metadata": {},
   "source": [
    "# Campos Receptivos Locais\n",
    "\n",
    "Se queremos preservar a informação espacial, então é conveniente representar cada imagem com uma matriz de pixels. Então, uma maneira simples de codificar a estrutura local é conectar uma submatriz de neurônios de entrada adjacentes em um único oculto\n",
    "neurônio pertencente à próxima camada. Esse único neurônio oculto representa um campo receptivo local. Note que esta operação é chamada de convolução e dá o nome para esse tipo de rede."
   ]
  },
  {
   "cell_type": "markdown",
   "metadata": {},
   "source": [
    "# Pesos e Viés Compartilhados\n",
    "\n",
    "Vamos supor que queremos nos afastar da representação de pixels em uma linha ganhando a capacidade de detectar o mesmo recurso independentemente do local onde é colocado na imagem de entrada. Uma intuição simples é usar o mesmo conjunto de pesos e bias para todos os neurônios nas camadas ocultas. Desta forma, cada camada aprenderá um conjunto de recursos latentes independentes da posição derivada da imagem"
   ]
  },
  {
   "cell_type": "code",
   "execution_count": null,
   "metadata": {},
   "outputs": [],
   "source": []
  }
 ],
 "metadata": {
  "kernelspec": {
   "display_name": "Python 3",
   "language": "python",
   "name": "python3"
  },
  "language_info": {
   "codemirror_mode": {
    "name": "ipython",
    "version": 3
   },
   "file_extension": ".py",
   "mimetype": "text/x-python",
   "name": "python",
   "nbconvert_exporter": "python",
   "pygments_lexer": "ipython3",
   "version": "3.6.6"
  }
 },
 "nbformat": 4,
 "nbformat_minor": 2
}
