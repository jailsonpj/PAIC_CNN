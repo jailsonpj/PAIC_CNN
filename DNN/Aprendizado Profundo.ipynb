{
 "cells": [
  {
   "cell_type": "markdown",
   "metadata": {},
   "source": [
    "# O que é o Aprendizado Profundo"
   ]
  },
  {
   "cell_type": "markdown",
   "metadata": {},
   "source": [
    "A aprendizagem profunda é uma área de pesquisa em aprendizado de máquina baseada em um tipo particular de mecanismo de aprendizado. É caracterizada pelo esforço de criar um modelo de aprendizagem em vários níveis, em que os níveis mais profundos tomam como entrada os outputs dos níveis anteriores, transformando-os e sempre abstraindo mais. Essa percepção dos níveis de aprendizado é inspirada na forma como o cérebro processa informações e aprende, respondendo a estímulos externos."
   ]
  },
  {
   "cell_type": "markdown",
   "metadata": {},
   "source": [
    "# Como o cérebro funciona"
   ]
  },
  {
   "cell_type": "markdown",
   "metadata": {},
   "source": [
    "O córtex visual, que se destina a resolver problemas de reconhecimento de imagem, ostra uma sequência de setores colocados em uma hierarquia. Cada uma dessas áreas recebe uma representação de entrada, por meio de sinais de fluxo que a conectam a outros setores.\n",
    "\n",
    "Cada níve dessa hierarquia represnta um nível diferente de abstração , com os recursos mais abstratos definidos em termos daqueles do nível inferior. No momento em que o cérebro recebe uma imagem de entrada, o processamento passa por várias fases, por exemplo, a detecção das bordas ou a percepeção de formas.\n",
    "\n",
    "A medida que o cérebro aprende por julgamento e ativa novos neurônios aprendendo com a experiência, mesmo em arquiteturas de aprendizagem profunda, os estágios ou camadas de extração são aterados com base nas informações recebidas na entrada.\n",
    "\n",
    "Um sistema de classificação de imagens , cada bloco extrai gradualmente as características da imagem de entrada, passando a processar dados já pré-processados dos blocos anteriores, extraindo caracteristicas da imagem que são cada vez mais abstratas e , portanto, constroem a representação hierárquica de dados que vem com um sistema baseado em aprendizagem profunda."
   ]
  },
  {
   "cell_type": "markdown",
   "metadata": {},
   "source": [
    "# Problemas abordados"
   ]
  },
  {
   "cell_type": "markdown",
   "metadata": {},
   "source": [
    "A aprendizagem profunda é empregada no desenvolvimento de sistemas de reconhecimento de fala, nos padrões de busca e , principalmente, no reconhecimento de imagens, graças ás suas caracteristicas de aprendizagem por niveis, que permitem focar, passo a passo, nas várias áreas de uma imagem a ser processada e classificada."
   ]
  },
  {
   "cell_type": "markdown",
   "metadata": {},
   "source": [
    "# Como uma rede neural artificial aprende?"
   ]
  },
  {
   "cell_type": "markdown",
   "metadata": {},
   "source": [
    "O processo de aprendizagem de uma rede neural é configurado como um processo iterativo de otimização dos pesos e, portanto, é do tipo supervisionado. Os pesos são modificados com base no desempenho da rede em um conjunto de exemplos pertencentes ao conjunto de treinamento, no qual a categoria à qual pertencem é conhecida. O obejtivo é minimizar uma função de perda, que ndica o grau em que o comportamento da rede se desvia do desejado. O desempenho da rede é então verificado em um conjunto de testes que consiste em objetos (por exemplo, imagens em um problema de classificação de imagens) diferentes daqueles do conjunto de treinamento."
   ]
  },
  {
   "cell_type": "code",
   "execution_count": null,
   "metadata": {},
   "outputs": [],
   "source": []
  }
 ],
 "metadata": {
  "kernelspec": {
   "display_name": "Python 3",
   "language": "python",
   "name": "python3"
  },
  "language_info": {
   "codemirror_mode": {
    "name": "ipython",
    "version": 3
   },
   "file_extension": ".py",
   "mimetype": "text/x-python",
   "name": "python",
   "nbconvert_exporter": "python",
   "pygments_lexer": "ipython3",
   "version": "3.6.5"
  }
 },
 "nbformat": 4,
 "nbformat_minor": 2
}
