{
 "cells": [
  {
   "cell_type": "markdown",
   "metadata": {},
   "source": [
    "# Arquitetura de redes neurais"
   ]
  },
  {
   "cell_type": "markdown",
   "metadata": {},
   "source": [
    "A maneira de conectar os n ós , o número de camadas presentes, isto é, os níveis de nós entre a entrada e a saída e o número de neurônios por camada, define a arquitetura de uma rede neural. Existem vários tipos de arquitetura em rede neurais."
   ]
  },
  {
   "cell_type": "markdown",
   "metadata": {},
   "source": [
    "# Perceptron Multicamada"
   ]
  },
  {
   "cell_type": "markdown",
   "metadata": {},
   "source": [
    "Em redes multicamdas , pode-se identificar os neurônios artificiais de camdas de forma que:\n",
    "\n",
    "- cada neurônio está conectado com todos aqueles da próxima camada\n",
    "- Não há conexões entre neur~onios pertencentes à mesma camada\n",
    "- Não há conexões entre os neurônios pertencentes a camadas não adjacentes\n",
    "- O número de camdas e de neurônios por camada depende do problema a ser resolvido.\n",
    "\n",
    "A camada de entrada e saída definem entradas e saídas; Existem camadas ocultas, cuja complexidade realiza diferentes comportamentos da rede. Finalmente, as conexões entre os neurônios são representadas por tantas matrizes que são pares de camadas adjacentes. Cada matriz contém os pesos das conexões entre os pares de nós de duas camadas adjacentes.\n",
    "As redes de feed-forward são redes sem loops dentro das camadas."
   ]
  },
  {
   "cell_type": "markdown",
   "metadata": {},
   "source": [
    "# Redes Neurais Profundas (DNNs)"
   ]
  },
  {
   "cell_type": "markdown",
   "metadata": {},
   "source": [
    "São redes neurais fortemente orientadas para o apredizado profundo. Onde os procedimentos nosmais de análise são inaplicáveis devido a complexidade dos dados a serem processados, essas redes são uma excelente ferramenta de modelagem. As DNNs são redes neurais, muito semelhantes às de modelos simples mas devem implementar um modelo mais complexo (um grande número de neurônios, camadas ocultas e conexões), embora sigam os princípios de aprendizado que se aplica a todos os problemas de aprendizado de máquina (que é , apredizagem supervisionada).\n",
    "\n",
    "Por fim , para serem produtivos, os DNNs exigem treianmento adequado aos pesos. O treinamento pode levar muito tempo se os dados a serem axaminados e as variaveis envolvidas forem altos, como costuma ser o caso quando se tenta obeter um me"
   ]
  }
 ],
 "metadata": {
  "kernelspec": {
   "display_name": "Python 3",
   "language": "python",
   "name": "python3"
  },
  "language_info": {
   "codemirror_mode": {
    "name": "ipython",
    "version": 3
   },
   "file_extension": ".py",
   "mimetype": "text/x-python",
   "name": "python",
   "nbconvert_exporter": "python",
   "pygments_lexer": "ipython3",
   "version": "3.6.6"
  }
 },
 "nbformat": 4,
 "nbformat_minor": 2
}
