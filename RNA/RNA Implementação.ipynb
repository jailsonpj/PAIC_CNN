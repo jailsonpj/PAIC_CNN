{
 "cells": [
  {
   "cell_type": "code",
   "execution_count": 12,
   "metadata": {},
   "outputs": [
    {
     "name": "stdout",
     "output_type": "stream",
     "text": [
      "(60000, 28, 28)\n",
      "[5 0 4 ... 5 6 8]\n",
      "(10000, 28, 28)\n",
      "[7 2 1 ... 4 5 6]\n"
     ]
    }
   ],
   "source": [
    "from keras.datasets import mnist\n",
    "from keras.models import Sequential\n",
    "from keras.layers.core import Dense,Dropout,Activation\n",
    "(X_train,y_train), (X_test,y_test) = mnist.load_data()\n",
    "\n",
    "#Regularização\n",
    "from keras import regularizers \n",
    "\n",
    "model.add(Dense(64,input_dim=64,kernel_regularizer=regularizers.l2(0.01)))\n",
    "\n",
    "#dados de treinamento\n",
    "print(X_train.shape)\n",
    "print(y_train)\n",
    "\n",
    "#dados de teste\n",
    "print(X_test.shape)\n",
    "print(y_test)"
   ]
  },
  {
   "cell_type": "markdown",
   "metadata": {},
   "source": [
    "# Arquitetura da Rede"
   ]
  },
  {
   "cell_type": "code",
   "execution_count": 13,
   "metadata": {},
   "outputs": [
    {
     "name": "stdout",
     "output_type": "stream",
     "text": [
      "_________________________________________________________________\n",
      "Layer (type)                 Output Shape              Param #   \n",
      "=================================================================\n",
      "dense_5 (Dense)              (None, 128)               100480    \n",
      "_________________________________________________________________\n",
      "activation_4 (Activation)    (None, 128)               0         \n",
      "_________________________________________________________________\n",
      "dropout_3 (Dropout)          (None, 128)               0         \n",
      "_________________________________________________________________\n",
      "dense_6 (Dense)              (None, 128)               16512     \n",
      "_________________________________________________________________\n",
      "activation_5 (Activation)    (None, 128)               0         \n",
      "_________________________________________________________________\n",
      "dropout_4 (Dropout)          (None, 128)               0         \n",
      "_________________________________________________________________\n",
      "dense_7 (Dense)              (None, 10)                1290      \n",
      "_________________________________________________________________\n",
      "activation_6 (Activation)    (None, 10)                0         \n",
      "=================================================================\n",
      "Total params: 118,282\n",
      "Trainable params: 118,282\n",
      "Non-trainable params: 0\n",
      "_________________________________________________________________\n"
     ]
    }
   ],
   "source": [
    "from keras import models\n",
    "from keras import layers\n",
    "from keras import optimizers\n",
    "RESHAPED = (28*28)\n",
    "N_HIDDEN = 128\n",
    "DROPOUT = 0.3\n",
    "NB_CLASSES = 10\n",
    "VERBOSE = 1\n",
    "VALIDATION_SPLIT = 0.2\n",
    "#otimização\n",
    "adam = optimizers.Adam(lr=0.001,beta_1=0.9,beta_2=0.999,epsilon=None,decay=0.0,amsgrad=False)\n",
    "\n",
    "model =  models.Sequential()\n",
    "\n",
    "model.add(Dense(N_HIDDEN,input_shape=(RESHAPED,)))\n",
    "model.add(Activation('relu'))\n",
    "model.add(Dropout(DROPOUT))\n",
    "model.add(Dense(N_HIDDEN))\n",
    "model.add(Activation('relu'))\n",
    "model.add(Dropout(DROPOUT))\n",
    "model.add(Dense(NB_CLASSES))\n",
    "model.add(Activation('softmax'))\n",
    "\n",
    "model.summary()\n",
    "\n",
    "\n",
    "#The Compile step\n",
    "model.compile(optimizer=adam,\n",
    "               loss='categorical_crossentropy',\n",
    "               metrics=['accuracy'])"
   ]
  },
  {
   "cell_type": "markdown",
   "metadata": {},
   "source": [
    "# Pré processamento dos dados"
   ]
  },
  {
   "cell_type": "code",
   "execution_count": 14,
   "metadata": {},
   "outputs": [],
   "source": [
    "X_train = X_train.reshape((60000,RESHAPED))\n",
    "X_train = X_train.astype('float32') /255\n",
    "\n",
    "X_test = X_test.reshape((10000,RESHAPED))\n",
    "X_test = X_test.astype('float32') /255"
   ]
  },
  {
   "cell_type": "code",
   "execution_count": 15,
   "metadata": {},
   "outputs": [],
   "source": [
    "#codificando os rótulos\n",
    "from keras.utils import to_categorical\n",
    "\n",
    "Y_train = to_categorical(y_train)\n",
    "Y_test = to_categorical(y_test)"
   ]
  },
  {
   "cell_type": "markdown",
   "metadata": {},
   "source": [
    "# Treinando o Modelo"
   ]
  },
  {
   "cell_type": "code",
   "execution_count": 16,
   "metadata": {},
   "outputs": [
    {
     "name": "stdout",
     "output_type": "stream",
     "text": [
      "Train on 48000 samples, validate on 12000 samples\n",
      "Epoch 1/20\n",
      "48000/48000 [==============================] - 2s 36us/step - loss: 0.5203 - acc: 0.8421 - val_loss: 0.1870 - val_acc: 0.9457\n",
      "Epoch 2/20\n",
      "48000/48000 [==============================] - 1s 29us/step - loss: 0.2322 - acc: 0.9312 - val_loss: 0.1405 - val_acc: 0.9571\n",
      "Epoch 3/20\n",
      "48000/48000 [==============================] - 1s 30us/step - loss: 0.1791 - acc: 0.9472 - val_loss: 0.1160 - val_acc: 0.9653\n",
      "Epoch 4/20\n",
      "48000/48000 [==============================] - 1s 29us/step - loss: 0.1513 - acc: 0.9552 - val_loss: 0.1016 - val_acc: 0.9694\n",
      "Epoch 5/20\n",
      "48000/48000 [==============================] - 1s 29us/step - loss: 0.1304 - acc: 0.9621 - val_loss: 0.0976 - val_acc: 0.9710\n",
      "Epoch 6/20\n",
      "48000/48000 [==============================] - 1s 29us/step - loss: 0.1165 - acc: 0.9648 - val_loss: 0.0911 - val_acc: 0.9730\n",
      "Epoch 7/20\n",
      "48000/48000 [==============================] - 1s 29us/step - loss: 0.1053 - acc: 0.9676 - val_loss: 0.0883 - val_acc: 0.9744\n",
      "Epoch 8/20\n",
      "48000/48000 [==============================] - 1s 29us/step - loss: 0.0962 - acc: 0.9698 - val_loss: 0.0829 - val_acc: 0.9750\n",
      "Epoch 9/20\n",
      "48000/48000 [==============================] - 1s 29us/step - loss: 0.0891 - acc: 0.9719 - val_loss: 0.0838 - val_acc: 0.9759\n",
      "Epoch 10/20\n",
      "48000/48000 [==============================] - 1s 29us/step - loss: 0.0836 - acc: 0.9743 - val_loss: 0.0804 - val_acc: 0.9763\n",
      "Epoch 11/20\n",
      "48000/48000 [==============================] - 1s 29us/step - loss: 0.0801 - acc: 0.9753 - val_loss: 0.0813 - val_acc: 0.9756\n",
      "Epoch 12/20\n",
      "48000/48000 [==============================] - 1s 29us/step - loss: 0.0757 - acc: 0.9759 - val_loss: 0.0777 - val_acc: 0.9785\n",
      "Epoch 13/20\n",
      "48000/48000 [==============================] - 1s 29us/step - loss: 0.0700 - acc: 0.9778 - val_loss: 0.0800 - val_acc: 0.9760\n",
      "Epoch 14/20\n",
      "48000/48000 [==============================] - 1s 29us/step - loss: 0.0651 - acc: 0.9793 - val_loss: 0.0842 - val_acc: 0.9753\n",
      "Epoch 15/20\n",
      "48000/48000 [==============================] - 1s 29us/step - loss: 0.0652 - acc: 0.9789 - val_loss: 0.0798 - val_acc: 0.9771\n",
      "Epoch 16/20\n",
      "48000/48000 [==============================] - 1s 29us/step - loss: 0.0606 - acc: 0.9805 - val_loss: 0.0858 - val_acc: 0.9778\n",
      "Epoch 17/20\n",
      "48000/48000 [==============================] - 1s 29us/step - loss: 0.0587 - acc: 0.9808 - val_loss: 0.0747 - val_acc: 0.9782\n",
      "Epoch 18/20\n",
      "48000/48000 [==============================] - 1s 29us/step - loss: 0.0565 - acc: 0.9818 - val_loss: 0.0780 - val_acc: 0.9790\n",
      "Epoch 19/20\n",
      "48000/48000 [==============================] - 1s 29us/step - loss: 0.0572 - acc: 0.9817 - val_loss: 0.0750 - val_acc: 0.9787\n",
      "Epoch 20/20\n",
      "48000/48000 [==============================] - 1s 29us/step - loss: 0.0561 - acc: 0.9813 - val_loss: 0.0771 - val_acc: 0.9788\n",
      "10000/10000 [==============================] - 0s 33us/step\n",
      "test_acc: 0.9778\n"
     ]
    }
   ],
   "source": [
    "model.fit(X_train,Y_train,epochs=20,batch_size=128,\n",
    "            verbose=VERBOSE,validation_split=VALIDATION_SPLIT)\n",
    "\n",
    "test_loss , test_acc = model.evaluate(X_test,Y_test)\n",
    "print('test_acc:',test_acc)"
   ]
  },
  {
   "cell_type": "code",
   "execution_count": 17,
   "metadata": {},
   "outputs": [
    {
     "name": "stdout",
     "output_type": "stream",
     "text": [
      "TEst score:  0.07701915089370741\n"
     ]
    }
   ],
   "source": [
    "print('TEst score: ', test_loss)"
   ]
  },
  {
   "cell_type": "code",
   "execution_count": null,
   "metadata": {},
   "outputs": [],
   "source": []
  }
 ],
 "metadata": {
  "kernelspec": {
   "display_name": "Python 3",
   "language": "python",
   "name": "python3"
  },
  "language_info": {
   "codemirror_mode": {
    "name": "ipython",
    "version": 3
   },
   "file_extension": ".py",
   "mimetype": "text/x-python",
   "name": "python",
   "nbconvert_exporter": "python",
   "pygments_lexer": "ipython3",
   "version": "3.6.6"
  }
 },
 "nbformat": 4,
 "nbformat_minor": 2
}
