{
 "cells": [
  {
   "cell_type": "markdown",
   "metadata": {},
   "source": [
    "# Redes Neurais Artificiais"
   ]
  },
  {
   "cell_type": "markdown",
   "metadata": {},
   "source": [
    "RNAs são sistemas paralelos distribuídos compostos por unidades de processamento simples(nodos) que calculam determinadas funções matemáticas (normalmente não-lineares). Tais unidades são dispostas em uma ou mais camadas e interligadas por um grande número de conexões, geralmente unidirecionais. Na maioria dos modelos estas conexões estão associadas a pesos, os quais armazenam o conhecimento representado no modelo e servem para ponderar a entrada recebida por cada neurônio da rede. \n",
    "\n",
    "Em RNAs, o procedimento usual na solução de problemas passa inicialmente por uma fase de aprendizagem, em que um conjunto de exemplos é apresentado para a rede, a qual extrai automaticamente as caracteristicas necessárias para representar a informação fornecida.\n",
    "\n",
    "A capacidade de aprender através de exemplos e de generaliza a informação aprendida é , sem dúvida, o atrativo principal da solução de problemas através de RNAs. A generalização, que está associada à capacidade de a rede aprender através de um conjunto reduzido de exemplos e posteriormente dar respostas coerentes para dados não-conhecidos."
   ]
  },
  {
   "cell_type": "markdown",
   "metadata": {},
   "source": [
    "# Neurônios artificiais: modelo MCP"
   ]
  },
  {
   "cell_type": "markdown",
   "metadata": {},
   "source": [
    "O modelo proposto por McCulloch e Pitts é uma simplificação do que se sabia então a respeito do neurônio biológico. Sua descrição matemática resultou em um modelo com n terminais de entrada x1,x2,x3,...,xn (que representam os dentritos) e apenas um termianl de saída y (representando o axônio). Para emular o comportamento das sinapses, os terminais de entrada do neurônio têm pesos acoplados w1,w2,...,wn cujos valores podem ser positivos ou negativos, dependendo de a sinapses correspondentes serem inibitórias ou excitatórias. O efeito de uma sinapse particular i no neurônio pós-sináptico é dado por xi.wi. Os pesos determinam \"em que grau\" o neurônio deve considerar sinais de disparo que ocorrem naquela conexão.\n",
    "\n",
    "Um neurônio biológico dispara quando a soma dos impulsos que ele recebe ultrapassa o seu limiar de excitação (threshold)."
   ]
  },
  {
   "cell_type": "markdown",
   "metadata": {},
   "source": [
    "# Correções de erros"
   ]
  },
  {
   "cell_type": "markdown",
   "metadata": {},
   "source": [
    "A adaptação por correção de erros procura minimizar a diferença entre a soma ponderada das entradas (saída calculada pela rede) e a saída desejada, ou seja, o erro da resposta atual da rede. O termo e(t) do erro deve ser escrito como:\n",
    "    e(t) = d(t) - y(t)\n",
    "onde d(t) é a saída desejada e y(t) é a resposta atual(calculada) no instante de tempo t. A forma genérica para alteração dos pesos por correção de erros é a seguinte:\n",
    "    wi(t+1) = wi(t) + N.e(t).xi(t)\n",
    "onde N é a taxa de aprendizado e xi(t) é a entrada para o neurônio i no tempo t."
   ]
  },
  {
   "cell_type": "markdown",
   "metadata": {},
   "source": [
    "# Funções de Ativação"
   ]
  },
  {
   "cell_type": "markdown",
   "metadata": {},
   "source": [
    "A função de ativação é responsável por gerar a saída Y de um neurônio a partir dos vetores de peso w = (w1,w2,...wn) e de entrada x = (x1,x2,...,xn)."
   ]
  },
  {
   "cell_type": "markdown",
   "metadata": {},
   "source": [
    "# Aprendizado"
   ]
  },
  {
   "cell_type": "markdown",
   "metadata": {},
   "source": [
    "Uma das caracteristicas mais importantes das RNAs é a sua capacidade de aprender por meio de exemplos. A etapa de aprendizado de uma RNA consiste em um processo iterativo de ajuste de parâmetros da rede, os pesos das conexões, que guardam, ao final do processo, o conhecimento que a rede adquiriu do ambiente externo.\n",
    "\n",
    "O conceito de aprendizado está relacionado com a melhoria do desempenho da rede segundo o critério preestabelecido. O erro quadrático médio da resposta da rede em relação ao conjunto de dados fornecido pelo ambiente, por exemplo, é utilizado como critério de desempenho pelos algoritmos de correção de erros. Assim que estes algoritmos são utilizados na fase de treinamento de RNAs, espera-se que o erro diminua à medida que o aprendizado prossiga."
   ]
  },
  {
   "cell_type": "code",
   "execution_count": null,
   "metadata": {},
   "outputs": [],
   "source": []
  }
 ],
 "metadata": {
  "kernelspec": {
   "display_name": "Python 3",
   "language": "python",
   "name": "python3"
  },
  "language_info": {
   "codemirror_mode": {
    "name": "ipython",
    "version": 3
   },
   "file_extension": ".py",
   "mimetype": "text/x-python",
   "name": "python",
   "nbconvert_exporter": "python",
   "pygments_lexer": "ipython3",
   "version": "3.6.5"
  }
 },
 "nbformat": 4,
 "nbformat_minor": 2
}
