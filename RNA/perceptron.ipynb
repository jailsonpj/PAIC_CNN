{
 "cells": [
  {
   "cell_type": "markdown",
   "metadata": {},
   "source": [
    "# Classificador baseado em Perceptron"
   ]
  },
  {
   "cell_type": "markdown",
   "metadata": {},
   "source": [
    "Um Perceptron é o bloco de construção de uma rede neural artificial. É um único neurônio que recebe entradas, realiza cálculos e produz uma saída. Ele usa uma função linear simples para tomar decisão. "
   ]
  },
  {
   "cell_type": "code",
   "execution_count": 1,
   "metadata": {},
   "outputs": [
    {
     "name": "stderr",
     "output_type": "stream",
     "text": [
      "Using TensorFlow backend.\n"
     ]
    }
   ],
   "source": [
    "from __future__ import print_function\n",
    "import numpy as np\n",
    "from keras.datasets import mnist\n",
    "from keras.models import Sequential\n",
    "from keras.layers.core import Dense, Activation\n",
    "from keras.optimizers import SGD\n",
    "from keras.utils import np_utils\n",
    "np.random.seed(1671) # for reproducibility"
   ]
  },
  {
   "cell_type": "code",
   "execution_count": 5,
   "metadata": {},
   "outputs": [],
   "source": [
    "# network and training\n",
    "NB_EPOCH = 20\n",
    "BATCH_SIZE = 128\n",
    "VERBOSE = 1\n",
    "NB_CLASSES = 10 #numero de saídas = numero \n",
    "OPTIMIZER = SGD()\n",
    "N_HIDDEN = 128\n",
    "VALIDATION_SPLIT = 0.2 # O TANTO QUE ESTÁ RESERVADO PARA VALIDAÇÃO"
   ]
  },
  {
   "cell_type": "code",
   "execution_count": 3,
   "metadata": {},
   "outputs": [
    {
     "name": "stdout",
     "output_type": "stream",
     "text": [
      "Downloading data from https://s3.amazonaws.com/img-datasets/mnist.npz\n",
      "11493376/11490434 [==============================] - 59s 5us/step\n",
      "60000 train sample\n",
      "10000 test sample\n"
     ]
    }
   ],
   "source": [
    "(X_train,y_train),(X_test,y_test) = mnist.load_data()\n",
    "\n",
    "RESHAPED = 784\n",
    "\n",
    "X_train = X_train.reshape(60000,RESHAPED)\n",
    "X_test = X_test.reshape(10000,RESHAPED)\n",
    "X_train = X_train.astype('float32')\n",
    "X_test = X_test.astype('float32')\n",
    "\n",
    "#normalize\n",
    "X_train /= 255\n",
    "X_test /= 255\n",
    "print(X_train.shape[0],'train sample')\n",
    "print(X_test.shape[0],'test sample')\n",
    "\n",
    "#convert class vectors to binary class matrices\n",
    "Y_train = np_utils.to_categorical(y_train,NB_CLASSES)\n",
    "Y_test = np_utils.to_categorical(y_test,NB_CLASSES)"
   ]
  },
  {
   "cell_type": "code",
   "execution_count": 7,
   "metadata": {},
   "outputs": [
    {
     "name": "stdout",
     "output_type": "stream",
     "text": [
      "_________________________________________________________________\n",
      "Layer (type)                 Output Shape              Param #   \n",
      "=================================================================\n",
      "dense_5 (Dense)              (None, 128)               100480    \n",
      "_________________________________________________________________\n",
      "activation_5 (Activation)    (None, 128)               0         \n",
      "_________________________________________________________________\n",
      "dense_6 (Dense)              (None, 128)               16512     \n",
      "_________________________________________________________________\n",
      "activation_6 (Activation)    (None, 128)               0         \n",
      "_________________________________________________________________\n",
      "dense_7 (Dense)              (None, 128)               16512     \n",
      "_________________________________________________________________\n",
      "activation_7 (Activation)    (None, 128)               0         \n",
      "_________________________________________________________________\n",
      "dense_8 (Dense)              (None, 10)                1290      \n",
      "_________________________________________________________________\n",
      "activation_8 (Activation)    (None, 10)                0         \n",
      "=================================================================\n",
      "Total params: 134,794\n",
      "Trainable params: 134,794\n",
      "Non-trainable params: 0\n",
      "_________________________________________________________________\n",
      "Train on 48000 samples, validate on 12000 samples\n",
      "Epoch 1/20\n",
      "48000/48000 [==============================] - 1s 29us/step - loss: 1.6047 - acc: 0.6043 - val_loss: 0.7533 - val_acc: 0.8281\n",
      "Epoch 2/20\n",
      "48000/48000 [==============================] - 1s 25us/step - loss: 0.5558 - acc: 0.8602 - val_loss: 0.4134 - val_acc: 0.8894\n",
      "Epoch 3/20\n",
      "48000/48000 [==============================] - 1s 25us/step - loss: 0.3955 - acc: 0.8911 - val_loss: 0.3409 - val_acc: 0.9037\n",
      "Epoch 4/20\n",
      "48000/48000 [==============================] - 1s 25us/step - loss: 0.3429 - acc: 0.9021 - val_loss: 0.3058 - val_acc: 0.9139\n",
      "Epoch 5/20\n",
      "48000/48000 [==============================] - 1s 24us/step - loss: 0.3121 - acc: 0.9114 - val_loss: 0.2865 - val_acc: 0.9188\n",
      "Epoch 6/20\n",
      "48000/48000 [==============================] - 1s 25us/step - loss: 0.2898 - acc: 0.9171 - val_loss: 0.2667 - val_acc: 0.9243\n",
      "Epoch 7/20\n",
      "48000/48000 [==============================] - 1s 25us/step - loss: 0.2709 - acc: 0.9221 - val_loss: 0.2551 - val_acc: 0.9281\n",
      "Epoch 8/20\n",
      "48000/48000 [==============================] - 1s 24us/step - loss: 0.2562 - acc: 0.9261 - val_loss: 0.2464 - val_acc: 0.9308\n",
      "Epoch 9/20\n",
      "48000/48000 [==============================] - 1s 25us/step - loss: 0.2426 - acc: 0.9305 - val_loss: 0.2294 - val_acc: 0.9345\n",
      "Epoch 10/20\n",
      "48000/48000 [==============================] - 1s 25us/step - loss: 0.2305 - acc: 0.9333 - val_loss: 0.2223 - val_acc: 0.9379\n",
      "Epoch 11/20\n",
      "48000/48000 [==============================] - 1s 25us/step - loss: 0.2200 - acc: 0.9365 - val_loss: 0.2121 - val_acc: 0.9406\n",
      "Epoch 12/20\n",
      "48000/48000 [==============================] - 1s 24us/step - loss: 0.2095 - acc: 0.9399 - val_loss: 0.2057 - val_acc: 0.9428\n",
      "Epoch 13/20\n",
      "48000/48000 [==============================] - 1s 24us/step - loss: 0.2006 - acc: 0.9424 - val_loss: 0.1974 - val_acc: 0.9448\n",
      "Epoch 14/20\n",
      "48000/48000 [==============================] - 1s 25us/step - loss: 0.1922 - acc: 0.9455 - val_loss: 0.1904 - val_acc: 0.9475\n",
      "Epoch 15/20\n",
      "48000/48000 [==============================] - 1s 25us/step - loss: 0.1842 - acc: 0.9469 - val_loss: 0.1861 - val_acc: 0.9480\n",
      "Epoch 16/20\n",
      "48000/48000 [==============================] - 1s 25us/step - loss: 0.1772 - acc: 0.9487 - val_loss: 0.1802 - val_acc: 0.9506\n",
      "Epoch 17/20\n",
      "48000/48000 [==============================] - 1s 25us/step - loss: 0.1700 - acc: 0.9508 - val_loss: 0.1741 - val_acc: 0.9528\n",
      "Epoch 18/20\n",
      "48000/48000 [==============================] - 1s 25us/step - loss: 0.1638 - acc: 0.9531 - val_loss: 0.1702 - val_acc: 0.9516\n",
      "Epoch 19/20\n",
      "48000/48000 [==============================] - 1s 24us/step - loss: 0.1577 - acc: 0.9540 - val_loss: 0.1665 - val_acc: 0.9535\n",
      "Epoch 20/20\n",
      "48000/48000 [==============================] - 1s 24us/step - loss: 0.1521 - acc: 0.9559 - val_loss: 0.1606 - val_acc: 0.9571\n",
      "10000/10000 [==============================] - 0s 33us/step\n",
      "Test score:  0.15781028758212923\n",
      "Test accuracy: 0.9544\n"
     ]
    }
   ],
   "source": [
    "# 10 entradas\n",
    "# função de ativação usando a softmax\n",
    "model = Sequential()\n",
    "\n",
    "model.add(Dense(N_HIDDEN,input_shape=(RESHAPED,)))\n",
    "model.add(Activation('relu'))\n",
    "\n",
    "model.add(Dense(N_HIDDEN))\n",
    "model.add(Activation('relu'))\n",
    "# Camada Extra \n",
    "model.add(Dense(N_HIDDEN))\n",
    "model.add(Activation('relu'))\n",
    "\n",
    "model.add(Dense(NB_CLASSES))\n",
    "model.add(Activation('softmax'))\n",
    "\n",
    "model.summary()\n",
    "\n",
    "model.compile(loss='categorical_crossentropy',optimizer=OPTIMIZER,metrics=['accuracy'])\n",
    "\n",
    "history = model.fit(X_train,Y_train,\n",
    "                   batch_size=BATCH_SIZE,epochs=NB_EPOCH,\n",
    "                   verbose=VERBOSE,validation_split=VALIDATION_SPLIT)\n",
    "\n",
    "\n",
    "score = model.evaluate(X_test,Y_test,verbose=VERBOSE)\n",
    "print(\"Test score: \",score[0])\n",
    "print(\"Test accuracy:\",score[1])"
   ]
  },
  {
   "cell_type": "markdown",
   "metadata": {},
   "source": [
    "# "
   ]
  }
 ],
 "metadata": {
  "kernelspec": {
   "display_name": "Python 3",
   "language": "python",
   "name": "python3"
  },
  "language_info": {
   "codemirror_mode": {
    "name": "ipython",
    "version": 3
   },
   "file_extension": ".py",
   "mimetype": "text/x-python",
   "name": "python",
   "nbconvert_exporter": "python",
   "pygments_lexer": "ipython3",
   "version": "3.6.6"
  }
 },
 "nbformat": 4,
 "nbformat_minor": 2
}
