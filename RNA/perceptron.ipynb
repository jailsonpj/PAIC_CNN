{
 "cells": [
  {
   "cell_type": "markdown",
   "metadata": {},
   "source": [
    "# Classificador baseado em Perceptron"
   ]
  },
  {
   "cell_type": "markdown",
   "metadata": {},
   "source": [
    "Um Perceptron é o bloco de construção de uma rede neural artificial. É um único neurônio que recebe entradas, realiza cálculos e produz uma saída. Ele usa uma função linear simples para tomar decisão. "
   ]
  },
  {
   "cell_type": "code",
   "execution_count": 1,
   "metadata": {},
   "outputs": [
    {
     "name": "stderr",
     "output_type": "stream",
     "text": [
      "Using TensorFlow backend.\n"
     ]
    }
   ],
   "source": [
    "from __future__ import print_function\n",
    "import numpy as np\n",
    "from keras.datasets import mnist\n",
    "from keras.models import Sequential\n",
    "from keras.layers.core import Dense, Activation\n",
    "from keras.optimizers import SGD\n",
    "from keras.utils import np_utils\n",
    "np.random.seed(1671) # for reproducibility"
   ]
  },
  {
   "cell_type": "code",
   "execution_count": 2,
   "metadata": {},
   "outputs": [],
   "source": [
    "# network and training\n",
    "NB_EPOCH = 20\n",
    "BATCH_SIZE = 128\n",
    "VERBOSE = 1\n",
    "NB_CLASSES = 10 #numero de saídas = numero de digitos \n",
    "OPTIMIZER = SGD()\n",
    "N_HIDDEN = 128\n",
    "VALIDATION_SPLIT = 0.2 # O TANTO QUE ESTÁ RESERVADO PARA VALIDAÇÃO"
   ]
  },
  {
   "cell_type": "code",
   "execution_count": 3,
   "metadata": {},
   "outputs": [
    {
     "name": "stdout",
     "output_type": "stream",
     "text": [
      "60000 train sample\n",
      "10000 test sample\n"
     ]
    }
   ],
   "source": [
    "(X_train,y_train),(X_test,y_test) = mnist.load_data()\n",
    "\n",
    "RESHAPED = 784\n",
    "\n",
    "X_train = X_train.reshape(60000,RESHAPED)\n",
    "X_test = X_test.reshape(10000,RESHAPED)\n",
    "X_train = X_train.astype('float32')\n",
    "X_test = X_test.astype('float32')\n",
    "\n",
    "#normalize\n",
    "X_train /= 255\n",
    "X_test /= 255\n",
    "print(X_train.shape[0],'train sample')\n",
    "print(X_test.shape[0],'test sample')\n",
    "\n",
    "#convert class vectors to binary class matrices\n",
    "Y_train = np_utils.to_categorical(y_train,NB_CLASSES)\n",
    "Y_test = np_utils.to_categorical(y_test,NB_CLASSES)"
   ]
  },
  {
   "cell_type": "code",
   "execution_count": 4,
   "metadata": {},
   "outputs": [
    {
     "name": "stdout",
     "output_type": "stream",
     "text": [
      "_________________________________________________________________\n",
      "Layer (type)                 Output Shape              Param #   \n",
      "=================================================================\n",
      "dense_1 (Dense)              (None, 128)               100480    \n",
      "_________________________________________________________________\n",
      "activation_1 (Activation)    (None, 128)               0         \n",
      "_________________________________________________________________\n",
      "dense_2 (Dense)              (None, 128)               16512     \n",
      "_________________________________________________________________\n",
      "activation_2 (Activation)    (None, 128)               0         \n",
      "_________________________________________________________________\n",
      "dense_3 (Dense)              (None, 128)               16512     \n",
      "_________________________________________________________________\n",
      "activation_3 (Activation)    (None, 128)               0         \n",
      "_________________________________________________________________\n",
      "dense_4 (Dense)              (None, 10)                1290      \n",
      "_________________________________________________________________\n",
      "activation_4 (Activation)    (None, 10)                0         \n",
      "=================================================================\n",
      "Total params: 134,794\n",
      "Trainable params: 134,794\n",
      "Non-trainable params: 0\n",
      "_________________________________________________________________\n",
      "Train on 48000 samples, validate on 12000 samples\n",
      "Epoch 1/20\n",
      "48000/48000 [==============================] - 2s 36us/step - loss: 1.6413 - acc: 0.5604 - val_loss: 0.8180 - val_acc: 0.8106\n",
      "Epoch 2/20\n",
      "48000/48000 [==============================] - 1s 24us/step - loss: 0.6144 - acc: 0.8380 - val_loss: 0.4514 - val_acc: 0.8742\n",
      "Epoch 3/20\n",
      "48000/48000 [==============================] - 1s 25us/step - loss: 0.4315 - acc: 0.8794 - val_loss: 0.3646 - val_acc: 0.8968\n",
      "Epoch 4/20\n",
      "48000/48000 [==============================] - 1s 25us/step - loss: 0.3670 - acc: 0.8965 - val_loss: 0.3243 - val_acc: 0.9075\n",
      "Epoch 5/20\n",
      "48000/48000 [==============================] - 1s 24us/step - loss: 0.3314 - acc: 0.9059 - val_loss: 0.2981 - val_acc: 0.9148\n",
      "Epoch 6/20\n",
      "48000/48000 [==============================] - 1s 24us/step - loss: 0.3062 - acc: 0.9122 - val_loss: 0.2774 - val_acc: 0.9208\n",
      "Epoch 7/20\n",
      "48000/48000 [==============================] - 1s 25us/step - loss: 0.2869 - acc: 0.9172 - val_loss: 0.2638 - val_acc: 0.9252\n",
      "Epoch 8/20\n",
      "48000/48000 [==============================] - 1s 24us/step - loss: 0.2701 - acc: 0.9222 - val_loss: 0.2497 - val_acc: 0.9285\n",
      "Epoch 9/20\n",
      "48000/48000 [==============================] - 1s 24us/step - loss: 0.2563 - acc: 0.9266 - val_loss: 0.2398 - val_acc: 0.9310\n",
      "Epoch 10/20\n",
      "48000/48000 [==============================] - 1s 24us/step - loss: 0.2434 - acc: 0.9294 - val_loss: 0.2301 - val_acc: 0.9339\n",
      "Epoch 11/20\n",
      "48000/48000 [==============================] - 1s 24us/step - loss: 0.2322 - acc: 0.9327 - val_loss: 0.2196 - val_acc: 0.9365\n",
      "Epoch 12/20\n",
      "48000/48000 [==============================] - 1s 24us/step - loss: 0.2214 - acc: 0.9357 - val_loss: 0.2141 - val_acc: 0.9395\n",
      "Epoch 13/20\n",
      "48000/48000 [==============================] - 1s 24us/step - loss: 0.2115 - acc: 0.9386 - val_loss: 0.2026 - val_acc: 0.9430\n",
      "Epoch 14/20\n",
      "48000/48000 [==============================] - 1s 24us/step - loss: 0.2023 - acc: 0.9413 - val_loss: 0.1979 - val_acc: 0.9444\n",
      "Epoch 15/20\n",
      "48000/48000 [==============================] - 1s 24us/step - loss: 0.1936 - acc: 0.9443 - val_loss: 0.1930 - val_acc: 0.9443\n",
      "Epoch 16/20\n",
      "48000/48000 [==============================] - 1s 24us/step - loss: 0.1859 - acc: 0.9461 - val_loss: 0.1847 - val_acc: 0.9483\n",
      "Epoch 17/20\n",
      "48000/48000 [==============================] - 1s 24us/step - loss: 0.1783 - acc: 0.9482 - val_loss: 0.1776 - val_acc: 0.9495\n",
      "Epoch 18/20\n",
      "48000/48000 [==============================] - 1s 24us/step - loss: 0.1715 - acc: 0.9505 - val_loss: 0.1720 - val_acc: 0.9522\n",
      "Epoch 19/20\n",
      "48000/48000 [==============================] - 1s 24us/step - loss: 0.1648 - acc: 0.9521 - val_loss: 0.1677 - val_acc: 0.9530\n",
      "Epoch 20/20\n",
      "48000/48000 [==============================] - 1s 24us/step - loss: 0.1588 - acc: 0.9541 - val_loss: 0.1623 - val_acc: 0.9547\n",
      "10000/10000 [==============================] - 0s 32us/step\n",
      "Test score:  0.16245804013088347\n",
      "Test accuracy: 0.9516\n",
      "[0.16245804013088347, 0.9516]\n"
     ]
    }
   ],
   "source": [
    "# 10 entradas\n",
    "# função de ativação usando a softmax\n",
    "model = Sequential()\n",
    "\n",
    "model.add(Dense(N_HIDDEN,input_shape=(RESHAPED,)))\n",
    "model.add(Activation('relu'))\n",
    "\n",
    "model.add(Dense(N_HIDDEN))\n",
    "model.add(Activation('relu'))\n",
    "# Camada Extra \n",
    "model.add(Dense(N_HIDDEN))\n",
    "model.add(Activation('relu'))\n",
    "\n",
    "model.add(Dense(NB_CLASSES))\n",
    "model.add(Activation('softmax'))\n",
    "\n",
    "model.summary()\n",
    "\n",
    "model.compile(loss='categorical_crossentropy',optimizer=OPTIMIZER,metrics=['accuracy'])\n",
    "\n",
    "history = model.fit(X_train,Y_train,\n",
    "                   batch_size=BATCH_SIZE,epochs=NB_EPOCH,\n",
    "                   verbose=VERBOSE,validation_split=VALIDATION_SPLIT)\n",
    "\n",
    "\n",
    "score = model.evaluate(X_test,Y_test,verbose=VERBOSE)\n",
    "print(\"Test score: \",score[0])\n",
    "print(\"Test accuracy:\",score[1])\n",
    "print(score)"
   ]
  },
  {
   "cell_type": "markdown",
   "metadata": {},
   "source": [
    "# "
   ]
  }
 ],
 "metadata": {
  "kernelspec": {
   "display_name": "Python 3",
   "language": "python",
   "name": "python3"
  },
  "language_info": {
   "codemirror_mode": {
    "name": "ipython",
    "version": 3
   },
   "file_extension": ".py",
   "mimetype": "text/x-python",
   "name": "python",
   "nbconvert_exporter": "python",
   "pygments_lexer": "ipython3",
   "version": "3.6.6"
  }
 },
 "nbformat": 4,
 "nbformat_minor": 2
}
