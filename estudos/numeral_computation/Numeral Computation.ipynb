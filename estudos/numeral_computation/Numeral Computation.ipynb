{
 "cells": [
  {
   "cell_type": "markdown",
   "metadata": {},
   "source": [
    "# Overflow e Underflow"
   ]
  },
  {
   "cell_type": "markdown",
   "metadata": {},
   "source": [
    "O Underflow ocorre quando os números próximos de zero são arredondados para zero. Muitas funções se comportam qualitativamente de forma diferente quando seu argumento é zero, em vez de um pequeno  número positivo. \n",
    "\n",
    "Overflow ocorre quando números com grandes magnitudes são aproximados com infinito e -infinito. Mais distantes a aritmética geralmente altera esses valores infinitos em valores não-numéricos."
   ]
  }
 ],
 "metadata": {
  "kernelspec": {
   "display_name": "Python 3",
   "language": "python",
   "name": "python3"
  },
  "language_info": {
   "codemirror_mode": {
    "name": "ipython",
    "version": 3
   },
   "file_extension": ".py",
   "mimetype": "text/x-python",
   "name": "python",
   "nbconvert_exporter": "python",
   "pygments_lexer": "ipython3",
   "version": "3.6.6"
  }
 },
 "nbformat": 4,
 "nbformat_minor": 2
}
